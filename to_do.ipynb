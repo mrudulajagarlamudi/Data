{
 "metadata": {
  "language_info": {
   "codemirror_mode": {
    "name": "ipython",
    "version": 3
   },
   "file_extension": ".py",
   "mimetype": "text/x-python",
   "name": "python",
   "nbconvert_exporter": "python",
   "pygments_lexer": "ipython3",
   "version": "3.7.6"
  },
  "orig_nbformat": 2,
  "kernelspec": {
   "name": "python376jvsc74a57bd007efdcd4b820c98a756949507a4d29d7862823915ec7477944641bea022f4f62",
   "display_name": "Python 3.7.6 64-bit ('base': conda)"
  }
 },
 "nbformat": 4,
 "nbformat_minor": 2,
 "cells": [
  {
   "source": [
    "# Importing Libraries"
   ],
   "cell_type": "markdown",
   "metadata": {}
  },
  {
   "cell_type": "code",
   "execution_count": 107,
   "metadata": {},
   "outputs": [],
   "source": [
    "import pandas as pd\n",
    "import numpy as np\n",
    "import matplotlib.pyplot as plt\n",
    "import os"
   ]
  },
  {
   "source": [
    "# Importing the data"
   ],
   "cell_type": "markdown",
   "metadata": {}
  },
  {
   "cell_type": "code",
   "execution_count": 108,
   "metadata": {},
   "outputs": [
    {
     "output_type": "execute_result",
     "data": {
      "text/plain": [
       "   Date        \\\n",
       "0  12/12/2019   \n",
       "1  12/12/2019   \n",
       "2  12/12/2019   \n",
       "3  12/12/2019   \n",
       "4  12/12/2019   \n",
       "\n",
       "  Description                                                          \\\n",
       "0  THE ROOM               GURGAON                ...                    \n",
       "1  CUT AND STYLEGURGAON                          ...                    \n",
       "2  MUMUSOGURGAON                                 ...                    \n",
       "3  THE ROOM               GURGAON                ...                    \n",
       "4  THE ROOM               GURGAON                ...                    \n",
       "\n",
       "  InternationTransactionAmount                        Category   Amount  \\\n",
       "0                            0                      Video game     -127   \n",
       "1                            0                      Occupation     -499   \n",
       "2                            0                                     -388   \n",
       "3                            0                      Video game     -108   \n",
       "4                            0                      Video game      -50   \n",
       "\n",
       "   TransactionUserName   TransactionType IsoCurrency         Locality  \\\n",
       "0         VIBHORE GOYAL         Domestic         INR  Central Park II   \n",
       "1           JASJIT KAUR         Domestic         INR         Sector 4   \n",
       "2           JASJIT KAUR         Domestic         INR        Sector 49   \n",
       "3         VIBHORE GOYAL         Domestic         INR  Central Park II   \n",
       "4         VIBHORE GOYAL         Domestic         INR  Central Park II   \n",
       "\n",
       "       City    State Country Unnamed: 12  \n",
       "0  Gurugram  Haryana   India         NaN  \n",
       "1  Gurugram  Haryana   India         NaN  \n",
       "2  Gurugram  Haryana   India         NaN  \n",
       "3  Gurugram  Haryana   India         NaN  \n",
       "4  Gurugram  Haryana   India         NaN  "
      ],
      "text/html": "<div>\n<style scoped>\n    .dataframe tbody tr th:only-of-type {\n        vertical-align: middle;\n    }\n\n    .dataframe tbody tr th {\n        vertical-align: top;\n    }\n\n    .dataframe thead th {\n        text-align: right;\n    }\n</style>\n<table border=\"1\" class=\"dataframe\">\n  <thead>\n    <tr style=\"text-align: right;\">\n      <th></th>\n      <th>Date</th>\n      <th>Description</th>\n      <th>InternationTransactionAmount</th>\n      <th>Category</th>\n      <th>Amount</th>\n      <th>TransactionUserName</th>\n      <th>TransactionType</th>\n      <th>IsoCurrency</th>\n      <th>Locality</th>\n      <th>City</th>\n      <th>State</th>\n      <th>Country</th>\n      <th>Unnamed: 12</th>\n    </tr>\n  </thead>\n  <tbody>\n    <tr>\n      <th>0</th>\n      <td>12/12/2019</td>\n      <td>THE ROOM               GURGAON                ...</td>\n      <td>0</td>\n      <td>Video game</td>\n      <td>-127</td>\n      <td>VIBHORE GOYAL</td>\n      <td>Domestic</td>\n      <td>INR</td>\n      <td>Central Park II</td>\n      <td>Gurugram</td>\n      <td>Haryana</td>\n      <td>India</td>\n      <td>NaN</td>\n    </tr>\n    <tr>\n      <th>1</th>\n      <td>12/12/2019</td>\n      <td>CUT AND STYLEGURGAON                          ...</td>\n      <td>0</td>\n      <td>Occupation</td>\n      <td>-499</td>\n      <td>JASJIT KAUR</td>\n      <td>Domestic</td>\n      <td>INR</td>\n      <td>Sector 4</td>\n      <td>Gurugram</td>\n      <td>Haryana</td>\n      <td>India</td>\n      <td>NaN</td>\n    </tr>\n    <tr>\n      <th>2</th>\n      <td>12/12/2019</td>\n      <td>MUMUSOGURGAON                                 ...</td>\n      <td>0</td>\n      <td></td>\n      <td>-388</td>\n      <td>JASJIT KAUR</td>\n      <td>Domestic</td>\n      <td>INR</td>\n      <td>Sector 49</td>\n      <td>Gurugram</td>\n      <td>Haryana</td>\n      <td>India</td>\n      <td>NaN</td>\n    </tr>\n    <tr>\n      <th>3</th>\n      <td>12/12/2019</td>\n      <td>THE ROOM               GURGAON                ...</td>\n      <td>0</td>\n      <td>Video game</td>\n      <td>-108</td>\n      <td>VIBHORE GOYAL</td>\n      <td>Domestic</td>\n      <td>INR</td>\n      <td>Central Park II</td>\n      <td>Gurugram</td>\n      <td>Haryana</td>\n      <td>India</td>\n      <td>NaN</td>\n    </tr>\n    <tr>\n      <th>4</th>\n      <td>12/12/2019</td>\n      <td>THE ROOM               GURGAON                ...</td>\n      <td>0</td>\n      <td>Video game</td>\n      <td>-50</td>\n      <td>VIBHORE GOYAL</td>\n      <td>Domestic</td>\n      <td>INR</td>\n      <td>Central Park II</td>\n      <td>Gurugram</td>\n      <td>Haryana</td>\n      <td>India</td>\n      <td>NaN</td>\n    </tr>\n  </tbody>\n</table>\n</div>"
     },
     "metadata": {},
     "execution_count": 108
    }
   ],
   "source": [
    "path = os.path.join(os.getcwd(), 'DataScienceCleanStatement.csv')\n",
    "file = pd.read_csv(path)\n",
    "file.head()"
   ]
  },
  {
   "cell_type": "code",
   "execution_count": 109,
   "metadata": {},
   "outputs": [
    {
     "output_type": "stream",
     "name": "stdout",
     "text": [
      "<class 'pandas.core.frame.DataFrame'>\nRangeIndex: 1470 entries, 0 to 1469\nData columns (total 13 columns):\n #   Column                                                               Non-Null Count  Dtype \n---  ------                                                               --------------  ----- \n 0   Date                                                                 1470 non-null   object\n 1   Description                                                          1470 non-null   object\n 2   InternationTransactionAmount                                         1470 non-null   object\n 3     Category                                                           1470 non-null   object\n 4     Amount                                                             1470 non-null   object\n 5   TransactionUserName                                                  1470 non-null   object\n 6    TransactionType                                                     1470 non-null   object\n 7   IsoCurrency                                                          1470 non-null   object\n 8   Locality                                                             1302 non-null   object\n 9   City                                                                 1270 non-null   object\n 10  State                                                                1245 non-null   object\n 11  Country                                                              1307 non-null   object\n 12  Unnamed: 12                                                          4 non-null      object\ndtypes: object(13)\nmemory usage: 149.4+ KB\n"
     ]
    }
   ],
   "source": [
    "file.info()"
   ]
  },
  {
   "cell_type": "code",
   "execution_count": 110,
   "metadata": {},
   "outputs": [],
   "source": [
    "# cols = list(file.columns)"
   ]
  },
  {
   "source": [
    "# Removing the Spaces in before and after the Column name"
   ],
   "cell_type": "markdown",
   "metadata": {}
  },
  {
   "cell_type": "code",
   "execution_count": 111,
   "metadata": {},
   "outputs": [],
   "source": [
    "cols = dict([(x,x.strip()) for x in list(file.columns)])\n",
    "file.rename(columns = cols, inplace=True)"
   ]
  },
  {
   "cell_type": "code",
   "execution_count": 112,
   "metadata": {},
   "outputs": [
    {
     "output_type": "execute_result",
     "data": {
      "text/plain": [
       "         Date                                        Description  \\\n",
       "0  12/12/2019  THE ROOM               GURGAON                ...   \n",
       "1  12/12/2019  CUT AND STYLEGURGAON                          ...   \n",
       "2  12/12/2019  MUMUSOGURGAON                                 ...   \n",
       "3  12/12/2019  THE ROOM               GURGAON                ...   \n",
       "4  12/12/2019  THE ROOM               GURGAON                ...   \n",
       "\n",
       "  InternationTransactionAmount                        Category Amount  \\\n",
       "0                            0                      Video game   -127   \n",
       "1                            0                      Occupation   -499   \n",
       "2                            0                                   -388   \n",
       "3                            0                      Video game   -108   \n",
       "4                            0                      Video game    -50   \n",
       "\n",
       "    TransactionUserName  TransactionType IsoCurrency         Locality  \\\n",
       "0         VIBHORE GOYAL         Domestic         INR  Central Park II   \n",
       "1           JASJIT KAUR         Domestic         INR         Sector 4   \n",
       "2           JASJIT KAUR         Domestic         INR        Sector 49   \n",
       "3         VIBHORE GOYAL         Domestic         INR  Central Park II   \n",
       "4         VIBHORE GOYAL         Domestic         INR  Central Park II   \n",
       "\n",
       "       City    State Country Unnamed: 12  \n",
       "0  Gurugram  Haryana   India         NaN  \n",
       "1  Gurugram  Haryana   India         NaN  \n",
       "2  Gurugram  Haryana   India         NaN  \n",
       "3  Gurugram  Haryana   India         NaN  \n",
       "4  Gurugram  Haryana   India         NaN  "
      ],
      "text/html": "<div>\n<style scoped>\n    .dataframe tbody tr th:only-of-type {\n        vertical-align: middle;\n    }\n\n    .dataframe tbody tr th {\n        vertical-align: top;\n    }\n\n    .dataframe thead th {\n        text-align: right;\n    }\n</style>\n<table border=\"1\" class=\"dataframe\">\n  <thead>\n    <tr style=\"text-align: right;\">\n      <th></th>\n      <th>Date</th>\n      <th>Description</th>\n      <th>InternationTransactionAmount</th>\n      <th>Category</th>\n      <th>Amount</th>\n      <th>TransactionUserName</th>\n      <th>TransactionType</th>\n      <th>IsoCurrency</th>\n      <th>Locality</th>\n      <th>City</th>\n      <th>State</th>\n      <th>Country</th>\n      <th>Unnamed: 12</th>\n    </tr>\n  </thead>\n  <tbody>\n    <tr>\n      <th>0</th>\n      <td>12/12/2019</td>\n      <td>THE ROOM               GURGAON                ...</td>\n      <td>0</td>\n      <td>Video game</td>\n      <td>-127</td>\n      <td>VIBHORE GOYAL</td>\n      <td>Domestic</td>\n      <td>INR</td>\n      <td>Central Park II</td>\n      <td>Gurugram</td>\n      <td>Haryana</td>\n      <td>India</td>\n      <td>NaN</td>\n    </tr>\n    <tr>\n      <th>1</th>\n      <td>12/12/2019</td>\n      <td>CUT AND STYLEGURGAON                          ...</td>\n      <td>0</td>\n      <td>Occupation</td>\n      <td>-499</td>\n      <td>JASJIT KAUR</td>\n      <td>Domestic</td>\n      <td>INR</td>\n      <td>Sector 4</td>\n      <td>Gurugram</td>\n      <td>Haryana</td>\n      <td>India</td>\n      <td>NaN</td>\n    </tr>\n    <tr>\n      <th>2</th>\n      <td>12/12/2019</td>\n      <td>MUMUSOGURGAON                                 ...</td>\n      <td>0</td>\n      <td></td>\n      <td>-388</td>\n      <td>JASJIT KAUR</td>\n      <td>Domestic</td>\n      <td>INR</td>\n      <td>Sector 49</td>\n      <td>Gurugram</td>\n      <td>Haryana</td>\n      <td>India</td>\n      <td>NaN</td>\n    </tr>\n    <tr>\n      <th>3</th>\n      <td>12/12/2019</td>\n      <td>THE ROOM               GURGAON                ...</td>\n      <td>0</td>\n      <td>Video game</td>\n      <td>-108</td>\n      <td>VIBHORE GOYAL</td>\n      <td>Domestic</td>\n      <td>INR</td>\n      <td>Central Park II</td>\n      <td>Gurugram</td>\n      <td>Haryana</td>\n      <td>India</td>\n      <td>NaN</td>\n    </tr>\n    <tr>\n      <th>4</th>\n      <td>12/12/2019</td>\n      <td>THE ROOM               GURGAON                ...</td>\n      <td>0</td>\n      <td>Video game</td>\n      <td>-50</td>\n      <td>VIBHORE GOYAL</td>\n      <td>Domestic</td>\n      <td>INR</td>\n      <td>Central Park II</td>\n      <td>Gurugram</td>\n      <td>Haryana</td>\n      <td>India</td>\n      <td>NaN</td>\n    </tr>\n  </tbody>\n</table>\n</div>"
     },
     "metadata": {},
     "execution_count": 112
    }
   ],
   "source": [
    "file.head()"
   ]
  },
  {
   "source": [
    "# Cleaning the Country Column"
   ],
   "cell_type": "markdown",
   "metadata": {}
  },
  {
   "cell_type": "code",
   "execution_count": 113,
   "metadata": {},
   "outputs": [
    {
     "output_type": "execute_result",
     "data": {
      "text/plain": [
       "Index(['India', 'Singapore', 'United States', 'Malaysia', 'Haryana',\n",
       "       'Rajasthan', 'Delhi'],\n",
       "      dtype='object')"
      ]
     },
     "metadata": {},
     "execution_count": 113
    }
   ],
   "source": [
    "l = file['Country'].value_counts().index\n",
    "l"
   ]
  },
  {
   "cell_type": "code",
   "execution_count": 114,
   "metadata": {},
   "outputs": [],
   "source": [
    "filter1 = file['Country'] == 'Haryana'\n",
    "filter2 = file['Country'] == 'Delhi'\n",
    "filter3 = file['Country'] == 'Rajasthan'\n",
    "file['Country'].where((~(filter1 | filter2 | filter3)), 'India', inplace = True )"
   ]
  },
  {
   "cell_type": "code",
   "execution_count": 115,
   "metadata": {},
   "outputs": [
    {
     "output_type": "execute_result",
     "data": {
      "text/plain": [
       "India            1264\n",
       "Singapore          28\n",
       "United States      12\n",
       "Malaysia            3\n",
       "Name: Country, dtype: int64"
      ]
     },
     "metadata": {},
     "execution_count": 115
    }
   ],
   "source": [
    "file.Country.value_counts()"
   ]
  },
  {
   "source": [
    "# Removing the un-nacessary column"
   ],
   "cell_type": "markdown",
   "metadata": {}
  },
  {
   "cell_type": "code",
   "execution_count": 116,
   "metadata": {},
   "outputs": [],
   "source": [
    "file.drop(['Unnamed: 12'], axis = 1, inplace=True)"
   ]
  },
  {
   "cell_type": "code",
   "execution_count": 117,
   "metadata": {},
   "outputs": [
    {
     "output_type": "execute_result",
     "data": {
      "text/plain": [
       "Date                              0\n",
       "Description                       0\n",
       "InternationTransactionAmount      0\n",
       "Category                          0\n",
       "Amount                            0\n",
       "TransactionUserName               0\n",
       "TransactionType                   0\n",
       "IsoCurrency                       0\n",
       "Locality                        168\n",
       "City                            200\n",
       "State                           225\n",
       "Country                         163\n",
       "dtype: int64"
      ]
     },
     "metadata": {},
     "execution_count": 117
    }
   ],
   "source": [
    "file.isna().sum()"
   ]
  },
  {
   "source": [
    "# Defining the function to remove front and trailing spaces from column values"
   ],
   "cell_type": "markdown",
   "metadata": {}
  },
  {
   "cell_type": "code",
   "execution_count": 118,
   "metadata": {},
   "outputs": [],
   "source": [
    "def space_remover(col):\n",
    "    lst =[]\n",
    "    for x in file[col]:\n",
    "        lst.append(x.strip().upper())\n",
    "    file[col] = lst\n",
    "cols = file.columns\n",
    "space_remover('InternationTransactionAmount')   # removing front and rear space from column values"
   ]
  },
  {
   "source": [
    "# Cleaning InternationTransactionAmount column"
   ],
   "cell_type": "markdown",
   "metadata": {}
  },
  {
   "cell_type": "code",
   "execution_count": 119,
   "metadata": {},
   "outputs": [],
   "source": [
    "file.iloc[182,2:8] = ['0','Food','-438.9','VIBHORE GOYAL','Domestic',np.nan]\n",
    "file.iloc[477, 4:11] = ['-2899','JASJIT KAUR','DOMESTIC','INR','BLOCK S','GURUGRAM','HARYANA']\n",
    "file.iloc[755, 4:11] = ['-2348','VIBHORE GOYAL','DOMESTIC','INR','D1 BLOCK','GURUGRAM',\"HARYANA\"]\n",
    "file.iloc[789, 4:11] = ['-2391','VIBHORE GOYAL','DOMESTIC','INR','CIVIL LINES','JAIPUR','RAJASTHAN']"
   ]
  },
  {
   "source": [
    "# Filling null Values"
   ],
   "cell_type": "markdown",
   "metadata": {}
  },
  {
   "cell_type": "code",
   "execution_count": 120,
   "metadata": {},
   "outputs": [],
   "source": [
    "from sklearn.impute import SimpleImputer\n",
    "missing_columns = file.iloc[:,:]\n",
    "imputer = SimpleImputer(strategy='most_frequent')\n",
    "cols_imputed = imputer.fit_transform(missing_columns)\n",
    "file.iloc[:,:] = cols_imputed"
   ]
  },
  {
   "cell_type": "code",
   "execution_count": 121,
   "metadata": {},
   "outputs": [
    {
     "output_type": "execute_result",
     "data": {
      "text/plain": [
       "Date                            0\n",
       "Description                     0\n",
       "InternationTransactionAmount    0\n",
       "Category                        0\n",
       "Amount                          0\n",
       "TransactionUserName             0\n",
       "TransactionType                 0\n",
       "IsoCurrency                     0\n",
       "Locality                        0\n",
       "City                            0\n",
       "State                           0\n",
       "Country                         0\n",
       "dtype: int64"
      ]
     },
     "metadata": {},
     "execution_count": 121
    }
   ],
   "source": [
    "file.isna().sum()"
   ]
  },
  {
   "cell_type": "code",
   "execution_count": 122,
   "metadata": {},
   "outputs": [],
   "source": [
    "# Remove spaces before and after.\n",
    "cols = file.columns\n",
    "for column in cols:\n",
    "    x = file[column]\n",
    "    x = [y.strip().upper() for y in list(x)]\n",
    "    file[column] = x"
   ]
  },
  {
   "cell_type": "code",
   "execution_count": 123,
   "metadata": {},
   "outputs": [],
   "source": [
    "x = file['Description']\n",
    "x = [' '.join(x[i].split()) for i in range (len(x))]\n",
    "file['Description'] = x"
   ]
  },
  {
   "source": [
    "# Cleaning and Proper orienting the data"
   ],
   "cell_type": "markdown",
   "metadata": {}
  },
  {
   "cell_type": "code",
   "execution_count": 124,
   "metadata": {},
   "outputs": [],
   "source": [
    "# making city names separated in column\n",
    "def city_separator(city_):\n",
    "\n",
    "    x = list(file['Description'])\n",
    "    city = city_.lower()\n",
    "\n",
    "    for i in range(len(x)):\n",
    "        v = x[i].casefold()\n",
    "\n",
    "        if city in v:\n",
    "            st = v.partition(city)\n",
    "            var = []\n",
    "            for k in st:\n",
    "                \n",
    "                if k != '':\n",
    "                    var.append(k.strip())\n",
    "\n",
    "            x[i]=' '.join(var).upper()\n",
    "         \n",
    "    file['Description'] = x"
   ]
  },
  {
   "cell_type": "code",
   "execution_count": 125,
   "metadata": {},
   "outputs": [],
   "source": [
    "city_list = list(file['City'].value_counts().index)\n",
    "city_list.pop(2)\n",
    "city_list.extend(['GURGAON','LONDON','DELHI', 'JAIPUR'])     # gurgaon not in city\n",
    "for i in city_list:\n",
    "   city_separator(i)"
   ]
  },
  {
   "cell_type": "code",
   "execution_count": 126,
   "metadata": {},
   "outputs": [
    {
     "output_type": "execute_result",
     "data": {
      "text/plain": [
       "0                      THE ROOM GURGAON\n",
       "1                 CUT AND STYLE GURGAON\n",
       "2                        MUMUSO GURGAON\n",
       "3                      THE ROOM GURGAON\n",
       "4                      THE ROOM GURGAON\n",
       "                     ...               \n",
       "1465    KFC SEC 47 SOHNA ROAD G GURGAON\n",
       "1466           SPICEJET LIMITED GURGAON\n",
       "1467           CAFE COFFEE DAYILD TRADE\n",
       "1468          SHOPPERS STOP LTD GURGAON\n",
       "1469         TATA INDICOM-DOCOMO MUMBAI\n",
       "Name: Description, Length: 1470, dtype: object"
      ]
     },
     "metadata": {},
     "execution_count": 126
    }
   ],
   "source": [
    "file['Description']"
   ]
  },
  {
   "source": [
    "# Converting numerical columns to float type from object type"
   ],
   "cell_type": "markdown",
   "metadata": {}
  },
  {
   "cell_type": "code",
   "execution_count": 127,
   "metadata": {},
   "outputs": [
    {
     "output_type": "execute_result",
     "data": {
      "text/plain": [
       "Index(['Date', 'Description', 'InternationTransactionAmount', 'Category',\n",
       "       'Amount', 'TransactionUserName', 'TransactionType', 'IsoCurrency',\n",
       "       'Locality', 'City', 'State', 'Country'],\n",
       "      dtype='object')"
      ]
     },
     "metadata": {},
     "execution_count": 127
    }
   ],
   "source": [
    "file.columns"
   ]
  },
  {
   "cell_type": "code",
   "execution_count": 128,
   "metadata": {},
   "outputs": [],
   "source": [
    "file['InternationTransactionAmount'] = file['InternationTransactionAmount'].astype(np.float64)\n",
    "file['Amount'] = file['Amount'].astype(np.float64)"
   ]
  },
  {
   "cell_type": "code",
   "execution_count": 129,
   "metadata": {},
   "outputs": [
    {
     "output_type": "stream",
     "name": "stdout",
     "text": [
      "<class 'pandas.core.frame.DataFrame'>\nRangeIndex: 1470 entries, 0 to 1469\nData columns (total 12 columns):\n #   Column                        Non-Null Count  Dtype  \n---  ------                        --------------  -----  \n 0   Date                          1470 non-null   object \n 1   Description                   1470 non-null   object \n 2   InternationTransactionAmount  1470 non-null   float64\n 3   Category                      1470 non-null   object \n 4   Amount                        1470 non-null   float64\n 5   TransactionUserName           1470 non-null   object \n 6   TransactionType               1470 non-null   object \n 7   IsoCurrency                   1470 non-null   object \n 8   Locality                      1470 non-null   object \n 9   City                          1470 non-null   object \n 10  State                         1470 non-null   object \n 11  Country                       1470 non-null   object \ndtypes: float64(2), object(10)\nmemory usage: 137.9+ KB\n"
     ]
    }
   ],
   "source": [
    "file.info()"
   ]
  },
  {
   "source": [
    "# Saving the clean file "
   ],
   "cell_type": "markdown",
   "metadata": {}
  },
  {
   "cell_type": "code",
   "execution_count": 130,
   "metadata": {},
   "outputs": [],
   "source": [
    "# file.to_csv('Modified.csv')"
   ]
  },
  {
   "source": [
    "# Selecting The Columns of Object type only"
   ],
   "cell_type": "markdown",
   "metadata": {}
  },
  {
   "cell_type": "code",
   "execution_count": 131,
   "metadata": {},
   "outputs": [
    {
     "output_type": "execute_result",
     "data": {
      "text/plain": [
       "['Description',\n",
       " 'Category',\n",
       " 'TransactionUserName',\n",
       " 'TransactionType',\n",
       " 'IsoCurrency',\n",
       " 'Locality',\n",
       " 'City',\n",
       " 'State',\n",
       " 'Country']"
      ]
     },
     "metadata": {},
     "execution_count": 131
    }
   ],
   "source": [
    "text_col = list(file.select_dtypes(include= 'object').columns)[1:]\n",
    "text_col"
   ]
  },
  {
   "cell_type": "code",
   "execution_count": 132,
   "metadata": {},
   "outputs": [],
   "source": [
    "# converted_col = []\n",
    "# col_unique = []\n",
    "# for name in text_col:\n",
    "#     var = name.lower()+'_converted'\n",
    "#     uni = name.lower()+'_unique'\n",
    "#     converted_col.append(var)\n",
    "#     col_unique.append(uni)\n",
    "#     vars()[var], vars()[uni] = pd.factorize(file[name])\n",
    "#     # exec('var, uni = pd.factorize(file[name])')\n",
    "#     # print(var,uni)\n",
    "\n",
    "# descriptopn_converted, description_unique = pd.factorize(file['Description'])"
   ]
  },
  {
   "cell_type": "code",
   "execution_count": 133,
   "metadata": {},
   "outputs": [
    {
     "output_type": "execute_result",
     "data": {
      "text/plain": [
       "         Date            Description  InternationTransactionAmount  \\\n",
       "0  12/12/2019       THE ROOM GURGAON                           0.0   \n",
       "1  12/12/2019  CUT AND STYLE GURGAON                           0.0   \n",
       "2  12/12/2019         MUMUSO GURGAON                           0.0   \n",
       "3  12/12/2019       THE ROOM GURGAON                           0.0   \n",
       "4  12/12/2019       THE ROOM GURGAON                           0.0   \n",
       "\n",
       "     Category  Amount TransactionUserName TransactionType IsoCurrency  \\\n",
       "0  VIDEO GAME  -127.0       VIBHORE GOYAL        DOMESTIC         INR   \n",
       "1  OCCUPATION  -499.0         JASJIT KAUR        DOMESTIC         INR   \n",
       "2              -388.0         JASJIT KAUR        DOMESTIC         INR   \n",
       "3  VIDEO GAME  -108.0       VIBHORE GOYAL        DOMESTIC         INR   \n",
       "4  VIDEO GAME   -50.0       VIBHORE GOYAL        DOMESTIC         INR   \n",
       "\n",
       "          Locality      City    State Country  \n",
       "0  CENTRAL PARK II  GURUGRAM  HARYANA   INDIA  \n",
       "1         SECTOR 4  GURUGRAM  HARYANA   INDIA  \n",
       "2        SECTOR 49  GURUGRAM  HARYANA   INDIA  \n",
       "3  CENTRAL PARK II  GURUGRAM  HARYANA   INDIA  \n",
       "4  CENTRAL PARK II  GURUGRAM  HARYANA   INDIA  "
      ],
      "text/html": "<div>\n<style scoped>\n    .dataframe tbody tr th:only-of-type {\n        vertical-align: middle;\n    }\n\n    .dataframe tbody tr th {\n        vertical-align: top;\n    }\n\n    .dataframe thead th {\n        text-align: right;\n    }\n</style>\n<table border=\"1\" class=\"dataframe\">\n  <thead>\n    <tr style=\"text-align: right;\">\n      <th></th>\n      <th>Date</th>\n      <th>Description</th>\n      <th>InternationTransactionAmount</th>\n      <th>Category</th>\n      <th>Amount</th>\n      <th>TransactionUserName</th>\n      <th>TransactionType</th>\n      <th>IsoCurrency</th>\n      <th>Locality</th>\n      <th>City</th>\n      <th>State</th>\n      <th>Country</th>\n    </tr>\n  </thead>\n  <tbody>\n    <tr>\n      <th>0</th>\n      <td>12/12/2019</td>\n      <td>THE ROOM GURGAON</td>\n      <td>0.0</td>\n      <td>VIDEO GAME</td>\n      <td>-127.0</td>\n      <td>VIBHORE GOYAL</td>\n      <td>DOMESTIC</td>\n      <td>INR</td>\n      <td>CENTRAL PARK II</td>\n      <td>GURUGRAM</td>\n      <td>HARYANA</td>\n      <td>INDIA</td>\n    </tr>\n    <tr>\n      <th>1</th>\n      <td>12/12/2019</td>\n      <td>CUT AND STYLE GURGAON</td>\n      <td>0.0</td>\n      <td>OCCUPATION</td>\n      <td>-499.0</td>\n      <td>JASJIT KAUR</td>\n      <td>DOMESTIC</td>\n      <td>INR</td>\n      <td>SECTOR 4</td>\n      <td>GURUGRAM</td>\n      <td>HARYANA</td>\n      <td>INDIA</td>\n    </tr>\n    <tr>\n      <th>2</th>\n      <td>12/12/2019</td>\n      <td>MUMUSO GURGAON</td>\n      <td>0.0</td>\n      <td></td>\n      <td>-388.0</td>\n      <td>JASJIT KAUR</td>\n      <td>DOMESTIC</td>\n      <td>INR</td>\n      <td>SECTOR 49</td>\n      <td>GURUGRAM</td>\n      <td>HARYANA</td>\n      <td>INDIA</td>\n    </tr>\n    <tr>\n      <th>3</th>\n      <td>12/12/2019</td>\n      <td>THE ROOM GURGAON</td>\n      <td>0.0</td>\n      <td>VIDEO GAME</td>\n      <td>-108.0</td>\n      <td>VIBHORE GOYAL</td>\n      <td>DOMESTIC</td>\n      <td>INR</td>\n      <td>CENTRAL PARK II</td>\n      <td>GURUGRAM</td>\n      <td>HARYANA</td>\n      <td>INDIA</td>\n    </tr>\n    <tr>\n      <th>4</th>\n      <td>12/12/2019</td>\n      <td>THE ROOM GURGAON</td>\n      <td>0.0</td>\n      <td>VIDEO GAME</td>\n      <td>-50.0</td>\n      <td>VIBHORE GOYAL</td>\n      <td>DOMESTIC</td>\n      <td>INR</td>\n      <td>CENTRAL PARK II</td>\n      <td>GURUGRAM</td>\n      <td>HARYANA</td>\n      <td>INDIA</td>\n    </tr>\n  </tbody>\n</table>\n</div>"
     },
     "metadata": {},
     "execution_count": 133
    }
   ],
   "source": [
    "file.head()"
   ]
  },
  {
   "cell_type": "code",
   "execution_count": 134,
   "metadata": {},
   "outputs": [],
   "source": [
    "new_file = file.copy()"
   ]
  },
  {
   "cell_type": "code",
   "execution_count": 135,
   "metadata": {},
   "outputs": [
    {
     "output_type": "execute_result",
     "data": {
      "text/plain": [
       "         Date            Description  InternationTransactionAmount  \\\n",
       "0  12/12/2019       THE ROOM GURGAON                           0.0   \n",
       "1  12/12/2019  CUT AND STYLE GURGAON                           0.0   \n",
       "2  12/12/2019         MUMUSO GURGAON                           0.0   \n",
       "3  12/12/2019       THE ROOM GURGAON                           0.0   \n",
       "4  12/12/2019       THE ROOM GURGAON                           0.0   \n",
       "\n",
       "     Category  Amount TransactionUserName TransactionType IsoCurrency  \\\n",
       "0  VIDEO GAME  -127.0       VIBHORE GOYAL        DOMESTIC         INR   \n",
       "1  OCCUPATION  -499.0         JASJIT KAUR        DOMESTIC         INR   \n",
       "2              -388.0         JASJIT KAUR        DOMESTIC         INR   \n",
       "3  VIDEO GAME  -108.0       VIBHORE GOYAL        DOMESTIC         INR   \n",
       "4  VIDEO GAME   -50.0       VIBHORE GOYAL        DOMESTIC         INR   \n",
       "\n",
       "          Locality      City    State Country  \n",
       "0  CENTRAL PARK II  GURUGRAM  HARYANA   INDIA  \n",
       "1         SECTOR 4  GURUGRAM  HARYANA   INDIA  \n",
       "2        SECTOR 49  GURUGRAM  HARYANA   INDIA  \n",
       "3  CENTRAL PARK II  GURUGRAM  HARYANA   INDIA  \n",
       "4  CENTRAL PARK II  GURUGRAM  HARYANA   INDIA  "
      ],
      "text/html": "<div>\n<style scoped>\n    .dataframe tbody tr th:only-of-type {\n        vertical-align: middle;\n    }\n\n    .dataframe tbody tr th {\n        vertical-align: top;\n    }\n\n    .dataframe thead th {\n        text-align: right;\n    }\n</style>\n<table border=\"1\" class=\"dataframe\">\n  <thead>\n    <tr style=\"text-align: right;\">\n      <th></th>\n      <th>Date</th>\n      <th>Description</th>\n      <th>InternationTransactionAmount</th>\n      <th>Category</th>\n      <th>Amount</th>\n      <th>TransactionUserName</th>\n      <th>TransactionType</th>\n      <th>IsoCurrency</th>\n      <th>Locality</th>\n      <th>City</th>\n      <th>State</th>\n      <th>Country</th>\n    </tr>\n  </thead>\n  <tbody>\n    <tr>\n      <th>0</th>\n      <td>12/12/2019</td>\n      <td>THE ROOM GURGAON</td>\n      <td>0.0</td>\n      <td>VIDEO GAME</td>\n      <td>-127.0</td>\n      <td>VIBHORE GOYAL</td>\n      <td>DOMESTIC</td>\n      <td>INR</td>\n      <td>CENTRAL PARK II</td>\n      <td>GURUGRAM</td>\n      <td>HARYANA</td>\n      <td>INDIA</td>\n    </tr>\n    <tr>\n      <th>1</th>\n      <td>12/12/2019</td>\n      <td>CUT AND STYLE GURGAON</td>\n      <td>0.0</td>\n      <td>OCCUPATION</td>\n      <td>-499.0</td>\n      <td>JASJIT KAUR</td>\n      <td>DOMESTIC</td>\n      <td>INR</td>\n      <td>SECTOR 4</td>\n      <td>GURUGRAM</td>\n      <td>HARYANA</td>\n      <td>INDIA</td>\n    </tr>\n    <tr>\n      <th>2</th>\n      <td>12/12/2019</td>\n      <td>MUMUSO GURGAON</td>\n      <td>0.0</td>\n      <td></td>\n      <td>-388.0</td>\n      <td>JASJIT KAUR</td>\n      <td>DOMESTIC</td>\n      <td>INR</td>\n      <td>SECTOR 49</td>\n      <td>GURUGRAM</td>\n      <td>HARYANA</td>\n      <td>INDIA</td>\n    </tr>\n    <tr>\n      <th>3</th>\n      <td>12/12/2019</td>\n      <td>THE ROOM GURGAON</td>\n      <td>0.0</td>\n      <td>VIDEO GAME</td>\n      <td>-108.0</td>\n      <td>VIBHORE GOYAL</td>\n      <td>DOMESTIC</td>\n      <td>INR</td>\n      <td>CENTRAL PARK II</td>\n      <td>GURUGRAM</td>\n      <td>HARYANA</td>\n      <td>INDIA</td>\n    </tr>\n    <tr>\n      <th>4</th>\n      <td>12/12/2019</td>\n      <td>THE ROOM GURGAON</td>\n      <td>0.0</td>\n      <td>VIDEO GAME</td>\n      <td>-50.0</td>\n      <td>VIBHORE GOYAL</td>\n      <td>DOMESTIC</td>\n      <td>INR</td>\n      <td>CENTRAL PARK II</td>\n      <td>GURUGRAM</td>\n      <td>HARYANA</td>\n      <td>INDIA</td>\n    </tr>\n  </tbody>\n</table>\n</div>"
     },
     "metadata": {},
     "execution_count": 135
    }
   ],
   "source": [
    "new_file.head()"
   ]
  },
  {
   "cell_type": "code",
   "execution_count": 136,
   "metadata": {},
   "outputs": [],
   "source": [
    "new_file.drop(['Date','Category'], axis = 1, inplace=True)"
   ]
  },
  {
   "cell_type": "code",
   "execution_count": 137,
   "metadata": {},
   "outputs": [
    {
     "output_type": "execute_result",
     "data": {
      "text/plain": [
       "             Description  InternationTransactionAmount  Amount  \\\n",
       "0       THE ROOM GURGAON                           0.0  -127.0   \n",
       "1  CUT AND STYLE GURGAON                           0.0  -499.0   \n",
       "2         MUMUSO GURGAON                           0.0  -388.0   \n",
       "3       THE ROOM GURGAON                           0.0  -108.0   \n",
       "4       THE ROOM GURGAON                           0.0   -50.0   \n",
       "\n",
       "  TransactionUserName TransactionType IsoCurrency         Locality      City  \\\n",
       "0       VIBHORE GOYAL        DOMESTIC         INR  CENTRAL PARK II  GURUGRAM   \n",
       "1         JASJIT KAUR        DOMESTIC         INR         SECTOR 4  GURUGRAM   \n",
       "2         JASJIT KAUR        DOMESTIC         INR        SECTOR 49  GURUGRAM   \n",
       "3       VIBHORE GOYAL        DOMESTIC         INR  CENTRAL PARK II  GURUGRAM   \n",
       "4       VIBHORE GOYAL        DOMESTIC         INR  CENTRAL PARK II  GURUGRAM   \n",
       "\n",
       "     State Country  \n",
       "0  HARYANA   INDIA  \n",
       "1  HARYANA   INDIA  \n",
       "2  HARYANA   INDIA  \n",
       "3  HARYANA   INDIA  \n",
       "4  HARYANA   INDIA  "
      ],
      "text/html": "<div>\n<style scoped>\n    .dataframe tbody tr th:only-of-type {\n        vertical-align: middle;\n    }\n\n    .dataframe tbody tr th {\n        vertical-align: top;\n    }\n\n    .dataframe thead th {\n        text-align: right;\n    }\n</style>\n<table border=\"1\" class=\"dataframe\">\n  <thead>\n    <tr style=\"text-align: right;\">\n      <th></th>\n      <th>Description</th>\n      <th>InternationTransactionAmount</th>\n      <th>Amount</th>\n      <th>TransactionUserName</th>\n      <th>TransactionType</th>\n      <th>IsoCurrency</th>\n      <th>Locality</th>\n      <th>City</th>\n      <th>State</th>\n      <th>Country</th>\n    </tr>\n  </thead>\n  <tbody>\n    <tr>\n      <th>0</th>\n      <td>THE ROOM GURGAON</td>\n      <td>0.0</td>\n      <td>-127.0</td>\n      <td>VIBHORE GOYAL</td>\n      <td>DOMESTIC</td>\n      <td>INR</td>\n      <td>CENTRAL PARK II</td>\n      <td>GURUGRAM</td>\n      <td>HARYANA</td>\n      <td>INDIA</td>\n    </tr>\n    <tr>\n      <th>1</th>\n      <td>CUT AND STYLE GURGAON</td>\n      <td>0.0</td>\n      <td>-499.0</td>\n      <td>JASJIT KAUR</td>\n      <td>DOMESTIC</td>\n      <td>INR</td>\n      <td>SECTOR 4</td>\n      <td>GURUGRAM</td>\n      <td>HARYANA</td>\n      <td>INDIA</td>\n    </tr>\n    <tr>\n      <th>2</th>\n      <td>MUMUSO GURGAON</td>\n      <td>0.0</td>\n      <td>-388.0</td>\n      <td>JASJIT KAUR</td>\n      <td>DOMESTIC</td>\n      <td>INR</td>\n      <td>SECTOR 49</td>\n      <td>GURUGRAM</td>\n      <td>HARYANA</td>\n      <td>INDIA</td>\n    </tr>\n    <tr>\n      <th>3</th>\n      <td>THE ROOM GURGAON</td>\n      <td>0.0</td>\n      <td>-108.0</td>\n      <td>VIBHORE GOYAL</td>\n      <td>DOMESTIC</td>\n      <td>INR</td>\n      <td>CENTRAL PARK II</td>\n      <td>GURUGRAM</td>\n      <td>HARYANA</td>\n      <td>INDIA</td>\n    </tr>\n    <tr>\n      <th>4</th>\n      <td>THE ROOM GURGAON</td>\n      <td>0.0</td>\n      <td>-50.0</td>\n      <td>VIBHORE GOYAL</td>\n      <td>DOMESTIC</td>\n      <td>INR</td>\n      <td>CENTRAL PARK II</td>\n      <td>GURUGRAM</td>\n      <td>HARYANA</td>\n      <td>INDIA</td>\n    </tr>\n  </tbody>\n</table>\n</div>"
     },
     "metadata": {},
     "execution_count": 137
    }
   ],
   "source": [
    "new_file.head()"
   ]
  },
  {
   "cell_type": "code",
   "execution_count": 138,
   "metadata": {},
   "outputs": [
    {
     "output_type": "execute_result",
     "data": {
      "text/plain": [
       "Index(['ALEXANDRIA', 'ALWAR', 'AMRITSAR', 'ARPORA', 'BAMBOLIM', 'BENGALURU',\n",
       "       'CHANDIGARH', 'DABOLIM', 'FARIDABAD', 'FATEHGARH SAHIB', 'GHATA',\n",
       "       'GREATER NOIDA', 'GURDASPUR', 'GURUGRAM', 'HARYANA', 'HYDERABAD',\n",
       "       'JAIPUR', 'KHANNA', 'KOLKATA', 'KOTA', 'KUALA LUMPUR', 'KUKAS',\n",
       "       'LOS ANGELES', 'LUDHIANA', 'MANDI GOBINDGARH', 'MUMBAI', 'NEW DELHI',\n",
       "       'NEW YORK', 'NOIDA', 'PAOTA', 'PATIALA', 'SAHIBZADA AJIT SINGH NAGAR',\n",
       "       'SAN ANTONIO', 'SARHOL', 'SEATTLE', 'SEPANG', 'SINGAPORE', 'गुरुग्राम'],\n",
       "      dtype='object')"
      ]
     },
     "metadata": {},
     "execution_count": 138
    }
   ],
   "source": [
    "city_unique = new_file['City'].value_counts().index\n",
    "city_unique.sort_values()"
   ]
  },
  {
   "cell_type": "code",
   "execution_count": 139,
   "metadata": {},
   "outputs": [],
   "source": [
    "new_file['State'].where(new_file['City'] != 'SINGAPORE', 'SINGAPORE', inplace=True)\n",
    "new_file['State'].where(new_file['City'] != 'NEW DELHI', 'NEW DELHI`', inplace=True)"
   ]
  },
  {
   "cell_type": "code",
   "execution_count": 140,
   "metadata": {},
   "outputs": [
    {
     "output_type": "execute_result",
     "data": {
      "text/plain": [
       "                          Description  InternationTransactionAmount  Amount  \\\n",
       "0                    THE ROOM GURGAON                           0.0  -127.0   \n",
       "1               CUT AND STYLE GURGAON                           0.0  -499.0   \n",
       "2                      MUMUSO GURGAON                           0.0  -388.0   \n",
       "3                    THE ROOM GURGAON                           0.0  -108.0   \n",
       "4                    THE ROOM GURGAON                           0.0   -50.0   \n",
       "...                               ...                           ...     ...   \n",
       "1465  KFC SEC 47 SOHNA ROAD G GURGAON                           0.0  -120.0   \n",
       "1466         SPICEJET LIMITED GURGAON                           0.0 -1798.0   \n",
       "1467         CAFE COFFEE DAYILD TRADE                           0.0  -298.0   \n",
       "1468        SHOPPERS STOP LTD GURGAON                           0.0 -1852.0   \n",
       "1469       TATA INDICOM-DOCOMO MUMBAI                           0.0 -1297.0   \n",
       "\n",
       "     TransactionUserName TransactionType IsoCurrency         Locality  \\\n",
       "0          VIBHORE GOYAL        DOMESTIC         INR  CENTRAL PARK II   \n",
       "1            JASJIT KAUR        DOMESTIC         INR         SECTOR 4   \n",
       "2            JASJIT KAUR        DOMESTIC         INR        SECTOR 49   \n",
       "3          VIBHORE GOYAL        DOMESTIC         INR  CENTRAL PARK II   \n",
       "4          VIBHORE GOYAL        DOMESTIC         INR  CENTRAL PARK II   \n",
       "...                  ...             ...         ...              ...   \n",
       "1465       VIBHORE GOYAL        DOMESTIC         INR         D1 BLOCK   \n",
       "1466       VIBHORE GOYAL        DOMESTIC         INR        PHASE III   \n",
       "1467       VIBHORE GOYAL        DOMESTIC         INR       SOHNA ROAD   \n",
       "1468         JASJIT KAUR        DOMESTIC         INR    HERITAGE CITY   \n",
       "1469       VIBHORE GOYAL        DOMESTIC         INR            MAHIM   \n",
       "\n",
       "          City        State Country  \n",
       "0     GURUGRAM      HARYANA   INDIA  \n",
       "1     GURUGRAM      HARYANA   INDIA  \n",
       "2     GURUGRAM      HARYANA   INDIA  \n",
       "3     GURUGRAM      HARYANA   INDIA  \n",
       "4     GURUGRAM      HARYANA   INDIA  \n",
       "...        ...          ...     ...  \n",
       "1465  GURUGRAM      HARYANA   INDIA  \n",
       "1466  GURUGRAM      HARYANA   INDIA  \n",
       "1467  GURUGRAM      HARYANA   INDIA  \n",
       "1468  GURUGRAM      HARYANA   INDIA  \n",
       "1469    MUMBAI  MAHARASHTRA   INDIA  \n",
       "\n",
       "[1470 rows x 10 columns]"
      ],
      "text/html": "<div>\n<style scoped>\n    .dataframe tbody tr th:only-of-type {\n        vertical-align: middle;\n    }\n\n    .dataframe tbody tr th {\n        vertical-align: top;\n    }\n\n    .dataframe thead th {\n        text-align: right;\n    }\n</style>\n<table border=\"1\" class=\"dataframe\">\n  <thead>\n    <tr style=\"text-align: right;\">\n      <th></th>\n      <th>Description</th>\n      <th>InternationTransactionAmount</th>\n      <th>Amount</th>\n      <th>TransactionUserName</th>\n      <th>TransactionType</th>\n      <th>IsoCurrency</th>\n      <th>Locality</th>\n      <th>City</th>\n      <th>State</th>\n      <th>Country</th>\n    </tr>\n  </thead>\n  <tbody>\n    <tr>\n      <th>0</th>\n      <td>THE ROOM GURGAON</td>\n      <td>0.0</td>\n      <td>-127.0</td>\n      <td>VIBHORE GOYAL</td>\n      <td>DOMESTIC</td>\n      <td>INR</td>\n      <td>CENTRAL PARK II</td>\n      <td>GURUGRAM</td>\n      <td>HARYANA</td>\n      <td>INDIA</td>\n    </tr>\n    <tr>\n      <th>1</th>\n      <td>CUT AND STYLE GURGAON</td>\n      <td>0.0</td>\n      <td>-499.0</td>\n      <td>JASJIT KAUR</td>\n      <td>DOMESTIC</td>\n      <td>INR</td>\n      <td>SECTOR 4</td>\n      <td>GURUGRAM</td>\n      <td>HARYANA</td>\n      <td>INDIA</td>\n    </tr>\n    <tr>\n      <th>2</th>\n      <td>MUMUSO GURGAON</td>\n      <td>0.0</td>\n      <td>-388.0</td>\n      <td>JASJIT KAUR</td>\n      <td>DOMESTIC</td>\n      <td>INR</td>\n      <td>SECTOR 49</td>\n      <td>GURUGRAM</td>\n      <td>HARYANA</td>\n      <td>INDIA</td>\n    </tr>\n    <tr>\n      <th>3</th>\n      <td>THE ROOM GURGAON</td>\n      <td>0.0</td>\n      <td>-108.0</td>\n      <td>VIBHORE GOYAL</td>\n      <td>DOMESTIC</td>\n      <td>INR</td>\n      <td>CENTRAL PARK II</td>\n      <td>GURUGRAM</td>\n      <td>HARYANA</td>\n      <td>INDIA</td>\n    </tr>\n    <tr>\n      <th>4</th>\n      <td>THE ROOM GURGAON</td>\n      <td>0.0</td>\n      <td>-50.0</td>\n      <td>VIBHORE GOYAL</td>\n      <td>DOMESTIC</td>\n      <td>INR</td>\n      <td>CENTRAL PARK II</td>\n      <td>GURUGRAM</td>\n      <td>HARYANA</td>\n      <td>INDIA</td>\n    </tr>\n    <tr>\n      <th>...</th>\n      <td>...</td>\n      <td>...</td>\n      <td>...</td>\n      <td>...</td>\n      <td>...</td>\n      <td>...</td>\n      <td>...</td>\n      <td>...</td>\n      <td>...</td>\n      <td>...</td>\n    </tr>\n    <tr>\n      <th>1465</th>\n      <td>KFC SEC 47 SOHNA ROAD G GURGAON</td>\n      <td>0.0</td>\n      <td>-120.0</td>\n      <td>VIBHORE GOYAL</td>\n      <td>DOMESTIC</td>\n      <td>INR</td>\n      <td>D1 BLOCK</td>\n      <td>GURUGRAM</td>\n      <td>HARYANA</td>\n      <td>INDIA</td>\n    </tr>\n    <tr>\n      <th>1466</th>\n      <td>SPICEJET LIMITED GURGAON</td>\n      <td>0.0</td>\n      <td>-1798.0</td>\n      <td>VIBHORE GOYAL</td>\n      <td>DOMESTIC</td>\n      <td>INR</td>\n      <td>PHASE III</td>\n      <td>GURUGRAM</td>\n      <td>HARYANA</td>\n      <td>INDIA</td>\n    </tr>\n    <tr>\n      <th>1467</th>\n      <td>CAFE COFFEE DAYILD TRADE</td>\n      <td>0.0</td>\n      <td>-298.0</td>\n      <td>VIBHORE GOYAL</td>\n      <td>DOMESTIC</td>\n      <td>INR</td>\n      <td>SOHNA ROAD</td>\n      <td>GURUGRAM</td>\n      <td>HARYANA</td>\n      <td>INDIA</td>\n    </tr>\n    <tr>\n      <th>1468</th>\n      <td>SHOPPERS STOP LTD GURGAON</td>\n      <td>0.0</td>\n      <td>-1852.0</td>\n      <td>JASJIT KAUR</td>\n      <td>DOMESTIC</td>\n      <td>INR</td>\n      <td>HERITAGE CITY</td>\n      <td>GURUGRAM</td>\n      <td>HARYANA</td>\n      <td>INDIA</td>\n    </tr>\n    <tr>\n      <th>1469</th>\n      <td>TATA INDICOM-DOCOMO MUMBAI</td>\n      <td>0.0</td>\n      <td>-1297.0</td>\n      <td>VIBHORE GOYAL</td>\n      <td>DOMESTIC</td>\n      <td>INR</td>\n      <td>MAHIM</td>\n      <td>MUMBAI</td>\n      <td>MAHARASHTRA</td>\n      <td>INDIA</td>\n    </tr>\n  </tbody>\n</table>\n<p>1470 rows × 10 columns</p>\n</div>"
     },
     "metadata": {},
     "execution_count": 140
    }
   ],
   "source": [
    "new_file"
   ]
  },
  {
   "cell_type": "code",
   "execution_count": 141,
   "metadata": {},
   "outputs": [],
   "source": [
    "from sklearn.preprocessing import LabelEncoder\n",
    "le = LabelEncoder()"
   ]
  },
  {
   "source": [
    "# Applying the label encoder to categorical columns"
   ],
   "cell_type": "markdown",
   "metadata": {}
  },
  {
   "cell_type": "code",
   "execution_count": 142,
   "metadata": {},
   "outputs": [],
   "source": [
    "new_file[new_file.select_dtypes(include=['object']).columns] = new_file[new_file.select_dtypes(include=['object']).columns].apply(le.fit_transform)"
   ]
  },
  {
   "cell_type": "code",
   "execution_count": 143,
   "metadata": {},
   "outputs": [
    {
     "output_type": "execute_result",
     "data": {
      "text/plain": [
       "   Description  InternationTransactionAmount  Amount  TransactionUserName  \\\n",
       "0          401                           0.0  -127.0                    2   \n",
       "1           78                           0.0  -499.0                    1   \n",
       "2          267                           0.0  -388.0                    1   \n",
       "3          401                           0.0  -108.0                    2   \n",
       "4          401                           0.0   -50.0                    2   \n",
       "\n",
       "   TransactionType  IsoCurrency  Locality  City  State  Country  \n",
       "0                0            0        30    13      4        0  \n",
       "1                0            0       143    13      4        0  \n",
       "2                0            0       145    13      4        0  \n",
       "3                0            0        30    13      4        0  \n",
       "4                0            0        30    13      4        0  "
      ],
      "text/html": "<div>\n<style scoped>\n    .dataframe tbody tr th:only-of-type {\n        vertical-align: middle;\n    }\n\n    .dataframe tbody tr th {\n        vertical-align: top;\n    }\n\n    .dataframe thead th {\n        text-align: right;\n    }\n</style>\n<table border=\"1\" class=\"dataframe\">\n  <thead>\n    <tr style=\"text-align: right;\">\n      <th></th>\n      <th>Description</th>\n      <th>InternationTransactionAmount</th>\n      <th>Amount</th>\n      <th>TransactionUserName</th>\n      <th>TransactionType</th>\n      <th>IsoCurrency</th>\n      <th>Locality</th>\n      <th>City</th>\n      <th>State</th>\n      <th>Country</th>\n    </tr>\n  </thead>\n  <tbody>\n    <tr>\n      <th>0</th>\n      <td>401</td>\n      <td>0.0</td>\n      <td>-127.0</td>\n      <td>2</td>\n      <td>0</td>\n      <td>0</td>\n      <td>30</td>\n      <td>13</td>\n      <td>4</td>\n      <td>0</td>\n    </tr>\n    <tr>\n      <th>1</th>\n      <td>78</td>\n      <td>0.0</td>\n      <td>-499.0</td>\n      <td>1</td>\n      <td>0</td>\n      <td>0</td>\n      <td>143</td>\n      <td>13</td>\n      <td>4</td>\n      <td>0</td>\n    </tr>\n    <tr>\n      <th>2</th>\n      <td>267</td>\n      <td>0.0</td>\n      <td>-388.0</td>\n      <td>1</td>\n      <td>0</td>\n      <td>0</td>\n      <td>145</td>\n      <td>13</td>\n      <td>4</td>\n      <td>0</td>\n    </tr>\n    <tr>\n      <th>3</th>\n      <td>401</td>\n      <td>0.0</td>\n      <td>-108.0</td>\n      <td>2</td>\n      <td>0</td>\n      <td>0</td>\n      <td>30</td>\n      <td>13</td>\n      <td>4</td>\n      <td>0</td>\n    </tr>\n    <tr>\n      <th>4</th>\n      <td>401</td>\n      <td>0.0</td>\n      <td>-50.0</td>\n      <td>2</td>\n      <td>0</td>\n      <td>0</td>\n      <td>30</td>\n      <td>13</td>\n      <td>4</td>\n      <td>0</td>\n    </tr>\n  </tbody>\n</table>\n</div>"
     },
     "metadata": {},
     "execution_count": 143
    }
   ],
   "source": [
    "new_file.head()"
   ]
  },
  {
   "cell_type": "code",
   "execution_count": 144,
   "metadata": {},
   "outputs": [],
   "source": [
    "from sklearn.preprocessing import MinMaxScaler\n",
    "scaler = MinMaxScaler()"
   ]
  },
  {
   "source": [
    "# Applying Minmax scaling to dataframe"
   ],
   "cell_type": "markdown",
   "metadata": {}
  },
  {
   "cell_type": "code",
   "execution_count": 145,
   "metadata": {},
   "outputs": [],
   "source": [
    "new_file = pd.DataFrame(scaler.fit_transform(new_file), columns = new_file.columns)"
   ]
  },
  {
   "cell_type": "code",
   "execution_count": 146,
   "metadata": {},
   "outputs": [
    {
     "output_type": "execute_result",
     "data": {
      "text/plain": [
       "   Description  InternationTransactionAmount    Amount  TransactionUserName  \\\n",
       "0     0.932558                           0.0  0.154895                  1.0   \n",
       "1     0.181395                           0.0  0.154446                  0.5   \n",
       "2     0.620930                           0.0  0.154580                  0.5   \n",
       "3     0.932558                           0.0  0.154918                  1.0   \n",
       "4     0.932558                           0.0  0.154988                  1.0   \n",
       "\n",
       "   TransactionType  IsoCurrency  Locality      City  State  Country  \n",
       "0              0.0          0.0  0.162162  0.351351    0.2      0.0  \n",
       "1              0.0          0.0  0.772973  0.351351    0.2      0.0  \n",
       "2              0.0          0.0  0.783784  0.351351    0.2      0.0  \n",
       "3              0.0          0.0  0.162162  0.351351    0.2      0.0  \n",
       "4              0.0          0.0  0.162162  0.351351    0.2      0.0  "
      ],
      "text/html": "<div>\n<style scoped>\n    .dataframe tbody tr th:only-of-type {\n        vertical-align: middle;\n    }\n\n    .dataframe tbody tr th {\n        vertical-align: top;\n    }\n\n    .dataframe thead th {\n        text-align: right;\n    }\n</style>\n<table border=\"1\" class=\"dataframe\">\n  <thead>\n    <tr style=\"text-align: right;\">\n      <th></th>\n      <th>Description</th>\n      <th>InternationTransactionAmount</th>\n      <th>Amount</th>\n      <th>TransactionUserName</th>\n      <th>TransactionType</th>\n      <th>IsoCurrency</th>\n      <th>Locality</th>\n      <th>City</th>\n      <th>State</th>\n      <th>Country</th>\n    </tr>\n  </thead>\n  <tbody>\n    <tr>\n      <th>0</th>\n      <td>0.932558</td>\n      <td>0.0</td>\n      <td>0.154895</td>\n      <td>1.0</td>\n      <td>0.0</td>\n      <td>0.0</td>\n      <td>0.162162</td>\n      <td>0.351351</td>\n      <td>0.2</td>\n      <td>0.0</td>\n    </tr>\n    <tr>\n      <th>1</th>\n      <td>0.181395</td>\n      <td>0.0</td>\n      <td>0.154446</td>\n      <td>0.5</td>\n      <td>0.0</td>\n      <td>0.0</td>\n      <td>0.772973</td>\n      <td>0.351351</td>\n      <td>0.2</td>\n      <td>0.0</td>\n    </tr>\n    <tr>\n      <th>2</th>\n      <td>0.620930</td>\n      <td>0.0</td>\n      <td>0.154580</td>\n      <td>0.5</td>\n      <td>0.0</td>\n      <td>0.0</td>\n      <td>0.783784</td>\n      <td>0.351351</td>\n      <td>0.2</td>\n      <td>0.0</td>\n    </tr>\n    <tr>\n      <th>3</th>\n      <td>0.932558</td>\n      <td>0.0</td>\n      <td>0.154918</td>\n      <td>1.0</td>\n      <td>0.0</td>\n      <td>0.0</td>\n      <td>0.162162</td>\n      <td>0.351351</td>\n      <td>0.2</td>\n      <td>0.0</td>\n    </tr>\n    <tr>\n      <th>4</th>\n      <td>0.932558</td>\n      <td>0.0</td>\n      <td>0.154988</td>\n      <td>1.0</td>\n      <td>0.0</td>\n      <td>0.0</td>\n      <td>0.162162</td>\n      <td>0.351351</td>\n      <td>0.2</td>\n      <td>0.0</td>\n    </tr>\n  </tbody>\n</table>\n</div>"
     },
     "metadata": {},
     "execution_count": 146
    }
   ],
   "source": [
    "new_file.head()"
   ]
  },
  {
   "cell_type": "code",
   "execution_count": 147,
   "metadata": {},
   "outputs": [],
   "source": [
    "from sklearn.cluster import KMeans"
   ]
  },
  {
   "cell_type": "code",
   "execution_count": 148,
   "metadata": {},
   "outputs": [],
   "source": [
    "k_means = KMeans(n_clusters=3, random_state= 42)"
   ]
  },
  {
   "cell_type": "code",
   "execution_count": 149,
   "metadata": {},
   "outputs": [
    {
     "output_type": "execute_result",
     "data": {
      "text/plain": [
       "KMeans(algorithm='auto', copy_x=True, init='k-means++', max_iter=300,\n",
       "       n_clusters=3, n_init=10, n_jobs=None, precompute_distances='auto',\n",
       "       random_state=42, tol=0.0001, verbose=0)"
      ]
     },
     "metadata": {},
     "execution_count": 149
    }
   ],
   "source": [
    "k_means.fit(new_file)"
   ]
  },
  {
   "cell_type": "code",
   "execution_count": 150,
   "metadata": {},
   "outputs": [
    {
     "output_type": "execute_result",
     "data": {
      "text/plain": [
       "array([0, 1, 2])"
      ]
     },
     "metadata": {},
     "execution_count": 150
    }
   ],
   "source": [
    "import numpy as np\n",
    "label = k_means.labels_\n",
    "np.unique(label)"
   ]
  },
  {
   "cell_type": "code",
   "execution_count": 173,
   "metadata": {},
   "outputs": [],
   "source": [
    "n_classes = range(1,20)\n",
    "\n",
    "k_means = [KMeans(n_clusters= i, random_state = 42) for i in n_classes]\n",
    "score = [k_means[i].fit(new_file).score(new_file) for i in range(len(k_means))]"
   ]
  },
  {
   "cell_type": "code",
   "execution_count": 174,
   "metadata": {},
   "outputs": [
    {
     "output_type": "display_data",
     "data": {
      "text/plain": "<Figure size 864x432 with 1 Axes>",
      "image/svg+xml": "<?xml version=\"1.0\" encoding=\"utf-8\" standalone=\"no\"?>\r\n<!DOCTYPE svg PUBLIC \"-//W3C//DTD SVG 1.1//EN\"\r\n  \"http://www.w3.org/Graphics/SVG/1.1/DTD/svg11.dtd\">\r\n<!-- Created with matplotlib (https://matplotlib.org/) -->\r\n<svg height=\"357.238125pt\" version=\"1.1\" viewBox=\"0 0 718.467187 357.238125\" width=\"718.467187pt\" xmlns=\"http://www.w3.org/2000/svg\" xmlns:xlink=\"http://www.w3.org/1999/xlink\">\r\n <defs>\r\n  <style type=\"text/css\">\r\n*{stroke-linecap:butt;stroke-linejoin:round;}\r\n  </style>\r\n </defs>\r\n <g id=\"figure_1\">\r\n  <g id=\"patch_1\">\r\n   <path d=\"M 0 357.238125 \r\nL 718.467187 357.238125 \r\nL 718.467187 0 \r\nL 0 0 \r\nz\r\n\" style=\"fill:none;\"/>\r\n  </g>\r\n  <g id=\"axes_1\">\r\n   <g id=\"patch_2\">\r\n    <path d=\"M 41.667187 333.36 \r\nL 711.267187 333.36 \r\nL 711.267187 7.2 \r\nL 41.667187 7.2 \r\nz\r\n\" style=\"fill:#ffffff;\"/>\r\n   </g>\r\n   <g id=\"matplotlib.axis_1\">\r\n    <g id=\"xtick_1\">\r\n     <g id=\"line2d_1\">\r\n      <path clip-path=\"url(#pc8c31a46af)\" d=\"M 72.103551 333.36 \r\nL 72.103551 7.2 \r\n\" style=\"fill:none;stroke:#b0b0b0;stroke-linecap:square;stroke-width:0.8;\"/>\r\n     </g>\r\n     <g id=\"line2d_2\">\r\n      <defs>\r\n       <path d=\"M 0 0 \r\nL 0 3.5 \r\n\" id=\"m2e60681c7a\" style=\"stroke:#000000;stroke-width:0.8;\"/>\r\n      </defs>\r\n      <g>\r\n       <use style=\"stroke:#000000;stroke-width:0.8;\" x=\"72.103551\" xlink:href=\"#m2e60681c7a\" y=\"333.36\"/>\r\n      </g>\r\n     </g>\r\n     <g id=\"text_1\">\r\n      <!-- 0.0 -->\r\n      <defs>\r\n       <path d=\"M 31.78125 66.40625 \r\nQ 24.171875 66.40625 20.328125 58.90625 \r\nQ 16.5 51.421875 16.5 36.375 \r\nQ 16.5 21.390625 20.328125 13.890625 \r\nQ 24.171875 6.390625 31.78125 6.390625 \r\nQ 39.453125 6.390625 43.28125 13.890625 \r\nQ 47.125 21.390625 47.125 36.375 \r\nQ 47.125 51.421875 43.28125 58.90625 \r\nQ 39.453125 66.40625 31.78125 66.40625 \r\nz\r\nM 31.78125 74.21875 \r\nQ 44.046875 74.21875 50.515625 64.515625 \r\nQ 56.984375 54.828125 56.984375 36.375 \r\nQ 56.984375 17.96875 50.515625 8.265625 \r\nQ 44.046875 -1.421875 31.78125 -1.421875 \r\nQ 19.53125 -1.421875 13.0625 8.265625 \r\nQ 6.59375 17.96875 6.59375 36.375 \r\nQ 6.59375 54.828125 13.0625 64.515625 \r\nQ 19.53125 74.21875 31.78125 74.21875 \r\nz\r\n\" id=\"DejaVuSans-48\"/>\r\n       <path d=\"M 10.6875 12.40625 \r\nL 21 12.40625 \r\nL 21 0 \r\nL 10.6875 0 \r\nz\r\n\" id=\"DejaVuSans-46\"/>\r\n      </defs>\r\n      <g transform=\"translate(64.151989 347.958438)scale(0.1 -0.1)\">\r\n       <use xlink:href=\"#DejaVuSans-48\"/>\r\n       <use x=\"63.623047\" xlink:href=\"#DejaVuSans-46\"/>\r\n       <use x=\"95.410156\" xlink:href=\"#DejaVuSans-48\"/>\r\n      </g>\r\n     </g>\r\n    </g>\r\n    <g id=\"xtick_2\">\r\n     <g id=\"line2d_3\">\r\n      <path clip-path=\"url(#pc8c31a46af)\" d=\"M 156.649006 333.36 \r\nL 156.649006 7.2 \r\n\" style=\"fill:none;stroke:#b0b0b0;stroke-linecap:square;stroke-width:0.8;\"/>\r\n     </g>\r\n     <g id=\"line2d_4\">\r\n      <g>\r\n       <use style=\"stroke:#000000;stroke-width:0.8;\" x=\"156.649006\" xlink:href=\"#m2e60681c7a\" y=\"333.36\"/>\r\n      </g>\r\n     </g>\r\n     <g id=\"text_2\">\r\n      <!-- 2.5 -->\r\n      <defs>\r\n       <path d=\"M 19.1875 8.296875 \r\nL 53.609375 8.296875 \r\nL 53.609375 0 \r\nL 7.328125 0 \r\nL 7.328125 8.296875 \r\nQ 12.9375 14.109375 22.625 23.890625 \r\nQ 32.328125 33.6875 34.8125 36.53125 \r\nQ 39.546875 41.84375 41.421875 45.53125 \r\nQ 43.3125 49.21875 43.3125 52.78125 \r\nQ 43.3125 58.59375 39.234375 62.25 \r\nQ 35.15625 65.921875 28.609375 65.921875 \r\nQ 23.96875 65.921875 18.8125 64.3125 \r\nQ 13.671875 62.703125 7.8125 59.421875 \r\nL 7.8125 69.390625 \r\nQ 13.765625 71.78125 18.9375 73 \r\nQ 24.125 74.21875 28.421875 74.21875 \r\nQ 39.75 74.21875 46.484375 68.546875 \r\nQ 53.21875 62.890625 53.21875 53.421875 \r\nQ 53.21875 48.921875 51.53125 44.890625 \r\nQ 49.859375 40.875 45.40625 35.40625 \r\nQ 44.1875 33.984375 37.640625 27.21875 \r\nQ 31.109375 20.453125 19.1875 8.296875 \r\nz\r\n\" id=\"DejaVuSans-50\"/>\r\n       <path d=\"M 10.796875 72.90625 \r\nL 49.515625 72.90625 \r\nL 49.515625 64.59375 \r\nL 19.828125 64.59375 \r\nL 19.828125 46.734375 \r\nQ 21.96875 47.46875 24.109375 47.828125 \r\nQ 26.265625 48.1875 28.421875 48.1875 \r\nQ 40.625 48.1875 47.75 41.5 \r\nQ 54.890625 34.8125 54.890625 23.390625 \r\nQ 54.890625 11.625 47.5625 5.09375 \r\nQ 40.234375 -1.421875 26.90625 -1.421875 \r\nQ 22.3125 -1.421875 17.546875 -0.640625 \r\nQ 12.796875 0.140625 7.71875 1.703125 \r\nL 7.71875 11.625 \r\nQ 12.109375 9.234375 16.796875 8.0625 \r\nQ 21.484375 6.890625 26.703125 6.890625 \r\nQ 35.15625 6.890625 40.078125 11.328125 \r\nQ 45.015625 15.765625 45.015625 23.390625 \r\nQ 45.015625 31 40.078125 35.4375 \r\nQ 35.15625 39.890625 26.703125 39.890625 \r\nQ 22.75 39.890625 18.8125 39.015625 \r\nQ 14.890625 38.140625 10.796875 36.28125 \r\nz\r\n\" id=\"DejaVuSans-53\"/>\r\n      </defs>\r\n      <g transform=\"translate(148.697443 347.958438)scale(0.1 -0.1)\">\r\n       <use xlink:href=\"#DejaVuSans-50\"/>\r\n       <use x=\"63.623047\" xlink:href=\"#DejaVuSans-46\"/>\r\n       <use x=\"95.410156\" xlink:href=\"#DejaVuSans-53\"/>\r\n      </g>\r\n     </g>\r\n    </g>\r\n    <g id=\"xtick_3\">\r\n     <g id=\"line2d_5\">\r\n      <path clip-path=\"url(#pc8c31a46af)\" d=\"M 241.19446 333.36 \r\nL 241.19446 7.2 \r\n\" style=\"fill:none;stroke:#b0b0b0;stroke-linecap:square;stroke-width:0.8;\"/>\r\n     </g>\r\n     <g id=\"line2d_6\">\r\n      <g>\r\n       <use style=\"stroke:#000000;stroke-width:0.8;\" x=\"241.19446\" xlink:href=\"#m2e60681c7a\" y=\"333.36\"/>\r\n      </g>\r\n     </g>\r\n     <g id=\"text_3\">\r\n      <!-- 5.0 -->\r\n      <g transform=\"translate(233.242898 347.958438)scale(0.1 -0.1)\">\r\n       <use xlink:href=\"#DejaVuSans-53\"/>\r\n       <use x=\"63.623047\" xlink:href=\"#DejaVuSans-46\"/>\r\n       <use x=\"95.410156\" xlink:href=\"#DejaVuSans-48\"/>\r\n      </g>\r\n     </g>\r\n    </g>\r\n    <g id=\"xtick_4\">\r\n     <g id=\"line2d_7\">\r\n      <path clip-path=\"url(#pc8c31a46af)\" d=\"M 325.739915 333.36 \r\nL 325.739915 7.2 \r\n\" style=\"fill:none;stroke:#b0b0b0;stroke-linecap:square;stroke-width:0.8;\"/>\r\n     </g>\r\n     <g id=\"line2d_8\">\r\n      <g>\r\n       <use style=\"stroke:#000000;stroke-width:0.8;\" x=\"325.739915\" xlink:href=\"#m2e60681c7a\" y=\"333.36\"/>\r\n      </g>\r\n     </g>\r\n     <g id=\"text_4\">\r\n      <!-- 7.5 -->\r\n      <defs>\r\n       <path d=\"M 8.203125 72.90625 \r\nL 55.078125 72.90625 \r\nL 55.078125 68.703125 \r\nL 28.609375 0 \r\nL 18.3125 0 \r\nL 43.21875 64.59375 \r\nL 8.203125 64.59375 \r\nz\r\n\" id=\"DejaVuSans-55\"/>\r\n      </defs>\r\n      <g transform=\"translate(317.788352 347.958438)scale(0.1 -0.1)\">\r\n       <use xlink:href=\"#DejaVuSans-55\"/>\r\n       <use x=\"63.623047\" xlink:href=\"#DejaVuSans-46\"/>\r\n       <use x=\"95.410156\" xlink:href=\"#DejaVuSans-53\"/>\r\n      </g>\r\n     </g>\r\n    </g>\r\n    <g id=\"xtick_5\">\r\n     <g id=\"line2d_9\">\r\n      <path clip-path=\"url(#pc8c31a46af)\" d=\"M 410.285369 333.36 \r\nL 410.285369 7.2 \r\n\" style=\"fill:none;stroke:#b0b0b0;stroke-linecap:square;stroke-width:0.8;\"/>\r\n     </g>\r\n     <g id=\"line2d_10\">\r\n      <g>\r\n       <use style=\"stroke:#000000;stroke-width:0.8;\" x=\"410.285369\" xlink:href=\"#m2e60681c7a\" y=\"333.36\"/>\r\n      </g>\r\n     </g>\r\n     <g id=\"text_5\">\r\n      <!-- 10.0 -->\r\n      <defs>\r\n       <path d=\"M 12.40625 8.296875 \r\nL 28.515625 8.296875 \r\nL 28.515625 63.921875 \r\nL 10.984375 60.40625 \r\nL 10.984375 69.390625 \r\nL 28.421875 72.90625 \r\nL 38.28125 72.90625 \r\nL 38.28125 8.296875 \r\nL 54.390625 8.296875 \r\nL 54.390625 0 \r\nL 12.40625 0 \r\nz\r\n\" id=\"DejaVuSans-49\"/>\r\n      </defs>\r\n      <g transform=\"translate(399.152557 347.958438)scale(0.1 -0.1)\">\r\n       <use xlink:href=\"#DejaVuSans-49\"/>\r\n       <use x=\"63.623047\" xlink:href=\"#DejaVuSans-48\"/>\r\n       <use x=\"127.246094\" xlink:href=\"#DejaVuSans-46\"/>\r\n       <use x=\"159.033203\" xlink:href=\"#DejaVuSans-48\"/>\r\n      </g>\r\n     </g>\r\n    </g>\r\n    <g id=\"xtick_6\">\r\n     <g id=\"line2d_11\">\r\n      <path clip-path=\"url(#pc8c31a46af)\" d=\"M 494.830824 333.36 \r\nL 494.830824 7.2 \r\n\" style=\"fill:none;stroke:#b0b0b0;stroke-linecap:square;stroke-width:0.8;\"/>\r\n     </g>\r\n     <g id=\"line2d_12\">\r\n      <g>\r\n       <use style=\"stroke:#000000;stroke-width:0.8;\" x=\"494.830824\" xlink:href=\"#m2e60681c7a\" y=\"333.36\"/>\r\n      </g>\r\n     </g>\r\n     <g id=\"text_6\">\r\n      <!-- 12.5 -->\r\n      <g transform=\"translate(483.698011 347.958438)scale(0.1 -0.1)\">\r\n       <use xlink:href=\"#DejaVuSans-49\"/>\r\n       <use x=\"63.623047\" xlink:href=\"#DejaVuSans-50\"/>\r\n       <use x=\"127.246094\" xlink:href=\"#DejaVuSans-46\"/>\r\n       <use x=\"159.033203\" xlink:href=\"#DejaVuSans-53\"/>\r\n      </g>\r\n     </g>\r\n    </g>\r\n    <g id=\"xtick_7\">\r\n     <g id=\"line2d_13\">\r\n      <path clip-path=\"url(#pc8c31a46af)\" d=\"M 579.376278 333.36 \r\nL 579.376278 7.2 \r\n\" style=\"fill:none;stroke:#b0b0b0;stroke-linecap:square;stroke-width:0.8;\"/>\r\n     </g>\r\n     <g id=\"line2d_14\">\r\n      <g>\r\n       <use style=\"stroke:#000000;stroke-width:0.8;\" x=\"579.376278\" xlink:href=\"#m2e60681c7a\" y=\"333.36\"/>\r\n      </g>\r\n     </g>\r\n     <g id=\"text_7\">\r\n      <!-- 15.0 -->\r\n      <g transform=\"translate(568.243466 347.958438)scale(0.1 -0.1)\">\r\n       <use xlink:href=\"#DejaVuSans-49\"/>\r\n       <use x=\"63.623047\" xlink:href=\"#DejaVuSans-53\"/>\r\n       <use x=\"127.246094\" xlink:href=\"#DejaVuSans-46\"/>\r\n       <use x=\"159.033203\" xlink:href=\"#DejaVuSans-48\"/>\r\n      </g>\r\n     </g>\r\n    </g>\r\n    <g id=\"xtick_8\">\r\n     <g id=\"line2d_15\">\r\n      <path clip-path=\"url(#pc8c31a46af)\" d=\"M 663.921733 333.36 \r\nL 663.921733 7.2 \r\n\" style=\"fill:none;stroke:#b0b0b0;stroke-linecap:square;stroke-width:0.8;\"/>\r\n     </g>\r\n     <g id=\"line2d_16\">\r\n      <g>\r\n       <use style=\"stroke:#000000;stroke-width:0.8;\" x=\"663.921733\" xlink:href=\"#m2e60681c7a\" y=\"333.36\"/>\r\n      </g>\r\n     </g>\r\n     <g id=\"text_8\">\r\n      <!-- 17.5 -->\r\n      <g transform=\"translate(652.78892 347.958438)scale(0.1 -0.1)\">\r\n       <use xlink:href=\"#DejaVuSans-49\"/>\r\n       <use x=\"63.623047\" xlink:href=\"#DejaVuSans-55\"/>\r\n       <use x=\"127.246094\" xlink:href=\"#DejaVuSans-46\"/>\r\n       <use x=\"159.033203\" xlink:href=\"#DejaVuSans-53\"/>\r\n      </g>\r\n     </g>\r\n    </g>\r\n   </g>\r\n   <g id=\"matplotlib.axis_2\">\r\n    <g id=\"ytick_1\">\r\n     <g id=\"line2d_17\">\r\n      <path clip-path=\"url(#pc8c31a46af)\" d=\"M 41.667187 301.035582 \r\nL 711.267187 301.035582 \r\n\" style=\"fill:none;stroke:#b0b0b0;stroke-linecap:square;stroke-width:0.8;\"/>\r\n     </g>\r\n     <g id=\"line2d_18\">\r\n      <defs>\r\n       <path d=\"M 0 0 \r\nL -3.5 0 \r\n\" id=\"mdd9045efe1\" style=\"stroke:#000000;stroke-width:0.8;\"/>\r\n      </defs>\r\n      <g>\r\n       <use style=\"stroke:#000000;stroke-width:0.8;\" x=\"41.667187\" xlink:href=\"#mdd9045efe1\" y=\"301.035582\"/>\r\n      </g>\r\n     </g>\r\n     <g id=\"text_9\">\r\n      <!-- −500 -->\r\n      <defs>\r\n       <path d=\"M 10.59375 35.5 \r\nL 73.1875 35.5 \r\nL 73.1875 27.203125 \r\nL 10.59375 27.203125 \r\nz\r\n\" id=\"DejaVuSans-8722\"/>\r\n      </defs>\r\n      <g transform=\"translate(7.2 304.8348)scale(0.1 -0.1)\">\r\n       <use xlink:href=\"#DejaVuSans-8722\"/>\r\n       <use x=\"83.789062\" xlink:href=\"#DejaVuSans-53\"/>\r\n       <use x=\"147.412109\" xlink:href=\"#DejaVuSans-48\"/>\r\n       <use x=\"211.035156\" xlink:href=\"#DejaVuSans-48\"/>\r\n      </g>\r\n     </g>\r\n    </g>\r\n    <g id=\"ytick_2\">\r\n     <g id=\"line2d_19\">\r\n      <path clip-path=\"url(#pc8c31a46af)\" d=\"M 41.667187 237.550172 \r\nL 711.267187 237.550172 \r\n\" style=\"fill:none;stroke:#b0b0b0;stroke-linecap:square;stroke-width:0.8;\"/>\r\n     </g>\r\n     <g id=\"line2d_20\">\r\n      <g>\r\n       <use style=\"stroke:#000000;stroke-width:0.8;\" x=\"41.667187\" xlink:href=\"#mdd9045efe1\" y=\"237.550172\"/>\r\n      </g>\r\n     </g>\r\n     <g id=\"text_10\">\r\n      <!-- −400 -->\r\n      <defs>\r\n       <path d=\"M 37.796875 64.3125 \r\nL 12.890625 25.390625 \r\nL 37.796875 25.390625 \r\nz\r\nM 35.203125 72.90625 \r\nL 47.609375 72.90625 \r\nL 47.609375 25.390625 \r\nL 58.015625 25.390625 \r\nL 58.015625 17.1875 \r\nL 47.609375 17.1875 \r\nL 47.609375 0 \r\nL 37.796875 0 \r\nL 37.796875 17.1875 \r\nL 4.890625 17.1875 \r\nL 4.890625 26.703125 \r\nz\r\n\" id=\"DejaVuSans-52\"/>\r\n      </defs>\r\n      <g transform=\"translate(7.2 241.34939)scale(0.1 -0.1)\">\r\n       <use xlink:href=\"#DejaVuSans-8722\"/>\r\n       <use x=\"83.789062\" xlink:href=\"#DejaVuSans-52\"/>\r\n       <use x=\"147.412109\" xlink:href=\"#DejaVuSans-48\"/>\r\n       <use x=\"211.035156\" xlink:href=\"#DejaVuSans-48\"/>\r\n      </g>\r\n     </g>\r\n    </g>\r\n    <g id=\"ytick_3\">\r\n     <g id=\"line2d_21\">\r\n      <path clip-path=\"url(#pc8c31a46af)\" d=\"M 41.667187 174.064762 \r\nL 711.267187 174.064762 \r\n\" style=\"fill:none;stroke:#b0b0b0;stroke-linecap:square;stroke-width:0.8;\"/>\r\n     </g>\r\n     <g id=\"line2d_22\">\r\n      <g>\r\n       <use style=\"stroke:#000000;stroke-width:0.8;\" x=\"41.667187\" xlink:href=\"#mdd9045efe1\" y=\"174.064762\"/>\r\n      </g>\r\n     </g>\r\n     <g id=\"text_11\">\r\n      <!-- −300 -->\r\n      <defs>\r\n       <path d=\"M 40.578125 39.3125 \r\nQ 47.65625 37.796875 51.625 33 \r\nQ 55.609375 28.21875 55.609375 21.1875 \r\nQ 55.609375 10.40625 48.1875 4.484375 \r\nQ 40.765625 -1.421875 27.09375 -1.421875 \r\nQ 22.515625 -1.421875 17.65625 -0.515625 \r\nQ 12.796875 0.390625 7.625 2.203125 \r\nL 7.625 11.71875 \r\nQ 11.71875 9.328125 16.59375 8.109375 \r\nQ 21.484375 6.890625 26.8125 6.890625 \r\nQ 36.078125 6.890625 40.9375 10.546875 \r\nQ 45.796875 14.203125 45.796875 21.1875 \r\nQ 45.796875 27.640625 41.28125 31.265625 \r\nQ 36.765625 34.90625 28.71875 34.90625 \r\nL 20.21875 34.90625 \r\nL 20.21875 43.015625 \r\nL 29.109375 43.015625 \r\nQ 36.375 43.015625 40.234375 45.921875 \r\nQ 44.09375 48.828125 44.09375 54.296875 \r\nQ 44.09375 59.90625 40.109375 62.90625 \r\nQ 36.140625 65.921875 28.71875 65.921875 \r\nQ 24.65625 65.921875 20.015625 65.03125 \r\nQ 15.375 64.15625 9.8125 62.3125 \r\nL 9.8125 71.09375 \r\nQ 15.4375 72.65625 20.34375 73.4375 \r\nQ 25.25 74.21875 29.59375 74.21875 \r\nQ 40.828125 74.21875 47.359375 69.109375 \r\nQ 53.90625 64.015625 53.90625 55.328125 \r\nQ 53.90625 49.265625 50.4375 45.09375 \r\nQ 46.96875 40.921875 40.578125 39.3125 \r\nz\r\n\" id=\"DejaVuSans-51\"/>\r\n      </defs>\r\n      <g transform=\"translate(7.2 177.86398)scale(0.1 -0.1)\">\r\n       <use xlink:href=\"#DejaVuSans-8722\"/>\r\n       <use x=\"83.789062\" xlink:href=\"#DejaVuSans-51\"/>\r\n       <use x=\"147.412109\" xlink:href=\"#DejaVuSans-48\"/>\r\n       <use x=\"211.035156\" xlink:href=\"#DejaVuSans-48\"/>\r\n      </g>\r\n     </g>\r\n    </g>\r\n    <g id=\"ytick_4\">\r\n     <g id=\"line2d_23\">\r\n      <path clip-path=\"url(#pc8c31a46af)\" d=\"M 41.667187 110.579352 \r\nL 711.267187 110.579352 \r\n\" style=\"fill:none;stroke:#b0b0b0;stroke-linecap:square;stroke-width:0.8;\"/>\r\n     </g>\r\n     <g id=\"line2d_24\">\r\n      <g>\r\n       <use style=\"stroke:#000000;stroke-width:0.8;\" x=\"41.667187\" xlink:href=\"#mdd9045efe1\" y=\"110.579352\"/>\r\n      </g>\r\n     </g>\r\n     <g id=\"text_12\">\r\n      <!-- −200 -->\r\n      <g transform=\"translate(7.2 114.37857)scale(0.1 -0.1)\">\r\n       <use xlink:href=\"#DejaVuSans-8722\"/>\r\n       <use x=\"83.789062\" xlink:href=\"#DejaVuSans-50\"/>\r\n       <use x=\"147.412109\" xlink:href=\"#DejaVuSans-48\"/>\r\n       <use x=\"211.035156\" xlink:href=\"#DejaVuSans-48\"/>\r\n      </g>\r\n     </g>\r\n    </g>\r\n    <g id=\"ytick_5\">\r\n     <g id=\"line2d_25\">\r\n      <path clip-path=\"url(#pc8c31a46af)\" d=\"M 41.667187 47.093942 \r\nL 711.267187 47.093942 \r\n\" style=\"fill:none;stroke:#b0b0b0;stroke-linecap:square;stroke-width:0.8;\"/>\r\n     </g>\r\n     <g id=\"line2d_26\">\r\n      <g>\r\n       <use style=\"stroke:#000000;stroke-width:0.8;\" x=\"41.667187\" xlink:href=\"#mdd9045efe1\" y=\"47.093942\"/>\r\n      </g>\r\n     </g>\r\n     <g id=\"text_13\">\r\n      <!-- −100 -->\r\n      <g transform=\"translate(7.2 50.89316)scale(0.1 -0.1)\">\r\n       <use xlink:href=\"#DejaVuSans-8722\"/>\r\n       <use x=\"83.789062\" xlink:href=\"#DejaVuSans-49\"/>\r\n       <use x=\"147.412109\" xlink:href=\"#DejaVuSans-48\"/>\r\n       <use x=\"211.035156\" xlink:href=\"#DejaVuSans-48\"/>\r\n      </g>\r\n     </g>\r\n    </g>\r\n   </g>\r\n   <g id=\"line2d_27\">\r\n    <path clip-path=\"url(#pc8c31a46af)\" d=\"M 72.103551 318.534545 \r\nL 105.921733 230.322622 \r\nL 139.739915 188.776568 \r\nL 173.558097 148.453566 \r\nL 207.376278 116.561486 \r\nL 241.19446 95.582097 \r\nL 275.012642 78.622188 \r\nL 308.830824 67.892445 \r\nL 342.649006 59.951278 \r\nL 376.467188 53.85228 \r\nL 410.285369 48.869204 \r\nL 444.103551 43.711671 \r\nL 477.921733 39.472276 \r\nL 511.739915 33.757222 \r\nL 545.558097 30.818669 \r\nL 579.376278 28.642175 \r\nL 613.19446 26.77512 \r\nL 647.012642 24.499196 \r\nL 680.830824 22.025455 \r\n\" style=\"fill:none;stroke:#1f77b4;stroke-linecap:square;stroke-width:1.5;\"/>\r\n   </g>\r\n   <g id=\"patch_3\">\r\n    <path d=\"M 41.667187 333.36 \r\nL 41.667187 7.2 \r\n\" style=\"fill:none;stroke:#000000;stroke-linecap:square;stroke-linejoin:miter;stroke-width:0.8;\"/>\r\n   </g>\r\n   <g id=\"patch_4\">\r\n    <path d=\"M 711.267187 333.36 \r\nL 711.267187 7.2 \r\n\" style=\"fill:none;stroke:#000000;stroke-linecap:square;stroke-linejoin:miter;stroke-width:0.8;\"/>\r\n   </g>\r\n   <g id=\"patch_5\">\r\n    <path d=\"M 41.667188 333.36 \r\nL 711.267187 333.36 \r\n\" style=\"fill:none;stroke:#000000;stroke-linecap:square;stroke-linejoin:miter;stroke-width:0.8;\"/>\r\n   </g>\r\n   <g id=\"patch_6\">\r\n    <path d=\"M 41.667188 7.2 \r\nL 711.267187 7.2 \r\n\" style=\"fill:none;stroke:#000000;stroke-linecap:square;stroke-linejoin:miter;stroke-width:0.8;\"/>\r\n   </g>\r\n  </g>\r\n </g>\r\n <defs>\r\n  <clipPath id=\"pc8c31a46af\">\r\n   <rect height=\"326.16\" width=\"669.6\" x=\"41.667187\" y=\"7.2\"/>\r\n  </clipPath>\r\n </defs>\r\n</svg>\r\n",
      "image/png": "[encoded data removed]"
     },
     "metadata": {
      "needs_background": "light"
     }
    }
   ],
   "source": [
    "import matplotlib.pyplot as plt\n",
    "plt.figure(figsize = (12,6))\n",
    "plt.plot(score)\n",
    "plt.grid()\n",
    "plt.show()"
   ]
  },
  {
   "cell_type": "code",
   "execution_count": 176,
   "metadata": {},
   "outputs": [
    {
     "output_type": "display_data",
     "data": {
      "text/plain": "<Figure size 864x864 with 1 Axes>",
      "image/svg+xml": "<?xml version=\"1.0\" encoding=\"utf-8\" standalone=\"no\"?>\r\n<!DOCTYPE svg PUBLIC \"-//W3C//DTD SVG 1.1//EN\"\r\n  \"http://www.w3.org/Graphics/SVG/1.1/DTD/svg11.dtd\">\r\n<!-- Created with matplotlib (https://matplotlib.org/) -->\r\n<svg height=\"712.194375pt\" version=\"1.1\" viewBox=\"0 0 723.765625 712.194375\" width=\"723.765625pt\" xmlns=\"http://www.w3.org/2000/svg\" xmlns:xlink=\"http://www.w3.org/1999/xlink\">\r\n <defs>\r\n  <style type=\"text/css\">\r\n*{stroke-linecap:butt;stroke-linejoin:round;}\r\n  </style>\r\n </defs>\r\n <g id=\"figure_1\">\r\n  <g id=\"patch_1\">\r\n   <path d=\"M 0 712.194375 \r\nL 723.765625 712.194375 \r\nL 723.765625 0 \r\nL 0 0 \r\nz\r\n\" style=\"fill:none;\"/>\r\n  </g>\r\n  <g id=\"axes_1\">\r\n   <g id=\"patch_2\">\r\n    <path d=\"M 46.965625 674.638125 \r\nL 716.565625 674.638125 \r\nL 716.565625 22.318125 \r\nL 46.965625 22.318125 \r\nz\r\n\" style=\"fill:#ffffff;\"/>\r\n   </g>\r\n   <g id=\"matplotlib.axis_1\">\r\n    <g id=\"xtick_1\">\r\n     <g id=\"line2d_1\">\r\n      <path clip-path=\"url(#p602cf4a5b4)\" d=\"M 46.965625 674.638125 \r\nL 46.965625 22.318125 \r\n\" style=\"fill:none;stroke:#b0b0b0;stroke-linecap:square;stroke-width:0.8;\"/>\r\n     </g>\r\n     <g id=\"line2d_2\">\r\n      <defs>\r\n       <path d=\"M 0 0 \r\nL 0 3.5 \r\n\" id=\"mac2b36a910\" style=\"stroke:#000000;stroke-width:0.8;\"/>\r\n      </defs>\r\n      <g>\r\n       <use style=\"stroke:#000000;stroke-width:0.8;\" x=\"46.965625\" xlink:href=\"#mac2b36a910\" y=\"674.638125\"/>\r\n      </g>\r\n     </g>\r\n     <g id=\"text_1\">\r\n      <!-- 0 -->\r\n      <defs>\r\n       <path d=\"M 31.78125 66.40625 \r\nQ 24.171875 66.40625 20.328125 58.90625 \r\nQ 16.5 51.421875 16.5 36.375 \r\nQ 16.5 21.390625 20.328125 13.890625 \r\nQ 24.171875 6.390625 31.78125 6.390625 \r\nQ 39.453125 6.390625 43.28125 13.890625 \r\nQ 47.125 21.390625 47.125 36.375 \r\nQ 47.125 51.421875 43.28125 58.90625 \r\nQ 39.453125 66.40625 31.78125 66.40625 \r\nz\r\nM 31.78125 74.21875 \r\nQ 44.046875 74.21875 50.515625 64.515625 \r\nQ 56.984375 54.828125 56.984375 36.375 \r\nQ 56.984375 17.96875 50.515625 8.265625 \r\nQ 44.046875 -1.421875 31.78125 -1.421875 \r\nQ 19.53125 -1.421875 13.0625 8.265625 \r\nQ 6.59375 17.96875 6.59375 36.375 \r\nQ 6.59375 54.828125 13.0625 64.515625 \r\nQ 19.53125 74.21875 31.78125 74.21875 \r\nz\r\n\" id=\"DejaVuSans-48\"/>\r\n      </defs>\r\n      <g transform=\"translate(43.784375 689.236562)scale(0.1 -0.1)\">\r\n       <use xlink:href=\"#DejaVuSans-48\"/>\r\n      </g>\r\n     </g>\r\n    </g>\r\n    <g id=\"xtick_2\">\r\n     <g id=\"line2d_3\">\r\n      <path clip-path=\"url(#p602cf4a5b4)\" d=\"M 80.613866 674.638125 \r\nL 80.613866 22.318125 \r\n\" style=\"fill:none;stroke:#b0b0b0;stroke-linecap:square;stroke-width:0.8;\"/>\r\n     </g>\r\n     <g id=\"line2d_4\">\r\n      <g>\r\n       <use style=\"stroke:#000000;stroke-width:0.8;\" x=\"80.613866\" xlink:href=\"#mac2b36a910\" y=\"674.638125\"/>\r\n      </g>\r\n     </g>\r\n     <g id=\"text_2\">\r\n      <!-- 1 -->\r\n      <defs>\r\n       <path d=\"M 12.40625 8.296875 \r\nL 28.515625 8.296875 \r\nL 28.515625 63.921875 \r\nL 10.984375 60.40625 \r\nL 10.984375 69.390625 \r\nL 28.421875 72.90625 \r\nL 38.28125 72.90625 \r\nL 38.28125 8.296875 \r\nL 54.390625 8.296875 \r\nL 54.390625 0 \r\nL 12.40625 0 \r\nz\r\n\" id=\"DejaVuSans-49\"/>\r\n      </defs>\r\n      <g transform=\"translate(77.432616 689.236562)scale(0.1 -0.1)\">\r\n       <use xlink:href=\"#DejaVuSans-49\"/>\r\n      </g>\r\n     </g>\r\n    </g>\r\n    <g id=\"xtick_3\">\r\n     <g id=\"line2d_5\">\r\n      <path clip-path=\"url(#p602cf4a5b4)\" d=\"M 114.262107 674.638125 \r\nL 114.262107 22.318125 \r\n\" style=\"fill:none;stroke:#b0b0b0;stroke-linecap:square;stroke-width:0.8;\"/>\r\n     </g>\r\n     <g id=\"line2d_6\">\r\n      <g>\r\n       <use style=\"stroke:#000000;stroke-width:0.8;\" x=\"114.262107\" xlink:href=\"#mac2b36a910\" y=\"674.638125\"/>\r\n      </g>\r\n     </g>\r\n     <g id=\"text_3\">\r\n      <!-- 2 -->\r\n      <defs>\r\n       <path d=\"M 19.1875 8.296875 \r\nL 53.609375 8.296875 \r\nL 53.609375 0 \r\nL 7.328125 0 \r\nL 7.328125 8.296875 \r\nQ 12.9375 14.109375 22.625 23.890625 \r\nQ 32.328125 33.6875 34.8125 36.53125 \r\nQ 39.546875 41.84375 41.421875 45.53125 \r\nQ 43.3125 49.21875 43.3125 52.78125 \r\nQ 43.3125 58.59375 39.234375 62.25 \r\nQ 35.15625 65.921875 28.609375 65.921875 \r\nQ 23.96875 65.921875 18.8125 64.3125 \r\nQ 13.671875 62.703125 7.8125 59.421875 \r\nL 7.8125 69.390625 \r\nQ 13.765625 71.78125 18.9375 73 \r\nQ 24.125 74.21875 28.421875 74.21875 \r\nQ 39.75 74.21875 46.484375 68.546875 \r\nQ 53.21875 62.890625 53.21875 53.421875 \r\nQ 53.21875 48.921875 51.53125 44.890625 \r\nQ 49.859375 40.875 45.40625 35.40625 \r\nQ 44.1875 33.984375 37.640625 27.21875 \r\nQ 31.109375 20.453125 19.1875 8.296875 \r\nz\r\n\" id=\"DejaVuSans-50\"/>\r\n      </defs>\r\n      <g transform=\"translate(111.080857 689.236562)scale(0.1 -0.1)\">\r\n       <use xlink:href=\"#DejaVuSans-50\"/>\r\n      </g>\r\n     </g>\r\n    </g>\r\n    <g id=\"xtick_4\">\r\n     <g id=\"line2d_7\">\r\n      <path clip-path=\"url(#p602cf4a5b4)\" d=\"M 147.910349 674.638125 \r\nL 147.910349 22.318125 \r\n\" style=\"fill:none;stroke:#b0b0b0;stroke-linecap:square;stroke-width:0.8;\"/>\r\n     </g>\r\n     <g id=\"line2d_8\">\r\n      <g>\r\n       <use style=\"stroke:#000000;stroke-width:0.8;\" x=\"147.910349\" xlink:href=\"#mac2b36a910\" y=\"674.638125\"/>\r\n      </g>\r\n     </g>\r\n     <g id=\"text_4\">\r\n      <!-- 3 -->\r\n      <defs>\r\n       <path d=\"M 40.578125 39.3125 \r\nQ 47.65625 37.796875 51.625 33 \r\nQ 55.609375 28.21875 55.609375 21.1875 \r\nQ 55.609375 10.40625 48.1875 4.484375 \r\nQ 40.765625 -1.421875 27.09375 -1.421875 \r\nQ 22.515625 -1.421875 17.65625 -0.515625 \r\nQ 12.796875 0.390625 7.625 2.203125 \r\nL 7.625 11.71875 \r\nQ 11.71875 9.328125 16.59375 8.109375 \r\nQ 21.484375 6.890625 26.8125 6.890625 \r\nQ 36.078125 6.890625 40.9375 10.546875 \r\nQ 45.796875 14.203125 45.796875 21.1875 \r\nQ 45.796875 27.640625 41.28125 31.265625 \r\nQ 36.765625 34.90625 28.71875 34.90625 \r\nL 20.21875 34.90625 \r\nL 20.21875 43.015625 \r\nL 29.109375 43.015625 \r\nQ 36.375 43.015625 40.234375 45.921875 \r\nQ 44.09375 48.828125 44.09375 54.296875 \r\nQ 44.09375 59.90625 40.109375 62.90625 \r\nQ 36.140625 65.921875 28.71875 65.921875 \r\nQ 24.65625 65.921875 20.015625 65.03125 \r\nQ 15.375 64.15625 9.8125 62.3125 \r\nL 9.8125 71.09375 \r\nQ 15.4375 72.65625 20.34375 73.4375 \r\nQ 25.25 74.21875 29.59375 74.21875 \r\nQ 40.828125 74.21875 47.359375 69.109375 \r\nQ 53.90625 64.015625 53.90625 55.328125 \r\nQ 53.90625 49.265625 50.4375 45.09375 \r\nQ 46.96875 40.921875 40.578125 39.3125 \r\nz\r\n\" id=\"DejaVuSans-51\"/>\r\n      </defs>\r\n      <g transform=\"translate(144.729099 689.236562)scale(0.1 -0.1)\">\r\n       <use xlink:href=\"#DejaVuSans-51\"/>\r\n      </g>\r\n     </g>\r\n    </g>\r\n    <g id=\"xtick_5\">\r\n     <g id=\"line2d_9\">\r\n      <path clip-path=\"url(#p602cf4a5b4)\" d=\"M 181.55859 674.638125 \r\nL 181.55859 22.318125 \r\n\" style=\"fill:none;stroke:#b0b0b0;stroke-linecap:square;stroke-width:0.8;\"/>\r\n     </g>\r\n     <g id=\"line2d_10\">\r\n      <g>\r\n       <use style=\"stroke:#000000;stroke-width:0.8;\" x=\"181.55859\" xlink:href=\"#mac2b36a910\" y=\"674.638125\"/>\r\n      </g>\r\n     </g>\r\n     <g id=\"text_5\">\r\n      <!-- 4 -->\r\n      <defs>\r\n       <path d=\"M 37.796875 64.3125 \r\nL 12.890625 25.390625 \r\nL 37.796875 25.390625 \r\nz\r\nM 35.203125 72.90625 \r\nL 47.609375 72.90625 \r\nL 47.609375 25.390625 \r\nL 58.015625 25.390625 \r\nL 58.015625 17.1875 \r\nL 47.609375 17.1875 \r\nL 47.609375 0 \r\nL 37.796875 0 \r\nL 37.796875 17.1875 \r\nL 4.890625 17.1875 \r\nL 4.890625 26.703125 \r\nz\r\n\" id=\"DejaVuSans-52\"/>\r\n      </defs>\r\n      <g transform=\"translate(178.37734 689.236562)scale(0.1 -0.1)\">\r\n       <use xlink:href=\"#DejaVuSans-52\"/>\r\n      </g>\r\n     </g>\r\n    </g>\r\n    <g id=\"xtick_6\">\r\n     <g id=\"line2d_11\">\r\n      <path clip-path=\"url(#p602cf4a5b4)\" d=\"M 215.206831 674.638125 \r\nL 215.206831 22.318125 \r\n\" style=\"fill:none;stroke:#b0b0b0;stroke-linecap:square;stroke-width:0.8;\"/>\r\n     </g>\r\n     <g id=\"line2d_12\">\r\n      <g>\r\n       <use style=\"stroke:#000000;stroke-width:0.8;\" x=\"215.206831\" xlink:href=\"#mac2b36a910\" y=\"674.638125\"/>\r\n      </g>\r\n     </g>\r\n     <g id=\"text_6\">\r\n      <!-- 5 -->\r\n      <defs>\r\n       <path d=\"M 10.796875 72.90625 \r\nL 49.515625 72.90625 \r\nL 49.515625 64.59375 \r\nL 19.828125 64.59375 \r\nL 19.828125 46.734375 \r\nQ 21.96875 47.46875 24.109375 47.828125 \r\nQ 26.265625 48.1875 28.421875 48.1875 \r\nQ 40.625 48.1875 47.75 41.5 \r\nQ 54.890625 34.8125 54.890625 23.390625 \r\nQ 54.890625 11.625 47.5625 5.09375 \r\nQ 40.234375 -1.421875 26.90625 -1.421875 \r\nQ 22.3125 -1.421875 17.546875 -0.640625 \r\nQ 12.796875 0.140625 7.71875 1.703125 \r\nL 7.71875 11.625 \r\nQ 12.109375 9.234375 16.796875 8.0625 \r\nQ 21.484375 6.890625 26.703125 6.890625 \r\nQ 35.15625 6.890625 40.078125 11.328125 \r\nQ 45.015625 15.765625 45.015625 23.390625 \r\nQ 45.015625 31 40.078125 35.4375 \r\nQ 35.15625 39.890625 26.703125 39.890625 \r\nQ 22.75 39.890625 18.8125 39.015625 \r\nQ 14.890625 38.140625 10.796875 36.28125 \r\nz\r\n\" id=\"DejaVuSans-53\"/>\r\n      </defs>\r\n      <g transform=\"translate(212.025581 689.236562)scale(0.1 -0.1)\">\r\n       <use xlink:href=\"#DejaVuSans-53\"/>\r\n      </g>\r\n     </g>\r\n    </g>\r\n    <g id=\"xtick_7\">\r\n     <g id=\"line2d_13\">\r\n      <path clip-path=\"url(#p602cf4a5b4)\" d=\"M 248.855072 674.638125 \r\nL 248.855072 22.318125 \r\n\" style=\"fill:none;stroke:#b0b0b0;stroke-linecap:square;stroke-width:0.8;\"/>\r\n     </g>\r\n     <g id=\"line2d_14\">\r\n      <g>\r\n       <use style=\"stroke:#000000;stroke-width:0.8;\" x=\"248.855072\" xlink:href=\"#mac2b36a910\" y=\"674.638125\"/>\r\n      </g>\r\n     </g>\r\n     <g id=\"text_7\">\r\n      <!-- 6 -->\r\n      <defs>\r\n       <path d=\"M 33.015625 40.375 \r\nQ 26.375 40.375 22.484375 35.828125 \r\nQ 18.609375 31.296875 18.609375 23.390625 \r\nQ 18.609375 15.53125 22.484375 10.953125 \r\nQ 26.375 6.390625 33.015625 6.390625 \r\nQ 39.65625 6.390625 43.53125 10.953125 \r\nQ 47.40625 15.53125 47.40625 23.390625 \r\nQ 47.40625 31.296875 43.53125 35.828125 \r\nQ 39.65625 40.375 33.015625 40.375 \r\nz\r\nM 52.59375 71.296875 \r\nL 52.59375 62.3125 \r\nQ 48.875 64.0625 45.09375 64.984375 \r\nQ 41.3125 65.921875 37.59375 65.921875 \r\nQ 27.828125 65.921875 22.671875 59.328125 \r\nQ 17.53125 52.734375 16.796875 39.40625 \r\nQ 19.671875 43.65625 24.015625 45.921875 \r\nQ 28.375 48.1875 33.59375 48.1875 \r\nQ 44.578125 48.1875 50.953125 41.515625 \r\nQ 57.328125 34.859375 57.328125 23.390625 \r\nQ 57.328125 12.15625 50.6875 5.359375 \r\nQ 44.046875 -1.421875 33.015625 -1.421875 \r\nQ 20.359375 -1.421875 13.671875 8.265625 \r\nQ 6.984375 17.96875 6.984375 36.375 \r\nQ 6.984375 53.65625 15.1875 63.9375 \r\nQ 23.390625 74.21875 37.203125 74.21875 \r\nQ 40.921875 74.21875 44.703125 73.484375 \r\nQ 48.484375 72.75 52.59375 71.296875 \r\nz\r\n\" id=\"DejaVuSans-54\"/>\r\n      </defs>\r\n      <g transform=\"translate(245.673822 689.236562)scale(0.1 -0.1)\">\r\n       <use xlink:href=\"#DejaVuSans-54\"/>\r\n      </g>\r\n     </g>\r\n    </g>\r\n    <g id=\"xtick_8\">\r\n     <g id=\"line2d_15\">\r\n      <path clip-path=\"url(#p602cf4a5b4)\" d=\"M 282.503313 674.638125 \r\nL 282.503313 22.318125 \r\n\" style=\"fill:none;stroke:#b0b0b0;stroke-linecap:square;stroke-width:0.8;\"/>\r\n     </g>\r\n     <g id=\"line2d_16\">\r\n      <g>\r\n       <use style=\"stroke:#000000;stroke-width:0.8;\" x=\"282.503313\" xlink:href=\"#mac2b36a910\" y=\"674.638125\"/>\r\n      </g>\r\n     </g>\r\n     <g id=\"text_8\">\r\n      <!-- 7 -->\r\n      <defs>\r\n       <path d=\"M 8.203125 72.90625 \r\nL 55.078125 72.90625 \r\nL 55.078125 68.703125 \r\nL 28.609375 0 \r\nL 18.3125 0 \r\nL 43.21875 64.59375 \r\nL 8.203125 64.59375 \r\nz\r\n\" id=\"DejaVuSans-55\"/>\r\n      </defs>\r\n      <g transform=\"translate(279.322063 689.236562)scale(0.1 -0.1)\">\r\n       <use xlink:href=\"#DejaVuSans-55\"/>\r\n      </g>\r\n     </g>\r\n    </g>\r\n    <g id=\"xtick_9\">\r\n     <g id=\"line2d_17\">\r\n      <path clip-path=\"url(#p602cf4a5b4)\" d=\"M 316.151555 674.638125 \r\nL 316.151555 22.318125 \r\n\" style=\"fill:none;stroke:#b0b0b0;stroke-linecap:square;stroke-width:0.8;\"/>\r\n     </g>\r\n     <g id=\"line2d_18\">\r\n      <g>\r\n       <use style=\"stroke:#000000;stroke-width:0.8;\" x=\"316.151555\" xlink:href=\"#mac2b36a910\" y=\"674.638125\"/>\r\n      </g>\r\n     </g>\r\n     <g id=\"text_9\">\r\n      <!-- 8 -->\r\n      <defs>\r\n       <path d=\"M 31.78125 34.625 \r\nQ 24.75 34.625 20.71875 30.859375 \r\nQ 16.703125 27.09375 16.703125 20.515625 \r\nQ 16.703125 13.921875 20.71875 10.15625 \r\nQ 24.75 6.390625 31.78125 6.390625 \r\nQ 38.8125 6.390625 42.859375 10.171875 \r\nQ 46.921875 13.96875 46.921875 20.515625 \r\nQ 46.921875 27.09375 42.890625 30.859375 \r\nQ 38.875 34.625 31.78125 34.625 \r\nz\r\nM 21.921875 38.8125 \r\nQ 15.578125 40.375 12.03125 44.71875 \r\nQ 8.5 49.078125 8.5 55.328125 \r\nQ 8.5 64.0625 14.71875 69.140625 \r\nQ 20.953125 74.21875 31.78125 74.21875 \r\nQ 42.671875 74.21875 48.875 69.140625 \r\nQ 55.078125 64.0625 55.078125 55.328125 \r\nQ 55.078125 49.078125 51.53125 44.71875 \r\nQ 48 40.375 41.703125 38.8125 \r\nQ 48.828125 37.15625 52.796875 32.3125 \r\nQ 56.78125 27.484375 56.78125 20.515625 \r\nQ 56.78125 9.90625 50.3125 4.234375 \r\nQ 43.84375 -1.421875 31.78125 -1.421875 \r\nQ 19.734375 -1.421875 13.25 4.234375 \r\nQ 6.78125 9.90625 6.78125 20.515625 \r\nQ 6.78125 27.484375 10.78125 32.3125 \r\nQ 14.796875 37.15625 21.921875 38.8125 \r\nz\r\nM 18.3125 54.390625 \r\nQ 18.3125 48.734375 21.84375 45.5625 \r\nQ 25.390625 42.390625 31.78125 42.390625 \r\nQ 38.140625 42.390625 41.71875 45.5625 \r\nQ 45.3125 48.734375 45.3125 54.390625 \r\nQ 45.3125 60.0625 41.71875 63.234375 \r\nQ 38.140625 66.40625 31.78125 66.40625 \r\nQ 25.390625 66.40625 21.84375 63.234375 \r\nQ 18.3125 60.0625 18.3125 54.390625 \r\nz\r\n\" id=\"DejaVuSans-56\"/>\r\n      </defs>\r\n      <g transform=\"translate(312.970305 689.236562)scale(0.1 -0.1)\">\r\n       <use xlink:href=\"#DejaVuSans-56\"/>\r\n      </g>\r\n     </g>\r\n    </g>\r\n    <g id=\"xtick_10\">\r\n     <g id=\"line2d_19\">\r\n      <path clip-path=\"url(#p602cf4a5b4)\" d=\"M 349.799796 674.638125 \r\nL 349.799796 22.318125 \r\n\" style=\"fill:none;stroke:#b0b0b0;stroke-linecap:square;stroke-width:0.8;\"/>\r\n     </g>\r\n     <g id=\"line2d_20\">\r\n      <g>\r\n       <use style=\"stroke:#000000;stroke-width:0.8;\" x=\"349.799796\" xlink:href=\"#mac2b36a910\" y=\"674.638125\"/>\r\n      </g>\r\n     </g>\r\n     <g id=\"text_10\">\r\n      <!-- 9 -->\r\n      <defs>\r\n       <path d=\"M 10.984375 1.515625 \r\nL 10.984375 10.5 \r\nQ 14.703125 8.734375 18.5 7.8125 \r\nQ 22.3125 6.890625 25.984375 6.890625 \r\nQ 35.75 6.890625 40.890625 13.453125 \r\nQ 46.046875 20.015625 46.78125 33.40625 \r\nQ 43.953125 29.203125 39.59375 26.953125 \r\nQ 35.25 24.703125 29.984375 24.703125 \r\nQ 19.046875 24.703125 12.671875 31.3125 \r\nQ 6.296875 37.9375 6.296875 49.421875 \r\nQ 6.296875 60.640625 12.9375 67.421875 \r\nQ 19.578125 74.21875 30.609375 74.21875 \r\nQ 43.265625 74.21875 49.921875 64.515625 \r\nQ 56.59375 54.828125 56.59375 36.375 \r\nQ 56.59375 19.140625 48.40625 8.859375 \r\nQ 40.234375 -1.421875 26.421875 -1.421875 \r\nQ 22.703125 -1.421875 18.890625 -0.6875 \r\nQ 15.09375 0.046875 10.984375 1.515625 \r\nz\r\nM 30.609375 32.421875 \r\nQ 37.25 32.421875 41.125 36.953125 \r\nQ 45.015625 41.5 45.015625 49.421875 \r\nQ 45.015625 57.28125 41.125 61.84375 \r\nQ 37.25 66.40625 30.609375 66.40625 \r\nQ 23.96875 66.40625 20.09375 61.84375 \r\nQ 16.21875 57.28125 16.21875 49.421875 \r\nQ 16.21875 41.5 20.09375 36.953125 \r\nQ 23.96875 32.421875 30.609375 32.421875 \r\nz\r\n\" id=\"DejaVuSans-57\"/>\r\n      </defs>\r\n      <g transform=\"translate(346.618546 689.236562)scale(0.1 -0.1)\">\r\n       <use xlink:href=\"#DejaVuSans-57\"/>\r\n      </g>\r\n     </g>\r\n    </g>\r\n    <g id=\"xtick_11\">\r\n     <g id=\"line2d_21\">\r\n      <path clip-path=\"url(#p602cf4a5b4)\" d=\"M 383.448037 674.638125 \r\nL 383.448037 22.318125 \r\n\" style=\"fill:none;stroke:#b0b0b0;stroke-linecap:square;stroke-width:0.8;\"/>\r\n     </g>\r\n     <g id=\"line2d_22\">\r\n      <g>\r\n       <use style=\"stroke:#000000;stroke-width:0.8;\" x=\"383.448037\" xlink:href=\"#mac2b36a910\" y=\"674.638125\"/>\r\n      </g>\r\n     </g>\r\n     <g id=\"text_11\">\r\n      <!-- 10 -->\r\n      <g transform=\"translate(377.085537 689.236562)scale(0.1 -0.1)\">\r\n       <use xlink:href=\"#DejaVuSans-49\"/>\r\n       <use x=\"63.623047\" xlink:href=\"#DejaVuSans-48\"/>\r\n      </g>\r\n     </g>\r\n    </g>\r\n    <g id=\"xtick_12\">\r\n     <g id=\"line2d_23\">\r\n      <path clip-path=\"url(#p602cf4a5b4)\" d=\"M 417.096278 674.638125 \r\nL 417.096278 22.318125 \r\n\" style=\"fill:none;stroke:#b0b0b0;stroke-linecap:square;stroke-width:0.8;\"/>\r\n     </g>\r\n     <g id=\"line2d_24\">\r\n      <g>\r\n       <use style=\"stroke:#000000;stroke-width:0.8;\" x=\"417.096278\" xlink:href=\"#mac2b36a910\" y=\"674.638125\"/>\r\n      </g>\r\n     </g>\r\n     <g id=\"text_12\">\r\n      <!-- 11 -->\r\n      <g transform=\"translate(410.733778 689.236562)scale(0.1 -0.1)\">\r\n       <use xlink:href=\"#DejaVuSans-49\"/>\r\n       <use x=\"63.623047\" xlink:href=\"#DejaVuSans-49\"/>\r\n      </g>\r\n     </g>\r\n    </g>\r\n    <g id=\"xtick_13\">\r\n     <g id=\"line2d_25\">\r\n      <path clip-path=\"url(#p602cf4a5b4)\" d=\"M 450.744519 674.638125 \r\nL 450.744519 22.318125 \r\n\" style=\"fill:none;stroke:#b0b0b0;stroke-linecap:square;stroke-width:0.8;\"/>\r\n     </g>\r\n     <g id=\"line2d_26\">\r\n      <g>\r\n       <use style=\"stroke:#000000;stroke-width:0.8;\" x=\"450.744519\" xlink:href=\"#mac2b36a910\" y=\"674.638125\"/>\r\n      </g>\r\n     </g>\r\n     <g id=\"text_13\">\r\n      <!-- 12 -->\r\n      <g transform=\"translate(444.382019 689.236562)scale(0.1 -0.1)\">\r\n       <use xlink:href=\"#DejaVuSans-49\"/>\r\n       <use x=\"63.623047\" xlink:href=\"#DejaVuSans-50\"/>\r\n      </g>\r\n     </g>\r\n    </g>\r\n    <g id=\"xtick_14\">\r\n     <g id=\"line2d_27\">\r\n      <path clip-path=\"url(#p602cf4a5b4)\" d=\"M 484.392761 674.638125 \r\nL 484.392761 22.318125 \r\n\" style=\"fill:none;stroke:#b0b0b0;stroke-linecap:square;stroke-width:0.8;\"/>\r\n     </g>\r\n     <g id=\"line2d_28\">\r\n      <g>\r\n       <use style=\"stroke:#000000;stroke-width:0.8;\" x=\"484.392761\" xlink:href=\"#mac2b36a910\" y=\"674.638125\"/>\r\n      </g>\r\n     </g>\r\n     <g id=\"text_14\">\r\n      <!-- 13 -->\r\n      <g transform=\"translate(478.030261 689.236562)scale(0.1 -0.1)\">\r\n       <use xlink:href=\"#DejaVuSans-49\"/>\r\n       <use x=\"63.623047\" xlink:href=\"#DejaVuSans-51\"/>\r\n      </g>\r\n     </g>\r\n    </g>\r\n    <g id=\"xtick_15\">\r\n     <g id=\"line2d_29\">\r\n      <path clip-path=\"url(#p602cf4a5b4)\" d=\"M 518.041002 674.638125 \r\nL 518.041002 22.318125 \r\n\" style=\"fill:none;stroke:#b0b0b0;stroke-linecap:square;stroke-width:0.8;\"/>\r\n     </g>\r\n     <g id=\"line2d_30\">\r\n      <g>\r\n       <use style=\"stroke:#000000;stroke-width:0.8;\" x=\"518.041002\" xlink:href=\"#mac2b36a910\" y=\"674.638125\"/>\r\n      </g>\r\n     </g>\r\n     <g id=\"text_15\">\r\n      <!-- 14 -->\r\n      <g transform=\"translate(511.678502 689.236562)scale(0.1 -0.1)\">\r\n       <use xlink:href=\"#DejaVuSans-49\"/>\r\n       <use x=\"63.623047\" xlink:href=\"#DejaVuSans-52\"/>\r\n      </g>\r\n     </g>\r\n    </g>\r\n    <g id=\"xtick_16\">\r\n     <g id=\"line2d_31\">\r\n      <path clip-path=\"url(#p602cf4a5b4)\" d=\"M 551.689243 674.638125 \r\nL 551.689243 22.318125 \r\n\" style=\"fill:none;stroke:#b0b0b0;stroke-linecap:square;stroke-width:0.8;\"/>\r\n     </g>\r\n     <g id=\"line2d_32\">\r\n      <g>\r\n       <use style=\"stroke:#000000;stroke-width:0.8;\" x=\"551.689243\" xlink:href=\"#mac2b36a910\" y=\"674.638125\"/>\r\n      </g>\r\n     </g>\r\n     <g id=\"text_16\">\r\n      <!-- 15 -->\r\n      <g transform=\"translate(545.326743 689.236562)scale(0.1 -0.1)\">\r\n       <use xlink:href=\"#DejaVuSans-49\"/>\r\n       <use x=\"63.623047\" xlink:href=\"#DejaVuSans-53\"/>\r\n      </g>\r\n     </g>\r\n    </g>\r\n    <g id=\"xtick_17\">\r\n     <g id=\"line2d_33\">\r\n      <path clip-path=\"url(#p602cf4a5b4)\" d=\"M 585.337484 674.638125 \r\nL 585.337484 22.318125 \r\n\" style=\"fill:none;stroke:#b0b0b0;stroke-linecap:square;stroke-width:0.8;\"/>\r\n     </g>\r\n     <g id=\"line2d_34\">\r\n      <g>\r\n       <use style=\"stroke:#000000;stroke-width:0.8;\" x=\"585.337484\" xlink:href=\"#mac2b36a910\" y=\"674.638125\"/>\r\n      </g>\r\n     </g>\r\n     <g id=\"text_17\">\r\n      <!-- 16 -->\r\n      <g transform=\"translate(578.974984 689.236562)scale(0.1 -0.1)\">\r\n       <use xlink:href=\"#DejaVuSans-49\"/>\r\n       <use x=\"63.623047\" xlink:href=\"#DejaVuSans-54\"/>\r\n      </g>\r\n     </g>\r\n    </g>\r\n    <g id=\"xtick_18\">\r\n     <g id=\"line2d_35\">\r\n      <path clip-path=\"url(#p602cf4a5b4)\" d=\"M 618.985726 674.638125 \r\nL 618.985726 22.318125 \r\n\" style=\"fill:none;stroke:#b0b0b0;stroke-linecap:square;stroke-width:0.8;\"/>\r\n     </g>\r\n     <g id=\"line2d_36\">\r\n      <g>\r\n       <use style=\"stroke:#000000;stroke-width:0.8;\" x=\"618.985726\" xlink:href=\"#mac2b36a910\" y=\"674.638125\"/>\r\n      </g>\r\n     </g>\r\n     <g id=\"text_18\">\r\n      <!-- 17 -->\r\n      <g transform=\"translate(612.623226 689.236562)scale(0.1 -0.1)\">\r\n       <use xlink:href=\"#DejaVuSans-49\"/>\r\n       <use x=\"63.623047\" xlink:href=\"#DejaVuSans-55\"/>\r\n      </g>\r\n     </g>\r\n    </g>\r\n    <g id=\"xtick_19\">\r\n     <g id=\"line2d_37\">\r\n      <path clip-path=\"url(#p602cf4a5b4)\" d=\"M 652.633967 674.638125 \r\nL 652.633967 22.318125 \r\n\" style=\"fill:none;stroke:#b0b0b0;stroke-linecap:square;stroke-width:0.8;\"/>\r\n     </g>\r\n     <g id=\"line2d_38\">\r\n      <g>\r\n       <use style=\"stroke:#000000;stroke-width:0.8;\" x=\"652.633967\" xlink:href=\"#mac2b36a910\" y=\"674.638125\"/>\r\n      </g>\r\n     </g>\r\n     <g id=\"text_19\">\r\n      <!-- 18 -->\r\n      <g transform=\"translate(646.271467 689.236562)scale(0.1 -0.1)\">\r\n       <use xlink:href=\"#DejaVuSans-49\"/>\r\n       <use x=\"63.623047\" xlink:href=\"#DejaVuSans-56\"/>\r\n      </g>\r\n     </g>\r\n    </g>\r\n    <g id=\"xtick_20\">\r\n     <g id=\"line2d_39\">\r\n      <path clip-path=\"url(#p602cf4a5b4)\" d=\"M 686.282208 674.638125 \r\nL 686.282208 22.318125 \r\n\" style=\"fill:none;stroke:#b0b0b0;stroke-linecap:square;stroke-width:0.8;\"/>\r\n     </g>\r\n     <g id=\"line2d_40\">\r\n      <g>\r\n       <use style=\"stroke:#000000;stroke-width:0.8;\" x=\"686.282208\" xlink:href=\"#mac2b36a910\" y=\"674.638125\"/>\r\n      </g>\r\n     </g>\r\n     <g id=\"text_20\">\r\n      <!-- 19 -->\r\n      <g transform=\"translate(679.919708 689.236562)scale(0.1 -0.1)\">\r\n       <use xlink:href=\"#DejaVuSans-49\"/>\r\n       <use x=\"63.623047\" xlink:href=\"#DejaVuSans-57\"/>\r\n      </g>\r\n     </g>\r\n    </g>\r\n    <g id=\"text_21\">\r\n     <!-- number of clusters -->\r\n     <defs>\r\n      <path d=\"M 54.890625 33.015625 \r\nL 54.890625 0 \r\nL 45.90625 0 \r\nL 45.90625 32.71875 \r\nQ 45.90625 40.484375 42.875 44.328125 \r\nQ 39.84375 48.1875 33.796875 48.1875 \r\nQ 26.515625 48.1875 22.3125 43.546875 \r\nQ 18.109375 38.921875 18.109375 30.90625 \r\nL 18.109375 0 \r\nL 9.078125 0 \r\nL 9.078125 54.6875 \r\nL 18.109375 54.6875 \r\nL 18.109375 46.1875 \r\nQ 21.34375 51.125 25.703125 53.5625 \r\nQ 30.078125 56 35.796875 56 \r\nQ 45.21875 56 50.046875 50.171875 \r\nQ 54.890625 44.34375 54.890625 33.015625 \r\nz\r\n\" id=\"DejaVuSans-110\"/>\r\n      <path d=\"M 8.5 21.578125 \r\nL 8.5 54.6875 \r\nL 17.484375 54.6875 \r\nL 17.484375 21.921875 \r\nQ 17.484375 14.15625 20.5 10.265625 \r\nQ 23.53125 6.390625 29.59375 6.390625 \r\nQ 36.859375 6.390625 41.078125 11.03125 \r\nQ 45.3125 15.671875 45.3125 23.6875 \r\nL 45.3125 54.6875 \r\nL 54.296875 54.6875 \r\nL 54.296875 0 \r\nL 45.3125 0 \r\nL 45.3125 8.40625 \r\nQ 42.046875 3.421875 37.71875 1 \r\nQ 33.40625 -1.421875 27.6875 -1.421875 \r\nQ 18.265625 -1.421875 13.375 4.4375 \r\nQ 8.5 10.296875 8.5 21.578125 \r\nz\r\nM 31.109375 56 \r\nz\r\n\" id=\"DejaVuSans-117\"/>\r\n      <path d=\"M 52 44.1875 \r\nQ 55.375 50.25 60.0625 53.125 \r\nQ 64.75 56 71.09375 56 \r\nQ 79.640625 56 84.28125 50.015625 \r\nQ 88.921875 44.046875 88.921875 33.015625 \r\nL 88.921875 0 \r\nL 79.890625 0 \r\nL 79.890625 32.71875 \r\nQ 79.890625 40.578125 77.09375 44.375 \r\nQ 74.3125 48.1875 68.609375 48.1875 \r\nQ 61.625 48.1875 57.5625 43.546875 \r\nQ 53.515625 38.921875 53.515625 30.90625 \r\nL 53.515625 0 \r\nL 44.484375 0 \r\nL 44.484375 32.71875 \r\nQ 44.484375 40.625 41.703125 44.40625 \r\nQ 38.921875 48.1875 33.109375 48.1875 \r\nQ 26.21875 48.1875 22.15625 43.53125 \r\nQ 18.109375 38.875 18.109375 30.90625 \r\nL 18.109375 0 \r\nL 9.078125 0 \r\nL 9.078125 54.6875 \r\nL 18.109375 54.6875 \r\nL 18.109375 46.1875 \r\nQ 21.1875 51.21875 25.484375 53.609375 \r\nQ 29.78125 56 35.6875 56 \r\nQ 41.65625 56 45.828125 52.96875 \r\nQ 50 49.953125 52 44.1875 \r\nz\r\n\" id=\"DejaVuSans-109\"/>\r\n      <path d=\"M 48.6875 27.296875 \r\nQ 48.6875 37.203125 44.609375 42.84375 \r\nQ 40.53125 48.484375 33.40625 48.484375 \r\nQ 26.265625 48.484375 22.1875 42.84375 \r\nQ 18.109375 37.203125 18.109375 27.296875 \r\nQ 18.109375 17.390625 22.1875 11.75 \r\nQ 26.265625 6.109375 33.40625 6.109375 \r\nQ 40.53125 6.109375 44.609375 11.75 \r\nQ 48.6875 17.390625 48.6875 27.296875 \r\nz\r\nM 18.109375 46.390625 \r\nQ 20.953125 51.265625 25.265625 53.625 \r\nQ 29.59375 56 35.59375 56 \r\nQ 45.5625 56 51.78125 48.09375 \r\nQ 58.015625 40.1875 58.015625 27.296875 \r\nQ 58.015625 14.40625 51.78125 6.484375 \r\nQ 45.5625 -1.421875 35.59375 -1.421875 \r\nQ 29.59375 -1.421875 25.265625 0.953125 \r\nQ 20.953125 3.328125 18.109375 8.203125 \r\nL 18.109375 0 \r\nL 9.078125 0 \r\nL 9.078125 75.984375 \r\nL 18.109375 75.984375 \r\nz\r\n\" id=\"DejaVuSans-98\"/>\r\n      <path d=\"M 56.203125 29.59375 \r\nL 56.203125 25.203125 \r\nL 14.890625 25.203125 \r\nQ 15.484375 15.921875 20.484375 11.0625 \r\nQ 25.484375 6.203125 34.421875 6.203125 \r\nQ 39.59375 6.203125 44.453125 7.46875 \r\nQ 49.3125 8.734375 54.109375 11.28125 \r\nL 54.109375 2.78125 \r\nQ 49.265625 0.734375 44.1875 -0.34375 \r\nQ 39.109375 -1.421875 33.890625 -1.421875 \r\nQ 20.796875 -1.421875 13.15625 6.1875 \r\nQ 5.515625 13.8125 5.515625 26.8125 \r\nQ 5.515625 40.234375 12.765625 48.109375 \r\nQ 20.015625 56 32.328125 56 \r\nQ 43.359375 56 49.78125 48.890625 \r\nQ 56.203125 41.796875 56.203125 29.59375 \r\nz\r\nM 47.21875 32.234375 \r\nQ 47.125 39.59375 43.09375 43.984375 \r\nQ 39.0625 48.390625 32.421875 48.390625 \r\nQ 24.90625 48.390625 20.390625 44.140625 \r\nQ 15.875 39.890625 15.1875 32.171875 \r\nz\r\n\" id=\"DejaVuSans-101\"/>\r\n      <path d=\"M 41.109375 46.296875 \r\nQ 39.59375 47.171875 37.8125 47.578125 \r\nQ 36.03125 48 33.890625 48 \r\nQ 26.265625 48 22.1875 43.046875 \r\nQ 18.109375 38.09375 18.109375 28.8125 \r\nL 18.109375 0 \r\nL 9.078125 0 \r\nL 9.078125 54.6875 \r\nL 18.109375 54.6875 \r\nL 18.109375 46.1875 \r\nQ 20.953125 51.171875 25.484375 53.578125 \r\nQ 30.03125 56 36.53125 56 \r\nQ 37.453125 56 38.578125 55.875 \r\nQ 39.703125 55.765625 41.0625 55.515625 \r\nz\r\n\" id=\"DejaVuSans-114\"/>\r\n      <path id=\"DejaVuSans-32\"/>\r\n      <path d=\"M 30.609375 48.390625 \r\nQ 23.390625 48.390625 19.1875 42.75 \r\nQ 14.984375 37.109375 14.984375 27.296875 \r\nQ 14.984375 17.484375 19.15625 11.84375 \r\nQ 23.34375 6.203125 30.609375 6.203125 \r\nQ 37.796875 6.203125 41.984375 11.859375 \r\nQ 46.1875 17.53125 46.1875 27.296875 \r\nQ 46.1875 37.015625 41.984375 42.703125 \r\nQ 37.796875 48.390625 30.609375 48.390625 \r\nz\r\nM 30.609375 56 \r\nQ 42.328125 56 49.015625 48.375 \r\nQ 55.71875 40.765625 55.71875 27.296875 \r\nQ 55.71875 13.875 49.015625 6.21875 \r\nQ 42.328125 -1.421875 30.609375 -1.421875 \r\nQ 18.84375 -1.421875 12.171875 6.21875 \r\nQ 5.515625 13.875 5.515625 27.296875 \r\nQ 5.515625 40.765625 12.171875 48.375 \r\nQ 18.84375 56 30.609375 56 \r\nz\r\n\" id=\"DejaVuSans-111\"/>\r\n      <path d=\"M 37.109375 75.984375 \r\nL 37.109375 68.5 \r\nL 28.515625 68.5 \r\nQ 23.6875 68.5 21.796875 66.546875 \r\nQ 19.921875 64.59375 19.921875 59.515625 \r\nL 19.921875 54.6875 \r\nL 34.71875 54.6875 \r\nL 34.71875 47.703125 \r\nL 19.921875 47.703125 \r\nL 19.921875 0 \r\nL 10.890625 0 \r\nL 10.890625 47.703125 \r\nL 2.296875 47.703125 \r\nL 2.296875 54.6875 \r\nL 10.890625 54.6875 \r\nL 10.890625 58.5 \r\nQ 10.890625 67.625 15.140625 71.796875 \r\nQ 19.390625 75.984375 28.609375 75.984375 \r\nz\r\n\" id=\"DejaVuSans-102\"/>\r\n      <path d=\"M 48.78125 52.59375 \r\nL 48.78125 44.1875 \r\nQ 44.96875 46.296875 41.140625 47.34375 \r\nQ 37.3125 48.390625 33.40625 48.390625 \r\nQ 24.65625 48.390625 19.8125 42.84375 \r\nQ 14.984375 37.3125 14.984375 27.296875 \r\nQ 14.984375 17.28125 19.8125 11.734375 \r\nQ 24.65625 6.203125 33.40625 6.203125 \r\nQ 37.3125 6.203125 41.140625 7.25 \r\nQ 44.96875 8.296875 48.78125 10.40625 \r\nL 48.78125 2.09375 \r\nQ 45.015625 0.34375 40.984375 -0.53125 \r\nQ 36.96875 -1.421875 32.421875 -1.421875 \r\nQ 20.0625 -1.421875 12.78125 6.34375 \r\nQ 5.515625 14.109375 5.515625 27.296875 \r\nQ 5.515625 40.671875 12.859375 48.328125 \r\nQ 20.21875 56 33.015625 56 \r\nQ 37.15625 56 41.109375 55.140625 \r\nQ 45.0625 54.296875 48.78125 52.59375 \r\nz\r\n\" id=\"DejaVuSans-99\"/>\r\n      <path d=\"M 9.421875 75.984375 \r\nL 18.40625 75.984375 \r\nL 18.40625 0 \r\nL 9.421875 0 \r\nz\r\n\" id=\"DejaVuSans-108\"/>\r\n      <path d=\"M 44.28125 53.078125 \r\nL 44.28125 44.578125 \r\nQ 40.484375 46.53125 36.375 47.5 \r\nQ 32.28125 48.484375 27.875 48.484375 \r\nQ 21.1875 48.484375 17.84375 46.4375 \r\nQ 14.5 44.390625 14.5 40.28125 \r\nQ 14.5 37.15625 16.890625 35.375 \r\nQ 19.28125 33.59375 26.515625 31.984375 \r\nL 29.59375 31.296875 \r\nQ 39.15625 29.25 43.1875 25.515625 \r\nQ 47.21875 21.78125 47.21875 15.09375 \r\nQ 47.21875 7.46875 41.1875 3.015625 \r\nQ 35.15625 -1.421875 24.609375 -1.421875 \r\nQ 20.21875 -1.421875 15.453125 -0.5625 \r\nQ 10.6875 0.296875 5.421875 2 \r\nL 5.421875 11.28125 \r\nQ 10.40625 8.6875 15.234375 7.390625 \r\nQ 20.0625 6.109375 24.8125 6.109375 \r\nQ 31.15625 6.109375 34.5625 8.28125 \r\nQ 37.984375 10.453125 37.984375 14.40625 \r\nQ 37.984375 18.0625 35.515625 20.015625 \r\nQ 33.0625 21.96875 24.703125 23.78125 \r\nL 21.578125 24.515625 \r\nQ 13.234375 26.265625 9.515625 29.90625 \r\nQ 5.8125 33.546875 5.8125 39.890625 \r\nQ 5.8125 47.609375 11.28125 51.796875 \r\nQ 16.75 56 26.8125 56 \r\nQ 31.78125 56 36.171875 55.265625 \r\nQ 40.578125 54.546875 44.28125 53.078125 \r\nz\r\n\" id=\"DejaVuSans-115\"/>\r\n      <path d=\"M 18.3125 70.21875 \r\nL 18.3125 54.6875 \r\nL 36.8125 54.6875 \r\nL 36.8125 47.703125 \r\nL 18.3125 47.703125 \r\nL 18.3125 18.015625 \r\nQ 18.3125 11.328125 20.140625 9.421875 \r\nQ 21.96875 7.515625 27.59375 7.515625 \r\nL 36.8125 7.515625 \r\nL 36.8125 0 \r\nL 27.59375 0 \r\nQ 17.1875 0 13.234375 3.875 \r\nQ 9.28125 7.765625 9.28125 18.015625 \r\nL 9.28125 47.703125 \r\nL 2.6875 47.703125 \r\nL 2.6875 54.6875 \r\nL 9.28125 54.6875 \r\nL 9.28125 70.21875 \r\nz\r\n\" id=\"DejaVuSans-116\"/>\r\n     </defs>\r\n     <g transform=\"translate(334.645312 702.914687)scale(0.1 -0.1)\">\r\n      <use xlink:href=\"#DejaVuSans-110\"/>\r\n      <use x=\"63.378906\" xlink:href=\"#DejaVuSans-117\"/>\r\n      <use x=\"126.757812\" xlink:href=\"#DejaVuSans-109\"/>\r\n      <use x=\"224.169922\" xlink:href=\"#DejaVuSans-98\"/>\r\n      <use x=\"287.646484\" xlink:href=\"#DejaVuSans-101\"/>\r\n      <use x=\"349.169922\" xlink:href=\"#DejaVuSans-114\"/>\r\n      <use x=\"390.283203\" xlink:href=\"#DejaVuSans-32\"/>\r\n      <use x=\"422.070312\" xlink:href=\"#DejaVuSans-111\"/>\r\n      <use x=\"483.251953\" xlink:href=\"#DejaVuSans-102\"/>\r\n      <use x=\"518.457031\" xlink:href=\"#DejaVuSans-32\"/>\r\n      <use x=\"550.244141\" xlink:href=\"#DejaVuSans-99\"/>\r\n      <use x=\"605.224609\" xlink:href=\"#DejaVuSans-108\"/>\r\n      <use x=\"633.007812\" xlink:href=\"#DejaVuSans-117\"/>\r\n      <use x=\"696.386719\" xlink:href=\"#DejaVuSans-115\"/>\r\n      <use x=\"748.486328\" xlink:href=\"#DejaVuSans-116\"/>\r\n      <use x=\"787.695312\" xlink:href=\"#DejaVuSans-101\"/>\r\n      <use x=\"849.21875\" xlink:href=\"#DejaVuSans-114\"/>\r\n      <use x=\"890.332031\" xlink:href=\"#DejaVuSans-115\"/>\r\n     </g>\r\n    </g>\r\n   </g>\r\n   <g id=\"matplotlib.axis_2\">\r\n    <g id=\"ytick_1\">\r\n     <g id=\"line2d_41\">\r\n      <path clip-path=\"url(#p602cf4a5b4)\" d=\"M 46.965625 647.192278 \r\nL 716.565625 647.192278 \r\n\" style=\"fill:none;stroke:#b0b0b0;stroke-linecap:square;stroke-width:0.8;\"/>\r\n     </g>\r\n     <g id=\"line2d_42\">\r\n      <defs>\r\n       <path d=\"M 0 0 \r\nL -3.5 0 \r\n\" id=\"m02e2b874b6\" style=\"stroke:#000000;stroke-width:0.8;\"/>\r\n      </defs>\r\n      <g>\r\n       <use style=\"stroke:#000000;stroke-width:0.8;\" x=\"46.965625\" xlink:href=\"#m02e2b874b6\" y=\"647.192278\"/>\r\n      </g>\r\n     </g>\r\n     <g id=\"text_22\">\r\n      <!-- 60 -->\r\n      <g transform=\"translate(27.240625 650.991497)scale(0.1 -0.1)\">\r\n       <use xlink:href=\"#DejaVuSans-54\"/>\r\n       <use x=\"63.623047\" xlink:href=\"#DejaVuSans-48\"/>\r\n      </g>\r\n     </g>\r\n    </g>\r\n    <g id=\"ytick_2\">\r\n     <g id=\"line2d_43\">\r\n      <path clip-path=\"url(#p602cf4a5b4)\" d=\"M 46.965625 623.158657 \r\nL 716.565625 623.158657 \r\n\" style=\"fill:none;stroke:#b0b0b0;stroke-linecap:square;stroke-width:0.8;\"/>\r\n     </g>\r\n     <g id=\"line2d_44\">\r\n      <g>\r\n       <use style=\"stroke:#000000;stroke-width:0.8;\" x=\"46.965625\" xlink:href=\"#m02e2b874b6\" y=\"623.158657\"/>\r\n      </g>\r\n     </g>\r\n     <g id=\"text_23\">\r\n      <!-- 80 -->\r\n      <g transform=\"translate(27.240625 626.957876)scale(0.1 -0.1)\">\r\n       <use xlink:href=\"#DejaVuSans-56\"/>\r\n       <use x=\"63.623047\" xlink:href=\"#DejaVuSans-48\"/>\r\n      </g>\r\n     </g>\r\n    </g>\r\n    <g id=\"ytick_3\">\r\n     <g id=\"line2d_45\">\r\n      <path clip-path=\"url(#p602cf4a5b4)\" d=\"M 46.965625 599.125036 \r\nL 716.565625 599.125036 \r\n\" style=\"fill:none;stroke:#b0b0b0;stroke-linecap:square;stroke-width:0.8;\"/>\r\n     </g>\r\n     <g id=\"line2d_46\">\r\n      <g>\r\n       <use style=\"stroke:#000000;stroke-width:0.8;\" x=\"46.965625\" xlink:href=\"#m02e2b874b6\" y=\"599.125036\"/>\r\n      </g>\r\n     </g>\r\n     <g id=\"text_24\">\r\n      <!-- 100 -->\r\n      <g transform=\"translate(20.878125 602.924255)scale(0.1 -0.1)\">\r\n       <use xlink:href=\"#DejaVuSans-49\"/>\r\n       <use x=\"63.623047\" xlink:href=\"#DejaVuSans-48\"/>\r\n       <use x=\"127.246094\" xlink:href=\"#DejaVuSans-48\"/>\r\n      </g>\r\n     </g>\r\n    </g>\r\n    <g id=\"ytick_4\">\r\n     <g id=\"line2d_47\">\r\n      <path clip-path=\"url(#p602cf4a5b4)\" d=\"M 46.965625 575.091415 \r\nL 716.565625 575.091415 \r\n\" style=\"fill:none;stroke:#b0b0b0;stroke-linecap:square;stroke-width:0.8;\"/>\r\n     </g>\r\n     <g id=\"line2d_48\">\r\n      <g>\r\n       <use style=\"stroke:#000000;stroke-width:0.8;\" x=\"46.965625\" xlink:href=\"#m02e2b874b6\" y=\"575.091415\"/>\r\n      </g>\r\n     </g>\r\n     <g id=\"text_25\">\r\n      <!-- 120 -->\r\n      <g transform=\"translate(20.878125 578.890633)scale(0.1 -0.1)\">\r\n       <use xlink:href=\"#DejaVuSans-49\"/>\r\n       <use x=\"63.623047\" xlink:href=\"#DejaVuSans-50\"/>\r\n       <use x=\"127.246094\" xlink:href=\"#DejaVuSans-48\"/>\r\n      </g>\r\n     </g>\r\n    </g>\r\n    <g id=\"ytick_5\">\r\n     <g id=\"line2d_49\">\r\n      <path clip-path=\"url(#p602cf4a5b4)\" d=\"M 46.965625 551.057793 \r\nL 716.565625 551.057793 \r\n\" style=\"fill:none;stroke:#b0b0b0;stroke-linecap:square;stroke-width:0.8;\"/>\r\n     </g>\r\n     <g id=\"line2d_50\">\r\n      <g>\r\n       <use style=\"stroke:#000000;stroke-width:0.8;\" x=\"46.965625\" xlink:href=\"#m02e2b874b6\" y=\"551.057793\"/>\r\n      </g>\r\n     </g>\r\n     <g id=\"text_26\">\r\n      <!-- 140 -->\r\n      <g transform=\"translate(20.878125 554.857012)scale(0.1 -0.1)\">\r\n       <use xlink:href=\"#DejaVuSans-49\"/>\r\n       <use x=\"63.623047\" xlink:href=\"#DejaVuSans-52\"/>\r\n       <use x=\"127.246094\" xlink:href=\"#DejaVuSans-48\"/>\r\n      </g>\r\n     </g>\r\n    </g>\r\n    <g id=\"ytick_6\">\r\n     <g id=\"line2d_51\">\r\n      <path clip-path=\"url(#p602cf4a5b4)\" d=\"M 46.965625 527.024172 \r\nL 716.565625 527.024172 \r\n\" style=\"fill:none;stroke:#b0b0b0;stroke-linecap:square;stroke-width:0.8;\"/>\r\n     </g>\r\n     <g id=\"line2d_52\">\r\n      <g>\r\n       <use style=\"stroke:#000000;stroke-width:0.8;\" x=\"46.965625\" xlink:href=\"#m02e2b874b6\" y=\"527.024172\"/>\r\n      </g>\r\n     </g>\r\n     <g id=\"text_27\">\r\n      <!-- 160 -->\r\n      <g transform=\"translate(20.878125 530.823391)scale(0.1 -0.1)\">\r\n       <use xlink:href=\"#DejaVuSans-49\"/>\r\n       <use x=\"63.623047\" xlink:href=\"#DejaVuSans-54\"/>\r\n       <use x=\"127.246094\" xlink:href=\"#DejaVuSans-48\"/>\r\n      </g>\r\n     </g>\r\n    </g>\r\n    <g id=\"ytick_7\">\r\n     <g id=\"line2d_53\">\r\n      <path clip-path=\"url(#p602cf4a5b4)\" d=\"M 46.965625 502.990551 \r\nL 716.565625 502.990551 \r\n\" style=\"fill:none;stroke:#b0b0b0;stroke-linecap:square;stroke-width:0.8;\"/>\r\n     </g>\r\n     <g id=\"line2d_54\">\r\n      <g>\r\n       <use style=\"stroke:#000000;stroke-width:0.8;\" x=\"46.965625\" xlink:href=\"#m02e2b874b6\" y=\"502.990551\"/>\r\n      </g>\r\n     </g>\r\n     <g id=\"text_28\">\r\n      <!-- 180 -->\r\n      <g transform=\"translate(20.878125 506.789769)scale(0.1 -0.1)\">\r\n       <use xlink:href=\"#DejaVuSans-49\"/>\r\n       <use x=\"63.623047\" xlink:href=\"#DejaVuSans-56\"/>\r\n       <use x=\"127.246094\" xlink:href=\"#DejaVuSans-48\"/>\r\n      </g>\r\n     </g>\r\n    </g>\r\n    <g id=\"ytick_8\">\r\n     <g id=\"line2d_55\">\r\n      <path clip-path=\"url(#p602cf4a5b4)\" d=\"M 46.965625 478.956929 \r\nL 716.565625 478.956929 \r\n\" style=\"fill:none;stroke:#b0b0b0;stroke-linecap:square;stroke-width:0.8;\"/>\r\n     </g>\r\n     <g id=\"line2d_56\">\r\n      <g>\r\n       <use style=\"stroke:#000000;stroke-width:0.8;\" x=\"46.965625\" xlink:href=\"#m02e2b874b6\" y=\"478.956929\"/>\r\n      </g>\r\n     </g>\r\n     <g id=\"text_29\">\r\n      <!-- 200 -->\r\n      <g transform=\"translate(20.878125 482.756148)scale(0.1 -0.1)\">\r\n       <use xlink:href=\"#DejaVuSans-50\"/>\r\n       <use x=\"63.623047\" xlink:href=\"#DejaVuSans-48\"/>\r\n       <use x=\"127.246094\" xlink:href=\"#DejaVuSans-48\"/>\r\n      </g>\r\n     </g>\r\n    </g>\r\n    <g id=\"ytick_9\">\r\n     <g id=\"line2d_57\">\r\n      <path clip-path=\"url(#p602cf4a5b4)\" d=\"M 46.965625 454.923308 \r\nL 716.565625 454.923308 \r\n\" style=\"fill:none;stroke:#b0b0b0;stroke-linecap:square;stroke-width:0.8;\"/>\r\n     </g>\r\n     <g id=\"line2d_58\">\r\n      <g>\r\n       <use style=\"stroke:#000000;stroke-width:0.8;\" x=\"46.965625\" xlink:href=\"#m02e2b874b6\" y=\"454.923308\"/>\r\n      </g>\r\n     </g>\r\n     <g id=\"text_30\">\r\n      <!-- 220 -->\r\n      <g transform=\"translate(20.878125 458.722527)scale(0.1 -0.1)\">\r\n       <use xlink:href=\"#DejaVuSans-50\"/>\r\n       <use x=\"63.623047\" xlink:href=\"#DejaVuSans-50\"/>\r\n       <use x=\"127.246094\" xlink:href=\"#DejaVuSans-48\"/>\r\n      </g>\r\n     </g>\r\n    </g>\r\n    <g id=\"ytick_10\">\r\n     <g id=\"line2d_59\">\r\n      <path clip-path=\"url(#p602cf4a5b4)\" d=\"M 46.965625 430.889687 \r\nL 716.565625 430.889687 \r\n\" style=\"fill:none;stroke:#b0b0b0;stroke-linecap:square;stroke-width:0.8;\"/>\r\n     </g>\r\n     <g id=\"line2d_60\">\r\n      <g>\r\n       <use style=\"stroke:#000000;stroke-width:0.8;\" x=\"46.965625\" xlink:href=\"#m02e2b874b6\" y=\"430.889687\"/>\r\n      </g>\r\n     </g>\r\n     <g id=\"text_31\">\r\n      <!-- 240 -->\r\n      <g transform=\"translate(20.878125 434.688906)scale(0.1 -0.1)\">\r\n       <use xlink:href=\"#DejaVuSans-50\"/>\r\n       <use x=\"63.623047\" xlink:href=\"#DejaVuSans-52\"/>\r\n       <use x=\"127.246094\" xlink:href=\"#DejaVuSans-48\"/>\r\n      </g>\r\n     </g>\r\n    </g>\r\n    <g id=\"ytick_11\">\r\n     <g id=\"line2d_61\">\r\n      <path clip-path=\"url(#p602cf4a5b4)\" d=\"M 46.965625 406.856066 \r\nL 716.565625 406.856066 \r\n\" style=\"fill:none;stroke:#b0b0b0;stroke-linecap:square;stroke-width:0.8;\"/>\r\n     </g>\r\n     <g id=\"line2d_62\">\r\n      <g>\r\n       <use style=\"stroke:#000000;stroke-width:0.8;\" x=\"46.965625\" xlink:href=\"#m02e2b874b6\" y=\"406.856066\"/>\r\n      </g>\r\n     </g>\r\n     <g id=\"text_32\">\r\n      <!-- 260 -->\r\n      <g transform=\"translate(20.878125 410.655284)scale(0.1 -0.1)\">\r\n       <use xlink:href=\"#DejaVuSans-50\"/>\r\n       <use x=\"63.623047\" xlink:href=\"#DejaVuSans-54\"/>\r\n       <use x=\"127.246094\" xlink:href=\"#DejaVuSans-48\"/>\r\n      </g>\r\n     </g>\r\n    </g>\r\n    <g id=\"ytick_12\">\r\n     <g id=\"line2d_63\">\r\n      <path clip-path=\"url(#p602cf4a5b4)\" d=\"M 46.965625 382.822444 \r\nL 716.565625 382.822444 \r\n\" style=\"fill:none;stroke:#b0b0b0;stroke-linecap:square;stroke-width:0.8;\"/>\r\n     </g>\r\n     <g id=\"line2d_64\">\r\n      <g>\r\n       <use style=\"stroke:#000000;stroke-width:0.8;\" x=\"46.965625\" xlink:href=\"#m02e2b874b6\" y=\"382.822444\"/>\r\n      </g>\r\n     </g>\r\n     <g id=\"text_33\">\r\n      <!-- 280 -->\r\n      <g transform=\"translate(20.878125 386.621663)scale(0.1 -0.1)\">\r\n       <use xlink:href=\"#DejaVuSans-50\"/>\r\n       <use x=\"63.623047\" xlink:href=\"#DejaVuSans-56\"/>\r\n       <use x=\"127.246094\" xlink:href=\"#DejaVuSans-48\"/>\r\n      </g>\r\n     </g>\r\n    </g>\r\n    <g id=\"ytick_13\">\r\n     <g id=\"line2d_65\">\r\n      <path clip-path=\"url(#p602cf4a5b4)\" d=\"M 46.965625 358.788823 \r\nL 716.565625 358.788823 \r\n\" style=\"fill:none;stroke:#b0b0b0;stroke-linecap:square;stroke-width:0.8;\"/>\r\n     </g>\r\n     <g id=\"line2d_66\">\r\n      <g>\r\n       <use style=\"stroke:#000000;stroke-width:0.8;\" x=\"46.965625\" xlink:href=\"#m02e2b874b6\" y=\"358.788823\"/>\r\n      </g>\r\n     </g>\r\n     <g id=\"text_34\">\r\n      <!-- 300 -->\r\n      <g transform=\"translate(20.878125 362.588042)scale(0.1 -0.1)\">\r\n       <use xlink:href=\"#DejaVuSans-51\"/>\r\n       <use x=\"63.623047\" xlink:href=\"#DejaVuSans-48\"/>\r\n       <use x=\"127.246094\" xlink:href=\"#DejaVuSans-48\"/>\r\n      </g>\r\n     </g>\r\n    </g>\r\n    <g id=\"ytick_14\">\r\n     <g id=\"line2d_67\">\r\n      <path clip-path=\"url(#p602cf4a5b4)\" d=\"M 46.965625 334.755202 \r\nL 716.565625 334.755202 \r\n\" style=\"fill:none;stroke:#b0b0b0;stroke-linecap:square;stroke-width:0.8;\"/>\r\n     </g>\r\n     <g id=\"line2d_68\">\r\n      <g>\r\n       <use style=\"stroke:#000000;stroke-width:0.8;\" x=\"46.965625\" xlink:href=\"#m02e2b874b6\" y=\"334.755202\"/>\r\n      </g>\r\n     </g>\r\n     <g id=\"text_35\">\r\n      <!-- 320 -->\r\n      <g transform=\"translate(20.878125 338.55442)scale(0.1 -0.1)\">\r\n       <use xlink:href=\"#DejaVuSans-51\"/>\r\n       <use x=\"63.623047\" xlink:href=\"#DejaVuSans-50\"/>\r\n       <use x=\"127.246094\" xlink:href=\"#DejaVuSans-48\"/>\r\n      </g>\r\n     </g>\r\n    </g>\r\n    <g id=\"ytick_15\">\r\n     <g id=\"line2d_69\">\r\n      <path clip-path=\"url(#p602cf4a5b4)\" d=\"M 46.965625 310.72158 \r\nL 716.565625 310.72158 \r\n\" style=\"fill:none;stroke:#b0b0b0;stroke-linecap:square;stroke-width:0.8;\"/>\r\n     </g>\r\n     <g id=\"line2d_70\">\r\n      <g>\r\n       <use style=\"stroke:#000000;stroke-width:0.8;\" x=\"46.965625\" xlink:href=\"#m02e2b874b6\" y=\"310.72158\"/>\r\n      </g>\r\n     </g>\r\n     <g id=\"text_36\">\r\n      <!-- 340 -->\r\n      <g transform=\"translate(20.878125 314.520799)scale(0.1 -0.1)\">\r\n       <use xlink:href=\"#DejaVuSans-51\"/>\r\n       <use x=\"63.623047\" xlink:href=\"#DejaVuSans-52\"/>\r\n       <use x=\"127.246094\" xlink:href=\"#DejaVuSans-48\"/>\r\n      </g>\r\n     </g>\r\n    </g>\r\n    <g id=\"ytick_16\">\r\n     <g id=\"line2d_71\">\r\n      <path clip-path=\"url(#p602cf4a5b4)\" d=\"M 46.965625 286.687959 \r\nL 716.565625 286.687959 \r\n\" style=\"fill:none;stroke:#b0b0b0;stroke-linecap:square;stroke-width:0.8;\"/>\r\n     </g>\r\n     <g id=\"line2d_72\">\r\n      <g>\r\n       <use style=\"stroke:#000000;stroke-width:0.8;\" x=\"46.965625\" xlink:href=\"#m02e2b874b6\" y=\"286.687959\"/>\r\n      </g>\r\n     </g>\r\n     <g id=\"text_37\">\r\n      <!-- 360 -->\r\n      <g transform=\"translate(20.878125 290.487178)scale(0.1 -0.1)\">\r\n       <use xlink:href=\"#DejaVuSans-51\"/>\r\n       <use x=\"63.623047\" xlink:href=\"#DejaVuSans-54\"/>\r\n       <use x=\"127.246094\" xlink:href=\"#DejaVuSans-48\"/>\r\n      </g>\r\n     </g>\r\n    </g>\r\n    <g id=\"ytick_17\">\r\n     <g id=\"line2d_73\">\r\n      <path clip-path=\"url(#p602cf4a5b4)\" d=\"M 46.965625 262.654338 \r\nL 716.565625 262.654338 \r\n\" style=\"fill:none;stroke:#b0b0b0;stroke-linecap:square;stroke-width:0.8;\"/>\r\n     </g>\r\n     <g id=\"line2d_74\">\r\n      <g>\r\n       <use style=\"stroke:#000000;stroke-width:0.8;\" x=\"46.965625\" xlink:href=\"#m02e2b874b6\" y=\"262.654338\"/>\r\n      </g>\r\n     </g>\r\n     <g id=\"text_38\">\r\n      <!-- 380 -->\r\n      <g transform=\"translate(20.878125 266.453557)scale(0.1 -0.1)\">\r\n       <use xlink:href=\"#DejaVuSans-51\"/>\r\n       <use x=\"63.623047\" xlink:href=\"#DejaVuSans-56\"/>\r\n       <use x=\"127.246094\" xlink:href=\"#DejaVuSans-48\"/>\r\n      </g>\r\n     </g>\r\n    </g>\r\n    <g id=\"ytick_18\">\r\n     <g id=\"line2d_75\">\r\n      <path clip-path=\"url(#p602cf4a5b4)\" d=\"M 46.965625 238.620717 \r\nL 716.565625 238.620717 \r\n\" style=\"fill:none;stroke:#b0b0b0;stroke-linecap:square;stroke-width:0.8;\"/>\r\n     </g>\r\n     <g id=\"line2d_76\">\r\n      <g>\r\n       <use style=\"stroke:#000000;stroke-width:0.8;\" x=\"46.965625\" xlink:href=\"#m02e2b874b6\" y=\"238.620717\"/>\r\n      </g>\r\n     </g>\r\n     <g id=\"text_39\">\r\n      <!-- 400 -->\r\n      <g transform=\"translate(20.878125 242.419935)scale(0.1 -0.1)\">\r\n       <use xlink:href=\"#DejaVuSans-52\"/>\r\n       <use x=\"63.623047\" xlink:href=\"#DejaVuSans-48\"/>\r\n       <use x=\"127.246094\" xlink:href=\"#DejaVuSans-48\"/>\r\n      </g>\r\n     </g>\r\n    </g>\r\n    <g id=\"ytick_19\">\r\n     <g id=\"line2d_77\">\r\n      <path clip-path=\"url(#p602cf4a5b4)\" d=\"M 46.965625 214.587095 \r\nL 716.565625 214.587095 \r\n\" style=\"fill:none;stroke:#b0b0b0;stroke-linecap:square;stroke-width:0.8;\"/>\r\n     </g>\r\n     <g id=\"line2d_78\">\r\n      <g>\r\n       <use style=\"stroke:#000000;stroke-width:0.8;\" x=\"46.965625\" xlink:href=\"#m02e2b874b6\" y=\"214.587095\"/>\r\n      </g>\r\n     </g>\r\n     <g id=\"text_40\">\r\n      <!-- 420 -->\r\n      <g transform=\"translate(20.878125 218.386314)scale(0.1 -0.1)\">\r\n       <use xlink:href=\"#DejaVuSans-52\"/>\r\n       <use x=\"63.623047\" xlink:href=\"#DejaVuSans-50\"/>\r\n       <use x=\"127.246094\" xlink:href=\"#DejaVuSans-48\"/>\r\n      </g>\r\n     </g>\r\n    </g>\r\n    <g id=\"ytick_20\">\r\n     <g id=\"line2d_79\">\r\n      <path clip-path=\"url(#p602cf4a5b4)\" d=\"M 46.965625 190.553474 \r\nL 716.565625 190.553474 \r\n\" style=\"fill:none;stroke:#b0b0b0;stroke-linecap:square;stroke-width:0.8;\"/>\r\n     </g>\r\n     <g id=\"line2d_80\">\r\n      <g>\r\n       <use style=\"stroke:#000000;stroke-width:0.8;\" x=\"46.965625\" xlink:href=\"#m02e2b874b6\" y=\"190.553474\"/>\r\n      </g>\r\n     </g>\r\n     <g id=\"text_41\">\r\n      <!-- 440 -->\r\n      <g transform=\"translate(20.878125 194.352693)scale(0.1 -0.1)\">\r\n       <use xlink:href=\"#DejaVuSans-52\"/>\r\n       <use x=\"63.623047\" xlink:href=\"#DejaVuSans-52\"/>\r\n       <use x=\"127.246094\" xlink:href=\"#DejaVuSans-48\"/>\r\n      </g>\r\n     </g>\r\n    </g>\r\n    <g id=\"ytick_21\">\r\n     <g id=\"line2d_81\">\r\n      <path clip-path=\"url(#p602cf4a5b4)\" d=\"M 46.965625 166.519853 \r\nL 716.565625 166.519853 \r\n\" style=\"fill:none;stroke:#b0b0b0;stroke-linecap:square;stroke-width:0.8;\"/>\r\n     </g>\r\n     <g id=\"line2d_82\">\r\n      <g>\r\n       <use style=\"stroke:#000000;stroke-width:0.8;\" x=\"46.965625\" xlink:href=\"#m02e2b874b6\" y=\"166.519853\"/>\r\n      </g>\r\n     </g>\r\n     <g id=\"text_42\">\r\n      <!-- 460 -->\r\n      <g transform=\"translate(20.878125 170.319071)scale(0.1 -0.1)\">\r\n       <use xlink:href=\"#DejaVuSans-52\"/>\r\n       <use x=\"63.623047\" xlink:href=\"#DejaVuSans-54\"/>\r\n       <use x=\"127.246094\" xlink:href=\"#DejaVuSans-48\"/>\r\n      </g>\r\n     </g>\r\n    </g>\r\n    <g id=\"ytick_22\">\r\n     <g id=\"line2d_83\">\r\n      <path clip-path=\"url(#p602cf4a5b4)\" d=\"M 46.965625 142.486231 \r\nL 716.565625 142.486231 \r\n\" style=\"fill:none;stroke:#b0b0b0;stroke-linecap:square;stroke-width:0.8;\"/>\r\n     </g>\r\n     <g id=\"line2d_84\">\r\n      <g>\r\n       <use style=\"stroke:#000000;stroke-width:0.8;\" x=\"46.965625\" xlink:href=\"#m02e2b874b6\" y=\"142.486231\"/>\r\n      </g>\r\n     </g>\r\n     <g id=\"text_43\">\r\n      <!-- 480 -->\r\n      <g transform=\"translate(20.878125 146.28545)scale(0.1 -0.1)\">\r\n       <use xlink:href=\"#DejaVuSans-52\"/>\r\n       <use x=\"63.623047\" xlink:href=\"#DejaVuSans-56\"/>\r\n       <use x=\"127.246094\" xlink:href=\"#DejaVuSans-48\"/>\r\n      </g>\r\n     </g>\r\n    </g>\r\n    <g id=\"ytick_23\">\r\n     <g id=\"line2d_85\">\r\n      <path clip-path=\"url(#p602cf4a5b4)\" d=\"M 46.965625 118.45261 \r\nL 716.565625 118.45261 \r\n\" style=\"fill:none;stroke:#b0b0b0;stroke-linecap:square;stroke-width:0.8;\"/>\r\n     </g>\r\n     <g id=\"line2d_86\">\r\n      <g>\r\n       <use style=\"stroke:#000000;stroke-width:0.8;\" x=\"46.965625\" xlink:href=\"#m02e2b874b6\" y=\"118.45261\"/>\r\n      </g>\r\n     </g>\r\n     <g id=\"text_44\">\r\n      <!-- 500 -->\r\n      <g transform=\"translate(20.878125 122.251829)scale(0.1 -0.1)\">\r\n       <use xlink:href=\"#DejaVuSans-53\"/>\r\n       <use x=\"63.623047\" xlink:href=\"#DejaVuSans-48\"/>\r\n       <use x=\"127.246094\" xlink:href=\"#DejaVuSans-48\"/>\r\n      </g>\r\n     </g>\r\n    </g>\r\n    <g id=\"ytick_24\">\r\n     <g id=\"line2d_87\">\r\n      <path clip-path=\"url(#p602cf4a5b4)\" d=\"M 46.965625 94.418989 \r\nL 716.565625 94.418989 \r\n\" style=\"fill:none;stroke:#b0b0b0;stroke-linecap:square;stroke-width:0.8;\"/>\r\n     </g>\r\n     <g id=\"line2d_88\">\r\n      <g>\r\n       <use style=\"stroke:#000000;stroke-width:0.8;\" x=\"46.965625\" xlink:href=\"#m02e2b874b6\" y=\"94.418989\"/>\r\n      </g>\r\n     </g>\r\n     <g id=\"text_45\">\r\n      <!-- 520 -->\r\n      <g transform=\"translate(20.878125 98.218208)scale(0.1 -0.1)\">\r\n       <use xlink:href=\"#DejaVuSans-53\"/>\r\n       <use x=\"63.623047\" xlink:href=\"#DejaVuSans-50\"/>\r\n       <use x=\"127.246094\" xlink:href=\"#DejaVuSans-48\"/>\r\n      </g>\r\n     </g>\r\n    </g>\r\n    <g id=\"ytick_25\">\r\n     <g id=\"line2d_89\">\r\n      <path clip-path=\"url(#p602cf4a5b4)\" d=\"M 46.965625 70.385368 \r\nL 716.565625 70.385368 \r\n\" style=\"fill:none;stroke:#b0b0b0;stroke-linecap:square;stroke-width:0.8;\"/>\r\n     </g>\r\n     <g id=\"line2d_90\">\r\n      <g>\r\n       <use style=\"stroke:#000000;stroke-width:0.8;\" x=\"46.965625\" xlink:href=\"#m02e2b874b6\" y=\"70.385368\"/>\r\n      </g>\r\n     </g>\r\n     <g id=\"text_46\">\r\n      <!-- 540 -->\r\n      <g transform=\"translate(20.878125 74.184586)scale(0.1 -0.1)\">\r\n       <use xlink:href=\"#DejaVuSans-53\"/>\r\n       <use x=\"63.623047\" xlink:href=\"#DejaVuSans-52\"/>\r\n       <use x=\"127.246094\" xlink:href=\"#DejaVuSans-48\"/>\r\n      </g>\r\n     </g>\r\n    </g>\r\n    <g id=\"ytick_26\">\r\n     <g id=\"line2d_91\">\r\n      <path clip-path=\"url(#p602cf4a5b4)\" d=\"M 46.965625 46.351746 \r\nL 716.565625 46.351746 \r\n\" style=\"fill:none;stroke:#b0b0b0;stroke-linecap:square;stroke-width:0.8;\"/>\r\n     </g>\r\n     <g id=\"line2d_92\">\r\n      <g>\r\n       <use style=\"stroke:#000000;stroke-width:0.8;\" x=\"46.965625\" xlink:href=\"#m02e2b874b6\" y=\"46.351746\"/>\r\n      </g>\r\n     </g>\r\n     <g id=\"text_47\">\r\n      <!-- 560 -->\r\n      <g transform=\"translate(20.878125 50.150965)scale(0.1 -0.1)\">\r\n       <use xlink:href=\"#DejaVuSans-53\"/>\r\n       <use x=\"63.623047\" xlink:href=\"#DejaVuSans-54\"/>\r\n       <use x=\"127.246094\" xlink:href=\"#DejaVuSans-48\"/>\r\n      </g>\r\n     </g>\r\n    </g>\r\n    <g id=\"ytick_27\">\r\n     <g id=\"line2d_93\">\r\n      <path clip-path=\"url(#p602cf4a5b4)\" d=\"M 46.965625 22.318125 \r\nL 716.565625 22.318125 \r\n\" style=\"fill:none;stroke:#b0b0b0;stroke-linecap:square;stroke-width:0.8;\"/>\r\n     </g>\r\n     <g id=\"line2d_94\">\r\n      <g>\r\n       <use style=\"stroke:#000000;stroke-width:0.8;\" x=\"46.965625\" xlink:href=\"#m02e2b874b6\" y=\"22.318125\"/>\r\n      </g>\r\n     </g>\r\n     <g id=\"text_48\">\r\n      <!-- 580 -->\r\n      <g transform=\"translate(20.878125 26.117344)scale(0.1 -0.1)\">\r\n       <use xlink:href=\"#DejaVuSans-53\"/>\r\n       <use x=\"63.623047\" xlink:href=\"#DejaVuSans-56\"/>\r\n       <use x=\"127.246094\" xlink:href=\"#DejaVuSans-48\"/>\r\n      </g>\r\n     </g>\r\n    </g>\r\n    <g id=\"text_49\">\r\n     <!-- Sum Square Distance -->\r\n     <defs>\r\n      <path d=\"M 53.515625 70.515625 \r\nL 53.515625 60.890625 \r\nQ 47.90625 63.578125 42.921875 64.890625 \r\nQ 37.9375 66.21875 33.296875 66.21875 \r\nQ 25.25 66.21875 20.875 63.09375 \r\nQ 16.5 59.96875 16.5 54.203125 \r\nQ 16.5 49.359375 19.40625 46.890625 \r\nQ 22.3125 44.4375 30.421875 42.921875 \r\nL 36.375 41.703125 \r\nQ 47.40625 39.59375 52.65625 34.296875 \r\nQ 57.90625 29 57.90625 20.125 \r\nQ 57.90625 9.515625 50.796875 4.046875 \r\nQ 43.703125 -1.421875 29.984375 -1.421875 \r\nQ 24.8125 -1.421875 18.96875 -0.25 \r\nQ 13.140625 0.921875 6.890625 3.21875 \r\nL 6.890625 13.375 \r\nQ 12.890625 10.015625 18.65625 8.296875 \r\nQ 24.421875 6.59375 29.984375 6.59375 \r\nQ 38.421875 6.59375 43.015625 9.90625 \r\nQ 47.609375 13.234375 47.609375 19.390625 \r\nQ 47.609375 24.75 44.3125 27.78125 \r\nQ 41.015625 30.8125 33.5 32.328125 \r\nL 27.484375 33.5 \r\nQ 16.453125 35.6875 11.515625 40.375 \r\nQ 6.59375 45.0625 6.59375 53.421875 \r\nQ 6.59375 63.09375 13.40625 68.65625 \r\nQ 20.21875 74.21875 32.171875 74.21875 \r\nQ 37.3125 74.21875 42.625 73.28125 \r\nQ 47.953125 72.359375 53.515625 70.515625 \r\nz\r\n\" id=\"DejaVuSans-83\"/>\r\n      <path d=\"M 14.796875 27.296875 \r\nQ 14.796875 17.390625 18.875 11.75 \r\nQ 22.953125 6.109375 30.078125 6.109375 \r\nQ 37.203125 6.109375 41.296875 11.75 \r\nQ 45.40625 17.390625 45.40625 27.296875 \r\nQ 45.40625 37.203125 41.296875 42.84375 \r\nQ 37.203125 48.484375 30.078125 48.484375 \r\nQ 22.953125 48.484375 18.875 42.84375 \r\nQ 14.796875 37.203125 14.796875 27.296875 \r\nz\r\nM 45.40625 8.203125 \r\nQ 42.578125 3.328125 38.25 0.953125 \r\nQ 33.9375 -1.421875 27.875 -1.421875 \r\nQ 17.96875 -1.421875 11.734375 6.484375 \r\nQ 5.515625 14.40625 5.515625 27.296875 \r\nQ 5.515625 40.1875 11.734375 48.09375 \r\nQ 17.96875 56 27.875 56 \r\nQ 33.9375 56 38.25 53.625 \r\nQ 42.578125 51.265625 45.40625 46.390625 \r\nL 45.40625 54.6875 \r\nL 54.390625 54.6875 \r\nL 54.390625 -20.796875 \r\nL 45.40625 -20.796875 \r\nz\r\n\" id=\"DejaVuSans-113\"/>\r\n      <path d=\"M 34.28125 27.484375 \r\nQ 23.390625 27.484375 19.1875 25 \r\nQ 14.984375 22.515625 14.984375 16.5 \r\nQ 14.984375 11.71875 18.140625 8.90625 \r\nQ 21.296875 6.109375 26.703125 6.109375 \r\nQ 34.1875 6.109375 38.703125 11.40625 \r\nQ 43.21875 16.703125 43.21875 25.484375 \r\nL 43.21875 27.484375 \r\nz\r\nM 52.203125 31.203125 \r\nL 52.203125 0 \r\nL 43.21875 0 \r\nL 43.21875 8.296875 \r\nQ 40.140625 3.328125 35.546875 0.953125 \r\nQ 30.953125 -1.421875 24.3125 -1.421875 \r\nQ 15.921875 -1.421875 10.953125 3.296875 \r\nQ 6 8.015625 6 15.921875 \r\nQ 6 25.140625 12.171875 29.828125 \r\nQ 18.359375 34.515625 30.609375 34.515625 \r\nL 43.21875 34.515625 \r\nL 43.21875 35.40625 \r\nQ 43.21875 41.609375 39.140625 45 \r\nQ 35.0625 48.390625 27.6875 48.390625 \r\nQ 23 48.390625 18.546875 47.265625 \r\nQ 14.109375 46.140625 10.015625 43.890625 \r\nL 10.015625 52.203125 \r\nQ 14.9375 54.109375 19.578125 55.046875 \r\nQ 24.21875 56 28.609375 56 \r\nQ 40.484375 56 46.34375 49.84375 \r\nQ 52.203125 43.703125 52.203125 31.203125 \r\nz\r\n\" id=\"DejaVuSans-97\"/>\r\n      <path d=\"M 19.671875 64.796875 \r\nL 19.671875 8.109375 \r\nL 31.59375 8.109375 \r\nQ 46.6875 8.109375 53.6875 14.9375 \r\nQ 60.6875 21.78125 60.6875 36.53125 \r\nQ 60.6875 51.171875 53.6875 57.984375 \r\nQ 46.6875 64.796875 31.59375 64.796875 \r\nz\r\nM 9.8125 72.90625 \r\nL 30.078125 72.90625 \r\nQ 51.265625 72.90625 61.171875 64.09375 \r\nQ 71.09375 55.28125 71.09375 36.53125 \r\nQ 71.09375 17.671875 61.125 8.828125 \r\nQ 51.171875 0 30.078125 0 \r\nL 9.8125 0 \r\nz\r\n\" id=\"DejaVuSans-68\"/>\r\n      <path d=\"M 9.421875 54.6875 \r\nL 18.40625 54.6875 \r\nL 18.40625 0 \r\nL 9.421875 0 \r\nz\r\nM 9.421875 75.984375 \r\nL 18.40625 75.984375 \r\nL 18.40625 64.59375 \r\nL 9.421875 64.59375 \r\nz\r\n\" id=\"DejaVuSans-105\"/>\r\n     </defs>\r\n     <g transform=\"translate(14.798438 402.44375)rotate(-90)scale(0.1 -0.1)\">\r\n      <use xlink:href=\"#DejaVuSans-83\"/>\r\n      <use x=\"63.476562\" xlink:href=\"#DejaVuSans-117\"/>\r\n      <use x=\"126.855469\" xlink:href=\"#DejaVuSans-109\"/>\r\n      <use x=\"224.267578\" xlink:href=\"#DejaVuSans-32\"/>\r\n      <use x=\"256.054688\" xlink:href=\"#DejaVuSans-83\"/>\r\n      <use x=\"319.53125\" xlink:href=\"#DejaVuSans-113\"/>\r\n      <use x=\"383.007812\" xlink:href=\"#DejaVuSans-117\"/>\r\n      <use x=\"446.386719\" xlink:href=\"#DejaVuSans-97\"/>\r\n      <use x=\"507.666016\" xlink:href=\"#DejaVuSans-114\"/>\r\n      <use x=\"548.748047\" xlink:href=\"#DejaVuSans-101\"/>\r\n      <use x=\"610.271484\" xlink:href=\"#DejaVuSans-32\"/>\r\n      <use x=\"642.058594\" xlink:href=\"#DejaVuSans-68\"/>\r\n      <use x=\"719.060547\" xlink:href=\"#DejaVuSans-105\"/>\r\n      <use x=\"746.84375\" xlink:href=\"#DejaVuSans-115\"/>\r\n      <use x=\"798.943359\" xlink:href=\"#DejaVuSans-116\"/>\r\n      <use x=\"838.152344\" xlink:href=\"#DejaVuSans-97\"/>\r\n      <use x=\"899.431641\" xlink:href=\"#DejaVuSans-110\"/>\r\n      <use x=\"962.810547\" xlink:href=\"#DejaVuSans-99\"/>\r\n      <use x=\"1017.791016\" xlink:href=\"#DejaVuSans-101\"/>\r\n     </g>\r\n    </g>\r\n   </g>\r\n   <g id=\"line2d_95\">\r\n    <path clip-path=\"url(#p602cf4a5b4)\" d=\"M 80.613866 85.329766 \r\nL 114.262107 252.301355 \r\nL 147.910349 330.941639 \r\nL 181.55859 407.266873 \r\nL 215.206831 467.63367 \r\nL 248.855072 507.344423 \r\nL 282.503313 539.446919 \r\nL 316.151555 559.756672 \r\nL 349.799796 574.788078 \r\nL 383.448037 586.332542 \r\nL 417.096278 595.764737 \r\nL 450.744519 605.527154 \r\nL 484.392761 613.551675 \r\nL 518.041002 624.369393 \r\nL 551.689243 629.931622 \r\nL 585.337484 634.05139 \r\nL 618.985726 637.585437 \r\nL 652.633967 641.89341 \r\nL 686.282208 646.575822 \r\n\" style=\"fill:none;stroke:#ff0000;stroke-linecap:square;stroke-width:1.5;\"/>\r\n    <defs>\r\n     <path d=\"M 0 -3 \r\nL -0.673542 -0.927051 \r\nL -2.85317 -0.927051 \r\nL -1.089814 0.354102 \r\nL -1.763356 2.427051 \r\nL -0 1.145898 \r\nL 1.763356 2.427051 \r\nL 1.089814 0.354102 \r\nL 2.85317 -0.927051 \r\nL 0.673542 -0.927051 \r\nz\r\n\" id=\"md703a97fd1\" style=\"stroke:#ff0000;stroke-linejoin:bevel;\"/>\r\n    </defs>\r\n    <g clip-path=\"url(#p602cf4a5b4)\">\r\n     <use style=\"fill:#ff0000;stroke:#ff0000;stroke-linejoin:bevel;\" x=\"80.613866\" xlink:href=\"#md703a97fd1\" y=\"85.329766\"/>\r\n     <use style=\"fill:#ff0000;stroke:#ff0000;stroke-linejoin:bevel;\" x=\"114.262107\" xlink:href=\"#md703a97fd1\" y=\"252.301355\"/>\r\n     <use style=\"fill:#ff0000;stroke:#ff0000;stroke-linejoin:bevel;\" x=\"147.910349\" xlink:href=\"#md703a97fd1\" y=\"330.941639\"/>\r\n     <use style=\"fill:#ff0000;stroke:#ff0000;stroke-linejoin:bevel;\" x=\"181.55859\" xlink:href=\"#md703a97fd1\" y=\"407.266873\"/>\r\n     <use style=\"fill:#ff0000;stroke:#ff0000;stroke-linejoin:bevel;\" x=\"215.206831\" xlink:href=\"#md703a97fd1\" y=\"467.63367\"/>\r\n     <use style=\"fill:#ff0000;stroke:#ff0000;stroke-linejoin:bevel;\" x=\"248.855072\" xlink:href=\"#md703a97fd1\" y=\"507.344423\"/>\r\n     <use style=\"fill:#ff0000;stroke:#ff0000;stroke-linejoin:bevel;\" x=\"282.503313\" xlink:href=\"#md703a97fd1\" y=\"539.446919\"/>\r\n     <use style=\"fill:#ff0000;stroke:#ff0000;stroke-linejoin:bevel;\" x=\"316.151555\" xlink:href=\"#md703a97fd1\" y=\"559.756672\"/>\r\n     <use style=\"fill:#ff0000;stroke:#ff0000;stroke-linejoin:bevel;\" x=\"349.799796\" xlink:href=\"#md703a97fd1\" y=\"574.788078\"/>\r\n     <use style=\"fill:#ff0000;stroke:#ff0000;stroke-linejoin:bevel;\" x=\"383.448037\" xlink:href=\"#md703a97fd1\" y=\"586.332542\"/>\r\n     <use style=\"fill:#ff0000;stroke:#ff0000;stroke-linejoin:bevel;\" x=\"417.096278\" xlink:href=\"#md703a97fd1\" y=\"595.764737\"/>\r\n     <use style=\"fill:#ff0000;stroke:#ff0000;stroke-linejoin:bevel;\" x=\"450.744519\" xlink:href=\"#md703a97fd1\" y=\"605.527154\"/>\r\n     <use style=\"fill:#ff0000;stroke:#ff0000;stroke-linejoin:bevel;\" x=\"484.392761\" xlink:href=\"#md703a97fd1\" y=\"613.551675\"/>\r\n     <use style=\"fill:#ff0000;stroke:#ff0000;stroke-linejoin:bevel;\" x=\"518.041002\" xlink:href=\"#md703a97fd1\" y=\"624.369393\"/>\r\n     <use style=\"fill:#ff0000;stroke:#ff0000;stroke-linejoin:bevel;\" x=\"551.689243\" xlink:href=\"#md703a97fd1\" y=\"629.931622\"/>\r\n     <use style=\"fill:#ff0000;stroke:#ff0000;stroke-linejoin:bevel;\" x=\"585.337484\" xlink:href=\"#md703a97fd1\" y=\"634.05139\"/>\r\n     <use style=\"fill:#ff0000;stroke:#ff0000;stroke-linejoin:bevel;\" x=\"618.985726\" xlink:href=\"#md703a97fd1\" y=\"637.585437\"/>\r\n     <use style=\"fill:#ff0000;stroke:#ff0000;stroke-linejoin:bevel;\" x=\"652.633967\" xlink:href=\"#md703a97fd1\" y=\"641.89341\"/>\r\n     <use style=\"fill:#ff0000;stroke:#ff0000;stroke-linejoin:bevel;\" x=\"686.282208\" xlink:href=\"#md703a97fd1\" y=\"646.575822\"/>\r\n    </g>\r\n   </g>\r\n   <g id=\"patch_3\">\r\n    <path d=\"M 46.965625 674.638125 \r\nL 46.965625 22.318125 \r\n\" style=\"fill:none;stroke:#000000;stroke-linecap:square;stroke-linejoin:miter;stroke-width:0.8;\"/>\r\n   </g>\r\n   <g id=\"patch_4\">\r\n    <path d=\"M 716.565625 674.638125 \r\nL 716.565625 22.318125 \r\n\" style=\"fill:none;stroke:#000000;stroke-linecap:square;stroke-linejoin:miter;stroke-width:0.8;\"/>\r\n   </g>\r\n   <g id=\"patch_5\">\r\n    <path d=\"M 46.965625 674.638125 \r\nL 716.565625 674.638125 \r\n\" style=\"fill:none;stroke:#000000;stroke-linecap:square;stroke-linejoin:miter;stroke-width:0.8;\"/>\r\n   </g>\r\n   <g id=\"patch_6\">\r\n    <path d=\"M 46.965625 22.318125 \r\nL 716.565625 22.318125 \r\n\" style=\"fill:none;stroke:#000000;stroke-linecap:square;stroke-linejoin:miter;stroke-width:0.8;\"/>\r\n   </g>\r\n   <g id=\"text_50\">\r\n    <!-- Elbow Curve -->\r\n    <defs>\r\n     <path d=\"M 9.8125 72.90625 \r\nL 55.90625 72.90625 \r\nL 55.90625 64.59375 \r\nL 19.671875 64.59375 \r\nL 19.671875 43.015625 \r\nL 54.390625 43.015625 \r\nL 54.390625 34.71875 \r\nL 19.671875 34.71875 \r\nL 19.671875 8.296875 \r\nL 56.78125 8.296875 \r\nL 56.78125 0 \r\nL 9.8125 0 \r\nz\r\n\" id=\"DejaVuSans-69\"/>\r\n     <path d=\"M 4.203125 54.6875 \r\nL 13.1875 54.6875 \r\nL 24.421875 12.015625 \r\nL 35.59375 54.6875 \r\nL 46.1875 54.6875 \r\nL 57.421875 12.015625 \r\nL 68.609375 54.6875 \r\nL 77.59375 54.6875 \r\nL 63.28125 0 \r\nL 52.6875 0 \r\nL 40.921875 44.828125 \r\nL 29.109375 0 \r\nL 18.5 0 \r\nz\r\n\" id=\"DejaVuSans-119\"/>\r\n     <path d=\"M 64.40625 67.28125 \r\nL 64.40625 56.890625 \r\nQ 59.421875 61.53125 53.78125 63.8125 \r\nQ 48.140625 66.109375 41.796875 66.109375 \r\nQ 29.296875 66.109375 22.65625 58.46875 \r\nQ 16.015625 50.828125 16.015625 36.375 \r\nQ 16.015625 21.96875 22.65625 14.328125 \r\nQ 29.296875 6.6875 41.796875 6.6875 \r\nQ 48.140625 6.6875 53.78125 8.984375 \r\nQ 59.421875 11.28125 64.40625 15.921875 \r\nL 64.40625 5.609375 \r\nQ 59.234375 2.09375 53.4375 0.328125 \r\nQ 47.65625 -1.421875 41.21875 -1.421875 \r\nQ 24.65625 -1.421875 15.125 8.703125 \r\nQ 5.609375 18.84375 5.609375 36.375 \r\nQ 5.609375 53.953125 15.125 64.078125 \r\nQ 24.65625 74.21875 41.21875 74.21875 \r\nQ 47.75 74.21875 53.53125 72.484375 \r\nQ 59.328125 70.75 64.40625 67.28125 \r\nz\r\n\" id=\"DejaVuSans-67\"/>\r\n     <path d=\"M 2.984375 54.6875 \r\nL 12.5 54.6875 \r\nL 29.59375 8.796875 \r\nL 46.6875 54.6875 \r\nL 56.203125 54.6875 \r\nL 35.6875 0 \r\nL 23.484375 0 \r\nz\r\n\" id=\"DejaVuSans-118\"/>\r\n    </defs>\r\n    <g transform=\"translate(344.311562 16.318125)scale(0.12 -0.12)\">\r\n     <use xlink:href=\"#DejaVuSans-69\"/>\r\n     <use x=\"63.183594\" xlink:href=\"#DejaVuSans-108\"/>\r\n     <use x=\"90.966797\" xlink:href=\"#DejaVuSans-98\"/>\r\n     <use x=\"154.443359\" xlink:href=\"#DejaVuSans-111\"/>\r\n     <use x=\"215.625\" xlink:href=\"#DejaVuSans-119\"/>\r\n     <use x=\"297.412109\" xlink:href=\"#DejaVuSans-32\"/>\r\n     <use x=\"329.199219\" xlink:href=\"#DejaVuSans-67\"/>\r\n     <use x=\"399.023438\" xlink:href=\"#DejaVuSans-117\"/>\r\n     <use x=\"462.402344\" xlink:href=\"#DejaVuSans-114\"/>\r\n     <use x=\"503.515625\" xlink:href=\"#DejaVuSans-118\"/>\r\n     <use x=\"562.695312\" xlink:href=\"#DejaVuSans-101\"/>\r\n    </g>\r\n   </g>\r\n  </g>\r\n </g>\r\n <defs>\r\n  <clipPath id=\"p602cf4a5b4\">\r\n   <rect height=\"652.32\" width=\"669.6\" x=\"46.965625\" y=\"22.318125\"/>\r\n  </clipPath>\r\n </defs>\r\n</svg>\r\n",
      "image/png": "[encoded data removed]"
     },
     "metadata": {
      "needs_background": "light"
     }
    }
   ],
   "source": [
    "score = np.absolute(score)\n",
    "\n",
    "plt.figure(figsize = (12,12))\n",
    "plt.plot(n_classes, score, 'r', marker = \"*\")\n",
    "plt.xlabel('number of clusters')\n",
    "plt.ylabel('Sum Square Distance')\n",
    "plt.title('Elbow Curve')\n",
    "plt.yticks([x for x in range(60,600,20)])\n",
    "plt.xticks([x for x in range(0,20)])\n",
    "plt.grid()\n",
    "plt.show()"
   ]
  },
  {
   "cell_type": "code",
   "execution_count": 177,
   "metadata": {},
   "outputs": [
    {
     "output_type": "execute_result",
     "data": {
      "text/plain": [
       "KMeans(algorithm='auto', copy_x=True, init='k-means++', max_iter=300,\n",
       "       n_clusters=14, n_init=10, n_jobs=None, precompute_distances='auto',\n",
       "       random_state=42, tol=0.0001, verbose=0)"
      ]
     },
     "metadata": {},
     "execution_count": 177
    }
   ],
   "source": [
    "kmeans = KMeans(n_clusters = 14, random_state = 42)\n",
    "kmeans.fit(new_file)"
   ]
  },
  {
   "cell_type": "code",
   "execution_count": 178,
   "metadata": {},
   "outputs": [],
   "source": [
    "category = list(kmeans.labels_)"
   ]
  },
  {
   "cell_type": "code",
   "execution_count": 179,
   "metadata": {},
   "outputs": [],
   "source": [
    "file['Category'] = category"
   ]
  },
  {
   "cell_type": "code",
   "execution_count": 180,
   "metadata": {},
   "outputs": [
    {
     "output_type": "execute_result",
     "data": {
      "text/plain": [
       "          Date                     Description  InternationTransactionAmount  \\\n",
       "0   12/12/2019                THE ROOM GURGAON                           0.0   \n",
       "1   12/12/2019           CUT AND STYLE GURGAON                           0.0   \n",
       "2   12/12/2019                  MUMUSO GURGAON                           0.0   \n",
       "3   12/12/2019                THE ROOM GURGAON                           0.0   \n",
       "4   12/12/2019                THE ROOM GURGAON                           0.0   \n",
       "5   13-12-2019              JAIPUR SPACEJAIPUR                           0.0   \n",
       "6   13-12-2019       CAFE COFFEE DAYHIGHWAY KI                           0.0   \n",
       "7   14-12-2019       CAFE COFFEE DAYALANKAR PL                           0.0   \n",
       "8   15-12-2019  LIFE STYLE INTERNATIONA JAIPUR                           0.0   \n",
       "9   15-12-2019                 NEW U 47 JAIPUR                           0.0   \n",
       "10  15-12-2019       COCONUT RESTAURANT JAIPUR                           0.0   \n",
       "11  15-12-2019       CAFE COFFEE DAYALANKAR PL                           0.0   \n",
       "12  16-12-2019                      UCB JAIPUR                           0.0   \n",
       "13  16-12-2019  HILTON GARDEN INN GURG GURGAON                           0.0   \n",
       "14  16-12-2019       CAFE COFFEE DAYHIGHWAY KI                           0.0   \n",
       "15  16-12-2019                      UCB JAIPUR                           0.0   \n",
       "16  17-12-2019                THE ROOM GURGAON                           0.0   \n",
       "17  17-12-2019     FLIPKART PAYMENTS BANGALORE                           0.0   \n",
       "18  17-12-2019            PLANET NEEDS GURGAON                           0.0   \n",
       "19  17-12-2019            PLANET NEEDS GURGAON                           0.0   \n",
       "20  17-12-2019            PLANET NEEDS GURGAON                           0.0   \n",
       "21  18-12-2019                   SAVVY GURGAON                           0.0   \n",
       "22  18-12-2019                THE ROOM GURGAON                           0.0   \n",
       "23  18-12-2019         WWW OLACABS COM GURGAON                           0.0   \n",
       "24  18-12-2019       SURYA AND COMPANY GURGAON                           0.0   \n",
       "25  18-12-2019      BATA INDIA LIMITED GURGAON                           0.0   \n",
       "26  19-12-2019    MEENAKSHI COLLECTION GURGAON                           0.0   \n",
       "27  19-12-2019                THE ROOM GURGAON                           0.0   \n",
       "28  19-12-2019               KEVENTERS GURGAON                           0.0   \n",
       "29  19-12-2019           LIVE PHARMACY GURGAON                           0.0   \n",
       "\n",
       "    Category    Amount TransactionUserName TransactionType IsoCurrency  \\\n",
       "0         13   -127.00       VIBHORE GOYAL        DOMESTIC         INR   \n",
       "1          4   -499.00         JASJIT KAUR        DOMESTIC         INR   \n",
       "2          5   -388.00         JASJIT KAUR        DOMESTIC         INR   \n",
       "3         13   -108.00       VIBHORE GOYAL        DOMESTIC         INR   \n",
       "4         13    -50.00       VIBHORE GOYAL        DOMESTIC         INR   \n",
       "5          5   -360.00         JASJIT KAUR        DOMESTIC         INR   \n",
       "6          8   -286.00         JASJIT KAUR        DOMESTIC         INR   \n",
       "7          8   -786.00         JASJIT KAUR        DOMESTIC         INR   \n",
       "8          0  -1698.00       VIBHORE GOYAL        DOMESTIC         INR   \n",
       "9          0  -1890.00       VIBHORE GOYAL        DOMESTIC         INR   \n",
       "10         4   -715.00         JASJIT KAUR        DOMESTIC         INR   \n",
       "11         8   -591.00         JASJIT KAUR        DOMESTIC         INR   \n",
       "12         3   -325.00         JASJIT KAUR        DOMESTIC         INR   \n",
       "13         4   -554.33         JASJIT KAUR        DOMESTIC         INR   \n",
       "14         8   -236.00         JASJIT KAUR        DOMESTIC         INR   \n",
       "15         3 -11690.00         JASJIT KAUR        DOMESTIC         INR   \n",
       "16        13    -75.00       VIBHORE GOYAL        DOMESTIC         INR   \n",
       "17         2   -439.00       VIBHORE GOYAL        DOMESTIC         INR   \n",
       "18         5    -83.00         JASJIT KAUR        DOMESTIC         INR   \n",
       "19         5   -772.00         JASJIT KAUR        DOMESTIC         INR   \n",
       "20         5    -85.00         JASJIT KAUR        DOMESTIC         INR   \n",
       "21         3   -449.00         JASJIT KAUR        DOMESTIC         INR   \n",
       "22        13    -50.00       VIBHORE GOYAL        DOMESTIC         INR   \n",
       "23        13     -1.00       VIBHORE GOYAL        DOMESTIC         INR   \n",
       "24         5  -1590.00         JASJIT KAUR        DOMESTIC         INR   \n",
       "25         8   -249.00         JASJIT KAUR        DOMESTIC         INR   \n",
       "26         5   -950.00         JASJIT KAUR        DOMESTIC         INR   \n",
       "27         3   -231.00         JASJIT KAUR        DOMESTIC         INR   \n",
       "28         7   -246.00         JASJIT KAUR        DOMESTIC         INR   \n",
       "29         5    -90.00         JASJIT KAUR        DOMESTIC         INR   \n",
       "\n",
       "             Locality       City      State Country  \n",
       "0     CENTRAL PARK II   GURUGRAM    HARYANA   INDIA  \n",
       "1            SECTOR 4   GURUGRAM    HARYANA   INDIA  \n",
       "2           SECTOR 49   GURUGRAM    HARYANA   INDIA  \n",
       "3     CENTRAL PARK II   GURUGRAM    HARYANA   INDIA  \n",
       "4     CENTRAL PARK II   GURUGRAM    HARYANA   INDIA  \n",
       "5            SECTOR 9     JAIPUR  RAJASTHAN   INDIA  \n",
       "6     CENTRAL PARK II   GURUGRAM    HARYANA   INDIA  \n",
       "7     CENTRAL PARK II   GURUGRAM    HARYANA   INDIA  \n",
       "8     DURGADAS COLONY     JAIPUR  RAJASTHAN   INDIA  \n",
       "9              JAIPUR     JAIPUR  RAJASTHAN   INDIA  \n",
       "10       SUBASH NAGAR     JAIPUR  RAJASTHAN   INDIA  \n",
       "11    CENTRAL PARK II   GURUGRAM    HARYANA   INDIA  \n",
       "12         BAPU NAGAR     JAIPUR  RAJASTHAN   INDIA  \n",
       "13          SECTOR 50   GURUGRAM    HARYANA   INDIA  \n",
       "14    CENTRAL PARK II   GURUGRAM    HARYANA   INDIA  \n",
       "15         BAPU NAGAR     JAIPUR  RAJASTHAN   INDIA  \n",
       "16    CENTRAL PARK II   GURUGRAM    HARYANA   INDIA  \n",
       "17          3RD BLOCK  BENGALURU  KARNATAKA   INDIA  \n",
       "18          SECTOR 42   GURUGRAM    HARYANA   INDIA  \n",
       "19          SECTOR 42   GURUGRAM    HARYANA   INDIA  \n",
       "20          SECTOR 42   GURUGRAM    HARYANA   INDIA  \n",
       "21    GALLERIA MARKET   GURUGRAM    HARYANA   INDIA  \n",
       "22    CENTRAL PARK II   GURUGRAM    HARYANA   INDIA  \n",
       "23  DUNDAHERA VILLAGE   GURUGRAM    HARYANA   INDIA  \n",
       "24      SOUTH CITY II   GURUGRAM    HARYANA   INDIA  \n",
       "25         DLF COLONY   GURUGRAM    HARYANA   INDIA  \n",
       "26           POCKET H   GURUGRAM    HARYANA   INDIA  \n",
       "27    CENTRAL PARK II   GURUGRAM    HARYANA   INDIA  \n",
       "28        DLF PHASE 2   GURUGRAM    HARYANA   INDIA  \n",
       "29           POCKET C   GURUGRAM    HARYANA   INDIA  "
      ],
      "text/html": "<div>\n<style scoped>\n    .dataframe tbody tr th:only-of-type {\n        vertical-align: middle;\n    }\n\n    .dataframe tbody tr th {\n        vertical-align: top;\n    }\n\n    .dataframe thead th {\n        text-align: right;\n    }\n</style>\n<table border=\"1\" class=\"dataframe\">\n  <thead>\n    <tr style=\"text-align: right;\">\n      <th></th>\n      <th>Date</th>\n      <th>Description</th>\n      <th>InternationTransactionAmount</th>\n      <th>Category</th>\n      <th>Amount</th>\n      <th>TransactionUserName</th>\n      <th>TransactionType</th>\n      <th>IsoCurrency</th>\n      <th>Locality</th>\n      <th>City</th>\n      <th>State</th>\n      <th>Country</th>\n    </tr>\n  </thead>\n  <tbody>\n    <tr>\n      <th>0</th>\n      <td>12/12/2019</td>\n      <td>THE ROOM GURGAON</td>\n      <td>0.0</td>\n      <td>13</td>\n      <td>-127.00</td>\n      <td>VIBHORE GOYAL</td>\n      <td>DOMESTIC</td>\n      <td>INR</td>\n      <td>CENTRAL PARK II</td>\n      <td>GURUGRAM</td>\n      <td>HARYANA</td>\n      <td>INDIA</td>\n    </tr>\n    <tr>\n      <th>1</th>\n      <td>12/12/2019</td>\n      <td>CUT AND STYLE GURGAON</td>\n      <td>0.0</td>\n      <td>4</td>\n      <td>-499.00</td>\n      <td>JASJIT KAUR</td>\n      <td>DOMESTIC</td>\n      <td>INR</td>\n      <td>SECTOR 4</td>\n      <td>GURUGRAM</td>\n      <td>HARYANA</td>\n      <td>INDIA</td>\n    </tr>\n    <tr>\n      <th>2</th>\n      <td>12/12/2019</td>\n      <td>MUMUSO GURGAON</td>\n      <td>0.0</td>\n      <td>5</td>\n      <td>-388.00</td>\n      <td>JASJIT KAUR</td>\n      <td>DOMESTIC</td>\n      <td>INR</td>\n      <td>SECTOR 49</td>\n      <td>GURUGRAM</td>\n      <td>HARYANA</td>\n      <td>INDIA</td>\n    </tr>\n    <tr>\n      <th>3</th>\n      <td>12/12/2019</td>\n      <td>THE ROOM GURGAON</td>\n      <td>0.0</td>\n      <td>13</td>\n      <td>-108.00</td>\n      <td>VIBHORE GOYAL</td>\n      <td>DOMESTIC</td>\n      <td>INR</td>\n      <td>CENTRAL PARK II</td>\n      <td>GURUGRAM</td>\n      <td>HARYANA</td>\n      <td>INDIA</td>\n    </tr>\n    <tr>\n      <th>4</th>\n      <td>12/12/2019</td>\n      <td>THE ROOM GURGAON</td>\n      <td>0.0</td>\n      <td>13</td>\n      <td>-50.00</td>\n      <td>VIBHORE GOYAL</td>\n      <td>DOMESTIC</td>\n      <td>INR</td>\n      <td>CENTRAL PARK II</td>\n      <td>GURUGRAM</td>\n      <td>HARYANA</td>\n      <td>INDIA</td>\n    </tr>\n    <tr>\n      <th>5</th>\n      <td>13-12-2019</td>\n      <td>JAIPUR SPACEJAIPUR</td>\n      <td>0.0</td>\n      <td>5</td>\n      <td>-360.00</td>\n      <td>JASJIT KAUR</td>\n      <td>DOMESTIC</td>\n      <td>INR</td>\n      <td>SECTOR 9</td>\n      <td>JAIPUR</td>\n      <td>RAJASTHAN</td>\n      <td>INDIA</td>\n    </tr>\n    <tr>\n      <th>6</th>\n      <td>13-12-2019</td>\n      <td>CAFE COFFEE DAYHIGHWAY KI</td>\n      <td>0.0</td>\n      <td>8</td>\n      <td>-286.00</td>\n      <td>JASJIT KAUR</td>\n      <td>DOMESTIC</td>\n      <td>INR</td>\n      <td>CENTRAL PARK II</td>\n      <td>GURUGRAM</td>\n      <td>HARYANA</td>\n      <td>INDIA</td>\n    </tr>\n    <tr>\n      <th>7</th>\n      <td>14-12-2019</td>\n      <td>CAFE COFFEE DAYALANKAR PL</td>\n      <td>0.0</td>\n      <td>8</td>\n      <td>-786.00</td>\n      <td>JASJIT KAUR</td>\n      <td>DOMESTIC</td>\n      <td>INR</td>\n      <td>CENTRAL PARK II</td>\n      <td>GURUGRAM</td>\n      <td>HARYANA</td>\n      <td>INDIA</td>\n    </tr>\n    <tr>\n      <th>8</th>\n      <td>15-12-2019</td>\n      <td>LIFE STYLE INTERNATIONA JAIPUR</td>\n      <td>0.0</td>\n      <td>0</td>\n      <td>-1698.00</td>\n      <td>VIBHORE GOYAL</td>\n      <td>DOMESTIC</td>\n      <td>INR</td>\n      <td>DURGADAS COLONY</td>\n      <td>JAIPUR</td>\n      <td>RAJASTHAN</td>\n      <td>INDIA</td>\n    </tr>\n    <tr>\n      <th>9</th>\n      <td>15-12-2019</td>\n      <td>NEW U 47 JAIPUR</td>\n      <td>0.0</td>\n      <td>0</td>\n      <td>-1890.00</td>\n      <td>VIBHORE GOYAL</td>\n      <td>DOMESTIC</td>\n      <td>INR</td>\n      <td>JAIPUR</td>\n      <td>JAIPUR</td>\n      <td>RAJASTHAN</td>\n      <td>INDIA</td>\n    </tr>\n    <tr>\n      <th>10</th>\n      <td>15-12-2019</td>\n      <td>COCONUT RESTAURANT JAIPUR</td>\n      <td>0.0</td>\n      <td>4</td>\n      <td>-715.00</td>\n      <td>JASJIT KAUR</td>\n      <td>DOMESTIC</td>\n      <td>INR</td>\n      <td>SUBASH NAGAR</td>\n      <td>JAIPUR</td>\n      <td>RAJASTHAN</td>\n      <td>INDIA</td>\n    </tr>\n    <tr>\n      <th>11</th>\n      <td>15-12-2019</td>\n      <td>CAFE COFFEE DAYALANKAR PL</td>\n      <td>0.0</td>\n      <td>8</td>\n      <td>-591.00</td>\n      <td>JASJIT KAUR</td>\n      <td>DOMESTIC</td>\n      <td>INR</td>\n      <td>CENTRAL PARK II</td>\n      <td>GURUGRAM</td>\n      <td>HARYANA</td>\n      <td>INDIA</td>\n    </tr>\n    <tr>\n      <th>12</th>\n      <td>16-12-2019</td>\n      <td>UCB JAIPUR</td>\n      <td>0.0</td>\n      <td>3</td>\n      <td>-325.00</td>\n      <td>JASJIT KAUR</td>\n      <td>DOMESTIC</td>\n      <td>INR</td>\n      <td>BAPU NAGAR</td>\n      <td>JAIPUR</td>\n      <td>RAJASTHAN</td>\n      <td>INDIA</td>\n    </tr>\n    <tr>\n      <th>13</th>\n      <td>16-12-2019</td>\n      <td>HILTON GARDEN INN GURG GURGAON</td>\n      <td>0.0</td>\n      <td>4</td>\n      <td>-554.33</td>\n      <td>JASJIT KAUR</td>\n      <td>DOMESTIC</td>\n      <td>INR</td>\n      <td>SECTOR 50</td>\n      <td>GURUGRAM</td>\n      <td>HARYANA</td>\n      <td>INDIA</td>\n    </tr>\n    <tr>\n      <th>14</th>\n      <td>16-12-2019</td>\n      <td>CAFE COFFEE DAYHIGHWAY KI</td>\n      <td>0.0</td>\n      <td>8</td>\n      <td>-236.00</td>\n      <td>JASJIT KAUR</td>\n      <td>DOMESTIC</td>\n      <td>INR</td>\n      <td>CENTRAL PARK II</td>\n      <td>GURUGRAM</td>\n      <td>HARYANA</td>\n      <td>INDIA</td>\n    </tr>\n    <tr>\n      <th>15</th>\n      <td>16-12-2019</td>\n      <td>UCB JAIPUR</td>\n      <td>0.0</td>\n      <td>3</td>\n      <td>-11690.00</td>\n      <td>JASJIT KAUR</td>\n      <td>DOMESTIC</td>\n      <td>INR</td>\n      <td>BAPU NAGAR</td>\n      <td>JAIPUR</td>\n      <td>RAJASTHAN</td>\n      <td>INDIA</td>\n    </tr>\n    <tr>\n      <th>16</th>\n      <td>17-12-2019</td>\n      <td>THE ROOM GURGAON</td>\n      <td>0.0</td>\n      <td>13</td>\n      <td>-75.00</td>\n      <td>VIBHORE GOYAL</td>\n      <td>DOMESTIC</td>\n      <td>INR</td>\n      <td>CENTRAL PARK II</td>\n      <td>GURUGRAM</td>\n      <td>HARYANA</td>\n      <td>INDIA</td>\n    </tr>\n    <tr>\n      <th>17</th>\n      <td>17-12-2019</td>\n      <td>FLIPKART PAYMENTS BANGALORE</td>\n      <td>0.0</td>\n      <td>2</td>\n      <td>-439.00</td>\n      <td>VIBHORE GOYAL</td>\n      <td>DOMESTIC</td>\n      <td>INR</td>\n      <td>3RD BLOCK</td>\n      <td>BENGALURU</td>\n      <td>KARNATAKA</td>\n      <td>INDIA</td>\n    </tr>\n    <tr>\n      <th>18</th>\n      <td>17-12-2019</td>\n      <td>PLANET NEEDS GURGAON</td>\n      <td>0.0</td>\n      <td>5</td>\n      <td>-83.00</td>\n      <td>JASJIT KAUR</td>\n      <td>DOMESTIC</td>\n      <td>INR</td>\n      <td>SECTOR 42</td>\n      <td>GURUGRAM</td>\n      <td>HARYANA</td>\n      <td>INDIA</td>\n    </tr>\n    <tr>\n      <th>19</th>\n      <td>17-12-2019</td>\n      <td>PLANET NEEDS GURGAON</td>\n      <td>0.0</td>\n      <td>5</td>\n      <td>-772.00</td>\n      <td>JASJIT KAUR</td>\n      <td>DOMESTIC</td>\n      <td>INR</td>\n      <td>SECTOR 42</td>\n      <td>GURUGRAM</td>\n      <td>HARYANA</td>\n      <td>INDIA</td>\n    </tr>\n    <tr>\n      <th>20</th>\n      <td>17-12-2019</td>\n      <td>PLANET NEEDS GURGAON</td>\n      <td>0.0</td>\n      <td>5</td>\n      <td>-85.00</td>\n      <td>JASJIT KAUR</td>\n      <td>DOMESTIC</td>\n      <td>INR</td>\n      <td>SECTOR 42</td>\n      <td>GURUGRAM</td>\n      <td>HARYANA</td>\n      <td>INDIA</td>\n    </tr>\n    <tr>\n      <th>21</th>\n      <td>18-12-2019</td>\n      <td>SAVVY GURGAON</td>\n      <td>0.0</td>\n      <td>3</td>\n      <td>-449.00</td>\n      <td>JASJIT KAUR</td>\n      <td>DOMESTIC</td>\n      <td>INR</td>\n      <td>GALLERIA MARKET</td>\n      <td>GURUGRAM</td>\n      <td>HARYANA</td>\n      <td>INDIA</td>\n    </tr>\n    <tr>\n      <th>22</th>\n      <td>18-12-2019</td>\n      <td>THE ROOM GURGAON</td>\n      <td>0.0</td>\n      <td>13</td>\n      <td>-50.00</td>\n      <td>VIBHORE GOYAL</td>\n      <td>DOMESTIC</td>\n      <td>INR</td>\n      <td>CENTRAL PARK II</td>\n      <td>GURUGRAM</td>\n      <td>HARYANA</td>\n      <td>INDIA</td>\n    </tr>\n    <tr>\n      <th>23</th>\n      <td>18-12-2019</td>\n      <td>WWW OLACABS COM GURGAON</td>\n      <td>0.0</td>\n      <td>13</td>\n      <td>-1.00</td>\n      <td>VIBHORE GOYAL</td>\n      <td>DOMESTIC</td>\n      <td>INR</td>\n      <td>DUNDAHERA VILLAGE</td>\n      <td>GURUGRAM</td>\n      <td>HARYANA</td>\n      <td>INDIA</td>\n    </tr>\n    <tr>\n      <th>24</th>\n      <td>18-12-2019</td>\n      <td>SURYA AND COMPANY GURGAON</td>\n      <td>0.0</td>\n      <td>5</td>\n      <td>-1590.00</td>\n      <td>JASJIT KAUR</td>\n      <td>DOMESTIC</td>\n      <td>INR</td>\n      <td>SOUTH CITY II</td>\n      <td>GURUGRAM</td>\n      <td>HARYANA</td>\n      <td>INDIA</td>\n    </tr>\n    <tr>\n      <th>25</th>\n      <td>18-12-2019</td>\n      <td>BATA INDIA LIMITED GURGAON</td>\n      <td>0.0</td>\n      <td>8</td>\n      <td>-249.00</td>\n      <td>JASJIT KAUR</td>\n      <td>DOMESTIC</td>\n      <td>INR</td>\n      <td>DLF COLONY</td>\n      <td>GURUGRAM</td>\n      <td>HARYANA</td>\n      <td>INDIA</td>\n    </tr>\n    <tr>\n      <th>26</th>\n      <td>19-12-2019</td>\n      <td>MEENAKSHI COLLECTION GURGAON</td>\n      <td>0.0</td>\n      <td>5</td>\n      <td>-950.00</td>\n      <td>JASJIT KAUR</td>\n      <td>DOMESTIC</td>\n      <td>INR</td>\n      <td>POCKET H</td>\n      <td>GURUGRAM</td>\n      <td>HARYANA</td>\n      <td>INDIA</td>\n    </tr>\n    <tr>\n      <th>27</th>\n      <td>19-12-2019</td>\n      <td>THE ROOM GURGAON</td>\n      <td>0.0</td>\n      <td>3</td>\n      <td>-231.00</td>\n      <td>JASJIT KAUR</td>\n      <td>DOMESTIC</td>\n      <td>INR</td>\n      <td>CENTRAL PARK II</td>\n      <td>GURUGRAM</td>\n      <td>HARYANA</td>\n      <td>INDIA</td>\n    </tr>\n    <tr>\n      <th>28</th>\n      <td>19-12-2019</td>\n      <td>KEVENTERS GURGAON</td>\n      <td>0.0</td>\n      <td>7</td>\n      <td>-246.00</td>\n      <td>JASJIT KAUR</td>\n      <td>DOMESTIC</td>\n      <td>INR</td>\n      <td>DLF PHASE 2</td>\n      <td>GURUGRAM</td>\n      <td>HARYANA</td>\n      <td>INDIA</td>\n    </tr>\n    <tr>\n      <th>29</th>\n      <td>19-12-2019</td>\n      <td>LIVE PHARMACY GURGAON</td>\n      <td>0.0</td>\n      <td>5</td>\n      <td>-90.00</td>\n      <td>JASJIT KAUR</td>\n      <td>DOMESTIC</td>\n      <td>INR</td>\n      <td>POCKET C</td>\n      <td>GURUGRAM</td>\n      <td>HARYANA</td>\n      <td>INDIA</td>\n    </tr>\n  </tbody>\n</table>\n</div>"
     },
     "metadata": {},
     "execution_count": 180
    }
   ],
   "source": [
    "file.head(30)"
   ]
  },
  {
   "cell_type": "code",
   "execution_count": null,
   "metadata": {},
   "outputs": [],
   "source": [
    "clusters = kmeans.predict(new_file)"
   ]
  }
 ]
}